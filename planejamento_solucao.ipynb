{
 "cells": [
  {
   "cell_type": "markdown",
   "id": "25b39340",
   "metadata": {},
   "source": [
    "# <font color=\"red\">Hackday - Dados Inglórios</font>"
   ]
  },
  {
   "cell_type": "markdown",
   "id": "494e5b2f",
   "metadata": {},
   "source": [
    "## Planejamento da Solução"
   ]
  },
  {
   "cell_type": "markdown",
   "id": "5c6c98f1",
   "metadata": {},
   "source": [
    "### Input"
   ]
  },
  {
   "cell_type": "markdown",
   "id": "839f0e29",
   "metadata": {},
   "source": [
    "**Problema de Negócio**"
   ]
  },
  {
   "cell_type": "markdown",
   "id": "fd883f40",
   "metadata": {},
   "source": [
    "A inclusão financeira continua a ser um dos principais obstáculos ao desenvolvimento econômico e humano na África. Por exemplo, no Quênia, Ruanda, Tanzânia e Uganda, apenas 9,1 milhões de adultos (14% dos adultos), têm acesso ou usam uma conta bancária comercial.\n",
    "\n",
    "Em 2008, o nível de inclusão financeira na África Subsaariana era de pouco mais de 23%. Em 2018, esse número quase dobrou. No Togo, Mazamesso Assih, ministro de finanças, coordena uma estratégia de inclusão financeira com bancos parceiros. Ele afirma que garantir acesso a serviços financeiros básicos para a população, é fundamental para impulsionar a economia Africana.\n",
    "\n",
    "Em 2022, conforme destacado no último relatório do Banco Central da África Ocidental, atingiu-se uma das mais altas taxas de inclusão financeira da região, próxima de 82%. Uma parcela significativa desse aumento veio do aumento dos serviços financeiros digitais.\n",
    "\n",
    "Assih afirma também, que existem três razões principais pelas quais as nações africanas devem apostar na inclusão financeira:\n",
    "\n",
    " 1. Tornar os serviços financeiros mais acessíveis promove o empoderamento das pessoas mais vulneráveis, especialmente as mulheres.\n",
    " 2. Combater redes criminosas, passar de uma economia exclusivamente monetária para uma infraestrutura financeira digital torna mais fácil para as autoridades rastrear transações e lidar com contrabandistas e traficantes.\n",
    " 3. impulsionará a conectividade dos setores público e privado para um crescimento sustentável, apoiando as start-ups africanas.\n",
    " \n",
    "O objetivo desta competição é criar um modelo de aprendizado de máquina para prever quais indivíduos vão ou não utilizar uma conta bancária. Os modelos e soluções desenvolvidos devem fornecer uma indicação do estado da inclusão financeira no Quênia, Ruanda, Tanzânia e Uganda.\n",
    "\n"
   ]
  },
  {
   "cell_type": "markdown",
   "id": "8fd40c76",
   "metadata": {},
   "source": [
    "**Dados**"
   ]
  },
  {
   "cell_type": "markdown",
   "id": "a79b7594",
   "metadata": {},
   "source": [
    "Os dados necessários podem ser encontrados no [repositório da atividade](https://www.kaggle.com/c/inclusao-financeira-na-africa). No arquivo train.csv você encontrará:\n",
    "\n",
    "|Feature|Descrição|\n",
    "|:------|:--------|\n",
    "|country| Pais de Origem.\n",
    "|year| Ano da Inclusão\n",
    "|uniqueid| Id do Usuário.\n",
    "|bank_account| Possui ou Não a Conta no Banco.\n",
    "|location_type| Tipo de Localidade (Rural...)\n",
    "|cellphone_access| Possui ou Não Celular.\n",
    "|household_size| Tamanho da Casa.\n",
    "|age_of_respondent| Idade do Usuário.\n",
    "|gender_of_respondent| Gênero do Usuário.\n",
    "|relationship_with_head| Status com o Dono da Conta.\n",
    "|marital_status| Situação Civil.\n",
    "|education_level| Nível de Educação.\n",
    "|job_type| Tipo de Trabalho."
   ]
  },
  {
   "cell_type": "markdown",
   "id": "ff1e9f2a",
   "metadata": {},
   "source": [
    "### Output"
   ]
  },
  {
   "attachments": {},
   "cell_type": "markdown",
   "id": "fa286382",
   "metadata": {},
   "source": [
    "Um arquivo CSV com a previsão do modelo dizendo quais clientes abrirão uma conta digital em duas colunas:  \n",
    "\n",
    "|uid|\tbank_account|\n",
    "|:--|:--------------|\n",
    "|Rwanda_uniqueid_625|\tNo|\n",
    "|Rwanda_uniqueid_1561|\tNo|\n",
    "|Rwanda_uniqueid_4806|\tNo|\n",
    "|Tanzania_uniqueid_4902|\tYes|\n",
    "|Rwanda_uniqueid_980|\tNo|\n",
    "|Rwanda_uniqueid_7043|\tNo|"
   ]
  },
  {
   "cell_type": "markdown",
   "id": "a5a567b8",
   "metadata": {},
   "source": [
    "### Tasks"
   ]
  },
  {
   "cell_type": "markdown",
   "id": "49f9b728",
   "metadata": {},
   "source": [
    "- Descrição dos Dados\n",
    "    - Renomear colunas\n",
    "    - Checar dimenões\n",
    "    - Checar tipos\n",
    "    - Alterar tipos\n",
    "    - Checar vazios\n",
    "    - Preencher os vazios\n",
    "    - Descrições Estatísticas\n",
    "\n",
    "- Feature Engineering\n",
    "    - Mapa de hipóteses\n",
    "    - Criação de hipóteses\n",
    "- Seleção de features (Filtro)\n",
    "- EDA\n",
    "    - Univariada\n",
    "    - Bivariada (teste de hipóteses)\n",
    "    - Multivariadas\n",
    "- Preparação dos dados\n",
    "    - Rescala das features\n",
    "- Seleção de features\n",
    "- Construção do modelo\n",
    "    - modelos de classificação\n",
    "    - guideline\n",
    "- Avaliação do modelo\n",
    "- Fine Tuning\n",
    "- CSV Final"
   ]
  }
 ],
 "metadata": {
  "kernelspec": {
   "display_name": "Python 3 (ipykernel)",
   "language": "python",
   "name": "python3"
  },
  "language_info": {
   "codemirror_mode": {
    "name": "ipython",
    "version": 3
   },
   "file_extension": ".py",
   "mimetype": "text/x-python",
   "name": "python",
   "nbconvert_exporter": "python",
   "pygments_lexer": "ipython3",
   "version": "3.9.5"
  }
 },
 "nbformat": 4,
 "nbformat_minor": 5
}
