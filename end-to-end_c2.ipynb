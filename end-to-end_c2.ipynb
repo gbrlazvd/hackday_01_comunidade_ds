{
 "cells": [
  {
   "cell_type": "markdown",
   "id": "25b39340",
   "metadata": {},
   "source": [
    "# <font color=\"red\">Hackday - Dados Inglórios</font>"
   ]
  },
  {
   "cell_type": "markdown",
   "id": "494e5b2f",
   "metadata": {},
   "source": [
    "## Planejamento da Solução"
   ]
  },
  {
   "cell_type": "markdown",
   "id": "5c6c98f1",
   "metadata": {},
   "source": [
    "### Input"
   ]
  },
  {
   "cell_type": "markdown",
   "id": "839f0e29",
   "metadata": {},
   "source": [
    "**Problema de Negócio**"
   ]
  },
  {
   "cell_type": "markdown",
   "id": "fd883f40",
   "metadata": {},
   "source": [
    "A inclusão financeira continua a ser um dos principais obstáculos ao desenvolvimento econômico e humano na África. Por exemplo, no Quênia, Ruanda, Tanzânia e Uganda, apenas 9,1 milhões de adultos (14% dos adultos), têm acesso ou usam uma conta bancária comercial.\n",
    "\n",
    "Em 2008, o nível de inclusão financeira na África Subsaariana era de pouco mais de 23%. Em 2018, esse número quase dobrou. No Togo, Mazamesso Assih, ministro de finanças, coordena uma estratégia de inclusão financeira com bancos parceiros. Ele afirma que garantir acesso a serviços financeiros básicos para a população, é fundamental para impulsionar a economia Africana.\n",
    "\n",
    "Em 2022, conforme destacado no último relatório do Banco Central da África Ocidental, atingiu-se uma das mais altas taxas de inclusão financeira da região, próxima de 82%. Uma parcela significativa desse aumento veio do aumento dos serviços financeiros digitais.\n",
    "\n",
    "Assih afirma também, que existem três razões principais pelas quais as nações africanas devem apostar na inclusão financeira:\n",
    "\n",
    " 1. Tornar os serviços financeiros mais acessíveis promove o empoderamento das pessoas mais vulneráveis, especialmente as mulheres.\n",
    " 2. Combater redes criminosas, passar de uma economia exclusivamente monetária para uma infraestrutura financeira digital torna mais fácil para as autoridades rastrear transações e lidar com contrabandistas e traficantes.\n",
    " 3. impulsionará a conectividade dos setores público e privado para um crescimento sustentável, apoiando as start-ups africanas.\n",
    " \n",
    "O objetivo desta competição é criar um modelo de aprendizado de máquina para prever quais indivíduos vão ou não utilizar uma conta bancária. Os modelos e soluções desenvolvidos devem fornecer uma indicação do estado da inclusão financeira no Quênia, Ruanda, Tanzânia e Uganda.\n",
    "\n"
   ]
  },
  {
   "cell_type": "markdown",
   "id": "8fd40c76",
   "metadata": {},
   "source": [
    "**Dados**"
   ]
  },
  {
   "cell_type": "markdown",
   "id": "a79b7594",
   "metadata": {},
   "source": [
    "Os dados necessários podem ser encontrados no [repositório da atividade](https://www.kaggle.com/c/inclusao-financeira-na-africa). No arquivo train.csv você encontrará:\n",
    "\n",
    "|Feature|Descrição|\n",
    "|:------|:--------|\n",
    "|country| Pais de Origem.\n",
    "|year| Ano da Inclusão\n",
    "|uniqueid| Id do Usuário.\n",
    "|bank_account| Possui ou Não a Conta no Banco.\n",
    "|location_type| Tipo de Localidade (Rural...)\n",
    "|cellphone_access| Possui ou Não Celular.\n",
    "|household_size| Tamanho da Casa.\n",
    "|age_of_respondent| Idade do Usuário.\n",
    "|gender_of_respondent| Gênero do Usuário.\n",
    "|relationship_with_head| Status com o Dono da Conta.\n",
    "|marital_status| Situação Civil.\n",
    "|education_level| Nível de Educação.\n",
    "|job_type| Tipo de Trabalho."
   ]
  },
  {
   "cell_type": "markdown",
   "id": "ff1e9f2a",
   "metadata": {},
   "source": [
    "### Output"
   ]
  },
  {
   "cell_type": "markdown",
   "id": "fa286382",
   "metadata": {},
   "source": [
    "Um arquivo CSV com a previsão do modelo dizendo quais clientes abrirão uma conta digital em duas colunas:  \n",
    "\n",
    "|uid|\tbank_account|\n",
    "|:--|:--------------|\n",
    "|Rwanda_uniqueid_625|\tNo|\n",
    "|Rwanda_uniqueid_1561|\tNo|\n",
    "|Rwanda_uniqueid_4806|\tNo|\n",
    "|Tanzania_uniqueid_4902|\tYes|\n",
    "|Rwanda_uniqueid_980|\tNo|\n",
    "|Rwanda_uniqueid_7043|\tNo|"
   ]
  },
  {
   "cell_type": "markdown",
   "id": "a5a567b8",
   "metadata": {},
   "source": [
    "### Tasks"
   ]
  },
  {
   "cell_type": "markdown",
   "id": "49f9b728",
   "metadata": {},
   "source": [
    "- Descrição dos Dados\n",
    "    - Renomear colunas\n",
    "    - Checar dimenões\n",
    "    - Checar tipos\n",
    "    - Alterar tipos\n",
    "    - Checar vazios\n",
    "    - Preencher os vazios\n",
    "    - Descrições Estatísticas\n",
    "\n",
    "- Feature Engineering\n",
    "    - Mapa de hipóteses\n",
    "    - Criação de hipóteses\n",
    "- Seleção de features (Filtro)\n",
    "- EDA\n",
    "    - Univariada\n",
    "    - Bivariada (teste de hipóteses)\n",
    "    - Multivariadas\n",
    "- Preparação dos dados\n",
    "    - Rescala das features\n",
    "- Seleção de features\n",
    "- Construção do modelo\n",
    "    - modelos de classificação\n",
    "    - guideline\n",
    "- Avaliação do modelo\n",
    "- Fine Tuning\n",
    "- CSV Final"
   ]
  },
  {
   "cell_type": "markdown",
   "id": "054d62ec",
   "metadata": {},
   "source": [
    "## 0. Settings"
   ]
  },
  {
   "cell_type": "markdown",
   "id": "4f046d4a",
   "metadata": {},
   "source": [
    "### 0.1. Imports"
   ]
  },
  {
   "cell_type": "code",
   "execution_count": 712,
   "id": "ebb8fc54",
   "metadata": {
    "ExecuteTime": {
     "end_time": "2022-05-29T18:43:52.097575Z",
     "start_time": "2022-05-29T18:43:52.087816Z"
    }
   },
   "outputs": [],
   "source": [
    "# manipulação de dados\n",
    "import pandas as pd\n",
    "import numpy as np\n",
    "from random import sample\n",
    "\n",
    "# visualização de dados\n",
    "import matplotlib.pyplot as plt\n",
    "import seaborn as sns\n",
    "\n",
    "from IPython.display import HTML\n",
    "\n",
    "# estatística\n",
    "import scipy.stats as ss\n",
    "\n",
    "# scikit-learn\n",
    "from sklearn import model_selection as ms\n",
    "from sklearn import ensemble\n",
    "from sklearn import metrics\n",
    "from sklearn import preprocessing as pp\n",
    "from sklearn import linear_model\n",
    "from sklearn.svm import SVC\n",
    "from sklearn.neighbors import KNeighborsClassifier\n",
    "\n",
    "from imblearn.over_sampling import SMOTE\n",
    "import category_encoders as ce"
   ]
  },
  {
   "cell_type": "markdown",
   "id": "e5ff7771",
   "metadata": {},
   "source": [
    "### 0.2. Helper Functions"
   ]
  },
  {
   "cell_type": "code",
   "execution_count": 713,
   "id": "a1f79abd",
   "metadata": {
    "ExecuteTime": {
     "end_time": "2022-05-29T18:43:52.143953Z",
     "start_time": "2022-05-29T18:43:52.101586Z"
    }
   },
   "outputs": [
    {
     "name": "stdout",
     "output_type": "stream",
     "text": [
      "%pylab is deprecated, use %matplotlib inline and import the required libraries.\n",
      "Populating the interactive namespace from numpy and matplotlib\n"
     ]
    },
    {
     "name": "stderr",
     "output_type": "stream",
     "text": [
      "/home/bem/.pyenv/versions/3.9.5/envs/hackday_01/lib/python3.9/site-packages/IPython/core/magics/pylab.py:162: UserWarning: pylab import has clobbered these variables: ['sample']\n",
      "`%matplotlib` prevents importing * from pylab and numpy\n",
      "  warn(\"pylab import has clobbered these variables: %s\"  % clobbered +\n"
     ]
    },
    {
     "data": {
      "text/html": [
       "<style>.container {width:100% !important;}</style>"
      ],
      "text/plain": [
       "<IPython.core.display.HTML object>"
      ]
     },
     "metadata": {},
     "output_type": "display_data"
    }
   ],
   "source": [
    "def freq_analysis(df, feature, mapper=dict()):\n",
    "    count = df[feature].value_counts()\n",
    "#     mapper = dict()\n",
    "    for ind in count.index:\n",
    "        mapper[ind] = count[ind]\n",
    "    \n",
    "    feature_map = df2[feature].map(mapper)\n",
    "    \n",
    "    return (feature_map, mapper)\n",
    "\n",
    "def cramer_v(x, y):\n",
    "    \n",
    "    cm = pd.crosstab(x, y).values\n",
    "    n = cm.sum()\n",
    "    r, k = cm.shape\n",
    "    \n",
    "    chi2 = ss.chi2_contingency(cm)[0]\n",
    "    chi2corr = max(0, chi2 - (k - 1) * (r - 1) / (n - 1))\n",
    "    kcorr = k - (k - 1) ** 2 / (n - 1)\n",
    "    rcorr = r - (r - 1) ** 2 / (n - 1)\n",
    "    \n",
    "    return np.sqrt( (chi2corr / n) / (min(kcorr - 1, rcorr - 1)))\n",
    "\n",
    "def describe_num_attributes(df):\n",
    "    # Localização: média e mediana\n",
    "    m1 = pd.DataFrame(df).apply(np.mean).T\n",
    "    m2 = pd.DataFrame(df).apply(np.median).T\n",
    "\n",
    "    # Dispersão: mínimo, máximo, range e desvio padrão\n",
    "    m3 = pd.DataFrame(df).apply(min).T\n",
    "    m4 = pd.DataFrame(df).apply(max).T\n",
    "    m5 = pd.DataFrame(df).apply(lambda x: x.max() - x.min()).T\n",
    "\n",
    "    # Skew\n",
    "    m6 = pd.DataFrame(df).apply(lambda x: x.skew()).T\n",
    "\n",
    "    # Kurtosis\n",
    "    m7 = pd.DataFrame(df).apply(lambda x: x.kurtosis()).T\n",
    "\n",
    "    df_stats = pd.concat([m3, m4, m5, m1, m2, m6, m7], axis=1).reset_index()\n",
    "    df_stats.columns = ['feature', 'min', 'max', 'range', 'media', 'mediana', 'skew', 'kurtosis']\n",
    "\n",
    "    return df_stats\n",
    "\n",
    "def jupyter_settings():\n",
    "    %matplotlib inline\n",
    "    %pylab inline\n",
    "    \n",
    "    plt.style.use('bmh')\n",
    "    plt.rcParams['figure.figsize'] = [25, 12]\n",
    "    plt.rcParams['font.size'] = 40\n",
    "    \n",
    "    display(HTML('<style>.container {width:100% !important;}</style>'))\n",
    "    pd.options.display.max_columns = None\n",
    "    pd.options.display.max_rows = None\n",
    "    pd.set_option('display.expand_frame_repr', False)\n",
    "    \n",
    "    sns.set()\n",
    "\n",
    "jupyter_settings()"
   ]
  },
  {
   "cell_type": "markdown",
   "id": "c1424f31",
   "metadata": {},
   "source": [
    "### 0.3. Data Loading"
   ]
  },
  {
   "cell_type": "code",
   "execution_count": 714,
   "id": "01cb76bb",
   "metadata": {
    "ExecuteTime": {
     "end_time": "2022-05-29T18:43:52.221115Z",
     "start_time": "2022-05-29T18:43:52.146558Z"
    }
   },
   "outputs": [],
   "source": [
    "train_file = './data/train.csv'\n",
    "test_file = './data/test.csv'\n",
    "\n",
    "df_raw = pd.read_csv(train_file)\n",
    "\n",
    "df_test = pd.read_csv(test_file)"
   ]
  },
  {
   "cell_type": "markdown",
   "id": "aad2260b",
   "metadata": {},
   "source": [
    "## 1. Descrição dos Dados"
   ]
  },
  {
   "cell_type": "code",
   "execution_count": 715,
   "id": "f508a3ce",
   "metadata": {
    "ExecuteTime": {
     "end_time": "2022-05-29T18:43:52.230943Z",
     "start_time": "2022-05-29T18:43:52.225671Z"
    }
   },
   "outputs": [],
   "source": [
    "df1 = df_raw.copy()"
   ]
  },
  {
   "cell_type": "code",
   "execution_count": 716,
   "id": "486022ee-17eb-45d7-a3d4-d0e1945c20d1",
   "metadata": {
    "ExecuteTime": {
     "end_time": "2022-05-29T18:43:52.243111Z",
     "start_time": "2022-05-29T18:43:52.234719Z"
    }
   },
   "outputs": [
    {
     "data": {
      "text/plain": [
       "array(['Rwanda', 'Tanzania', 'Kenya', 'Uganda'], dtype=object)"
      ]
     },
     "execution_count": 716,
     "metadata": {},
     "output_type": "execute_result"
    }
   ],
   "source": [
    "df1['country'].unique()"
   ]
  },
  {
   "cell_type": "code",
   "execution_count": 717,
   "id": "90c6ffae-571b-4449-b761-555a9f169fde",
   "metadata": {
    "ExecuteTime": {
     "end_time": "2022-05-29T18:43:52.257742Z",
     "start_time": "2022-05-29T18:43:52.247095Z"
    }
   },
   "outputs": [
    {
     "data": {
      "text/plain": [
       "array(['Rural', 'Urban'], dtype=object)"
      ]
     },
     "execution_count": 717,
     "metadata": {},
     "output_type": "execute_result"
    }
   ],
   "source": [
    "df1['location_type'].unique()"
   ]
  },
  {
   "cell_type": "code",
   "execution_count": 718,
   "id": "530e1719-96e7-4d65-9f59-271d794c11d6",
   "metadata": {
    "ExecuteTime": {
     "end_time": "2022-05-29T18:43:52.268377Z",
     "start_time": "2022-05-29T18:43:52.260852Z"
    }
   },
   "outputs": [
    {
     "data": {
      "text/plain": [
       "array(['Head of Household', 'Spouse', 'Child', 'Parent', 'Other relative',\n",
       "       'Other non-relatives'], dtype=object)"
      ]
     },
     "execution_count": 718,
     "metadata": {},
     "output_type": "execute_result"
    }
   ],
   "source": [
    "df1['relationship_with_head'].unique()"
   ]
  },
  {
   "cell_type": "code",
   "execution_count": 719,
   "id": "db41946d-c6e9-418e-8645-44e9d066d306",
   "metadata": {
    "ExecuteTime": {
     "end_time": "2022-05-29T18:43:52.282869Z",
     "start_time": "2022-05-29T18:43:52.272276Z"
    }
   },
   "outputs": [
    {
     "data": {
      "text/plain": [
       "array(['Divorced/Seperated', 'Single/Never Married',\n",
       "       'Married/Living together', 'Widowed', 'Dont know'], dtype=object)"
      ]
     },
     "execution_count": 719,
     "metadata": {},
     "output_type": "execute_result"
    }
   ],
   "source": [
    "df1['marital_status'].unique()"
   ]
  },
  {
   "cell_type": "code",
   "execution_count": 720,
   "id": "a0df47ae-0491-471c-a9f2-5557d38c1659",
   "metadata": {
    "ExecuteTime": {
     "end_time": "2022-05-29T18:43:52.295288Z",
     "start_time": "2022-05-29T18:43:52.286519Z"
    }
   },
   "outputs": [
    {
     "data": {
      "text/plain": [
       "array(['Primary education', 'Secondary education',\n",
       "       'Vocational/Specialised training', 'Tertiary education',\n",
       "       'No formal education', 'Other/Dont know/RTA'], dtype=object)"
      ]
     },
     "execution_count": 720,
     "metadata": {},
     "output_type": "execute_result"
    }
   ],
   "source": [
    "df1['education_level'].unique()"
   ]
  },
  {
   "cell_type": "markdown",
   "id": "d3da856c",
   "metadata": {},
   "source": [
    "### 1.1. Renomear features"
   ]
  },
  {
   "cell_type": "markdown",
   "id": "77b33cf9",
   "metadata": {},
   "source": [
    "### 1.2. Checar Dimensões"
   ]
  },
  {
   "cell_type": "markdown",
   "id": "ce43b50d",
   "metadata": {},
   "source": [
    "### 1.3. Checar Tipos"
   ]
  },
  {
   "cell_type": "markdown",
   "id": "c7a3b928",
   "metadata": {},
   "source": [
    "### 1.4. Alterar Tipos"
   ]
  },
  {
   "cell_type": "markdown",
   "id": "f2a2415c",
   "metadata": {},
   "source": [
    "### 1.5. Checa NaN"
   ]
  },
  {
   "cell_type": "code",
   "execution_count": 721,
   "id": "5512f338",
   "metadata": {
    "ExecuteTime": {
     "end_time": "2022-05-29T18:43:52.327872Z",
     "start_time": "2022-05-29T18:43:52.299947Z"
    }
   },
   "outputs": [
    {
     "data": {
      "text/plain": [
       "country                   0\n",
       "year                      0\n",
       "uniqueid                  0\n",
       "location_type             0\n",
       "cellphone_access          0\n",
       "household_size            0\n",
       "age_of_respondent         0\n",
       "gender_of_respondent      0\n",
       "relationship_with_head    0\n",
       "marital_status            0\n",
       "education_level           0\n",
       "job_type                  0\n",
       "uid                       0\n",
       "bank_account              0\n",
       "dtype: int64"
      ]
     },
     "execution_count": 721,
     "metadata": {},
     "output_type": "execute_result"
    }
   ],
   "source": [
    "df1.isna().sum()"
   ]
  },
  {
   "cell_type": "markdown",
   "id": "5a526c9e",
   "metadata": {},
   "source": [
    "### 1.6. Preenche NaN"
   ]
  },
  {
   "cell_type": "markdown",
   "id": "34775d08",
   "metadata": {},
   "source": [
    "### 1.7. Estatística Descritiva"
   ]
  },
  {
   "cell_type": "code",
   "execution_count": 722,
   "id": "9d76b76c",
   "metadata": {
    "ExecuteTime": {
     "end_time": "2022-05-29T18:43:52.335353Z",
     "start_time": "2022-05-29T18:43:52.330263Z"
    }
   },
   "outputs": [],
   "source": [
    "num_attributes = df1.select_dtypes(include = ['float64', 'int64'])\n",
    "cat_attributes = df1.select_dtypes(exclude = ['float64', 'int64', 'datetime64[ns]'])"
   ]
  },
  {
   "cell_type": "code",
   "execution_count": 723,
   "id": "fb8765b8",
   "metadata": {
    "ExecuteTime": {
     "end_time": "2022-05-29T18:43:52.373211Z",
     "start_time": "2022-05-29T18:43:52.339201Z"
    }
   },
   "outputs": [
    {
     "data": {
      "text/html": [
       "<div>\n",
       "<style scoped>\n",
       "    .dataframe tbody tr th:only-of-type {\n",
       "        vertical-align: middle;\n",
       "    }\n",
       "\n",
       "    .dataframe tbody tr th {\n",
       "        vertical-align: top;\n",
       "    }\n",
       "\n",
       "    .dataframe thead th {\n",
       "        text-align: right;\n",
       "    }\n",
       "</style>\n",
       "<table border=\"1\" class=\"dataframe\">\n",
       "  <thead>\n",
       "    <tr style=\"text-align: right;\">\n",
       "      <th></th>\n",
       "      <th>feature</th>\n",
       "      <th>min</th>\n",
       "      <th>max</th>\n",
       "      <th>range</th>\n",
       "      <th>media</th>\n",
       "      <th>mediana</th>\n",
       "      <th>skew</th>\n",
       "      <th>kurtosis</th>\n",
       "    </tr>\n",
       "  </thead>\n",
       "  <tbody>\n",
       "    <tr>\n",
       "      <th>0</th>\n",
       "      <td>year</td>\n",
       "      <td>2016</td>\n",
       "      <td>2018</td>\n",
       "      <td>2</td>\n",
       "      <td>2016.983336</td>\n",
       "      <td>2017.0</td>\n",
       "      <td>0.031654</td>\n",
       "      <td>-1.610921</td>\n",
       "    </tr>\n",
       "    <tr>\n",
       "      <th>1</th>\n",
       "      <td>household_size</td>\n",
       "      <td>1</td>\n",
       "      <td>21</td>\n",
       "      <td>20</td>\n",
       "      <td>3.793913</td>\n",
       "      <td>3.0</td>\n",
       "      <td>1.004163</td>\n",
       "      <td>1.529882</td>\n",
       "    </tr>\n",
       "    <tr>\n",
       "      <th>2</th>\n",
       "      <td>age_of_respondent</td>\n",
       "      <td>16</td>\n",
       "      <td>100</td>\n",
       "      <td>84</td>\n",
       "      <td>38.602364</td>\n",
       "      <td>35.0</td>\n",
       "      <td>0.851705</td>\n",
       "      <td>0.161847</td>\n",
       "    </tr>\n",
       "  </tbody>\n",
       "</table>\n",
       "</div>"
      ],
      "text/plain": [
       "             feature   min   max  range        media  mediana      skew  kurtosis\n",
       "0               year  2016  2018      2  2016.983336   2017.0  0.031654 -1.610921\n",
       "1     household_size     1    21     20     3.793913      3.0  1.004163  1.529882\n",
       "2  age_of_respondent    16   100     84    38.602364     35.0  0.851705  0.161847"
      ]
     },
     "execution_count": 723,
     "metadata": {},
     "output_type": "execute_result"
    }
   ],
   "source": [
    "df_stats = describe_num_attributes(num_attributes)\n",
    "df_stats"
   ]
  },
  {
   "cell_type": "markdown",
   "id": "e7f66d38",
   "metadata": {},
   "source": [
    "## 2. Feature Engineering"
   ]
  },
  {
   "cell_type": "code",
   "execution_count": 724,
   "id": "0ef8e10d",
   "metadata": {
    "ExecuteTime": {
     "end_time": "2022-05-29T18:43:52.384626Z",
     "start_time": "2022-05-29T18:43:52.377577Z"
    }
   },
   "outputs": [],
   "source": [
    "df2 = df1.copy()"
   ]
  },
  {
   "cell_type": "markdown",
   "id": "b8673e18",
   "metadata": {},
   "source": [
    "### 2.1. Mapa de Hipóteses"
   ]
  },
  {
   "cell_type": "markdown",
   "id": "c58557e7",
   "metadata": {},
   "source": [
    "### 2.2. Criação de Hipóteses"
   ]
  },
  {
   "cell_type": "markdown",
   "id": "8b1d7763",
   "metadata": {},
   "source": [
    "**H1.** Os países desenvolvidos tem 10% a mais de contas digitais  \n",
    "**H2.** Zonas urbanas tem 50% a mais de contas digitais do que zonas rurais  \n",
    "**H3.** 80% das pessoas que possuem celular e internet tem conta digital  \n",
    "**H4.** A quantidade de contas de pessoas com ensino superior é maior em média do que as demais  \n",
    "**H5.** Pessoas entre 18 e 40 anos constituem 85% da base de contas digitais  \n",
    "**H6.** Mulheres são a maioria entre as contas digitais abertas  \n",
    "**H7.** Pessoas acima dos 60 anos mesmo com acesso ao celular não possuem conta digital  \n",
    "**H8.** 95% das pessoas sem trabalho não possuem conta digital  \n",
    "**H9.** 100% dos chefes de família possuem conta digital"
   ]
  },
  {
   "cell_type": "markdown",
   "id": "46e033de",
   "metadata": {},
   "source": [
    "## 3. Seleção de Features"
   ]
  },
  {
   "cell_type": "code",
   "execution_count": 726,
   "id": "b60808b2",
   "metadata": {
    "ExecuteTime": {
     "end_time": "2022-05-29T18:43:52.406715Z",
     "start_time": "2022-05-29T18:43:52.398961Z"
    }
   },
   "outputs": [],
   "source": [
    "df3 = df2.copy()"
   ]
  },
  {
   "cell_type": "markdown",
   "id": "9a682c0b",
   "metadata": {},
   "source": [
    "## 4. EDA"
   ]
  },
  {
   "cell_type": "code",
   "execution_count": 727,
   "id": "00784e93",
   "metadata": {
    "ExecuteTime": {
     "end_time": "2022-05-29T18:43:52.416891Z",
     "start_time": "2022-05-29T18:43:52.411025Z"
    }
   },
   "outputs": [],
   "source": [
    "df4 = df3.copy()"
   ]
  },
  {
   "cell_type": "markdown",
   "id": "f809a85c",
   "metadata": {},
   "source": [
    "### 4.1. Univariada"
   ]
  },
  {
   "cell_type": "code",
   "execution_count": 728,
   "id": "0e736759",
   "metadata": {
    "ExecuteTime": {
     "end_time": "2022-05-29T18:43:54.081896Z",
     "start_time": "2022-05-29T18:43:52.419904Z"
    }
   },
   "outputs": [
    {
     "data": {
      "image/png": "[encoded data removed]",
      "text/plain": [
       "<Figure size 2160x2880 with 7 Axes>"
      ]
     },
     "metadata": {},
     "output_type": "display_data"
    }
   ],
   "source": [
    "fig, ax = plt.subplots(7, 1, figsize=(30, 40))\n",
    "sns.countplot(x='country',hue = 'bank_account', data = df4, ax=ax[0])\n",
    "sns.countplot(x='location_type', hue = 'bank_account',data = df4, ax=ax[1])\n",
    "sns.countplot(x='gender_of_respondent', hue = 'bank_account',data = df4, ax=ax[2])\n",
    "sns.countplot(x='marital_status', hue = 'bank_account',data = df4, ax=ax[3])\n",
    "sns.countplot(x='education_level', hue = 'bank_account', data = df4, ax = ax[4])\n",
    "sns.countplot(x='job_type', hue = 'bank_account', data = df4, ax = ax[5]);\n",
    "sns.countplot(x='household_size', hue = 'bank_account', data = df4, ax = ax[6]);"
   ]
  },
  {
   "cell_type": "markdown",
   "id": "8f3427ae",
   "metadata": {},
   "source": [
    "### 4.2. Bivariadas"
   ]
  },
  {
   "cell_type": "markdown",
   "id": "d74b50fa",
   "metadata": {},
   "source": [
    "**H1.** Os países desenvolvidos tem 10% a mais de contas digitais  "
   ]
  },
  {
   "cell_type": "markdown",
   "id": "5c4c6e08",
   "metadata": {},
   "source": [
    "Sem dados para concluir o teste"
   ]
  },
  {
   "cell_type": "markdown",
   "id": "9ef526bf",
   "metadata": {},
   "source": [
    "**H2.** Zonas urbanas tem 50% a mais de contas digitais do que zonas rurais  "
   ]
  },
  {
   "cell_type": "markdown",
   "id": "56211028",
   "metadata": {},
   "source": [
    "**FALSO** - O tipo de localização mostra uma igualdade entre os valores."
   ]
  },
  {
   "cell_type": "code",
   "execution_count": 729,
   "id": "8e989577",
   "metadata": {
    "ExecuteTime": {
     "end_time": "2022-05-29T18:43:54.284799Z",
     "start_time": "2022-05-29T18:43:54.084373Z"
    }
   },
   "outputs": [
    {
     "data": {
      "image/png": "[encoded data removed]",
      "text/plain": [
       "<Figure size 1800x864 with 1 Axes>"
      ]
     },
     "metadata": {},
     "output_type": "display_data"
    }
   ],
   "source": [
    "graph = df4[df1['bank_account']=='Yes'][['uniqueid','location_type']].groupby('location_type').count().reset_index()\n",
    "sns.barplot( data = graph, x= 'location_type', y= 'uniqueid');"
   ]
  },
  {
   "cell_type": "markdown",
   "id": "ffba3527",
   "metadata": {},
   "source": [
    "**H3.** 80% das pessoas que possuem celular e internet tem conta digital  "
   ]
  },
  {
   "cell_type": "markdown",
   "id": "822c64cf",
   "metadata": {},
   "source": [
    "**FALSO** - Apenas 18.58% das pessoas que possuem celular também possuem conta digital.  \n",
    "Entretanto, não temos indícios de posse de internet pelos usuários. Portanto, a conclusão é baseada apenas no celular."
   ]
  },
  {
   "cell_type": "code",
   "execution_count": 730,
   "id": "e99e9c8c",
   "metadata": {
    "ExecuteTime": {
     "end_time": "2022-05-29T18:43:54.318049Z",
     "start_time": "2022-05-29T18:43:54.289936Z"
    }
   },
   "outputs": [
    {
     "name": "stdout",
     "output_type": "stream",
     "text": [
      "Apenas 18.58% das pessoas que possuem celular, também possuem conta digital\n",
      "\n",
      "96.85% das pessoas que possuem conta também possuem celular\n"
     ]
    }
   ],
   "source": [
    "h3 = df4[df4['cellphone_access']=='Yes'][['bank_account','uniqueid']].groupby('bank_account').count().reset_index()\n",
    "yes = int(h3[h3['bank_account']== 'Yes']['uniqueid'])\n",
    "total = int(h3['uniqueid'].sum())\n",
    "percent = yes/total*100\n",
    "print(f'Apenas {percent:.2f}% das pessoas que possuem celular, também possuem conta digital')\n",
    "\n",
    "account = df4[df4['bank_account'] == 'Yes']['uniqueid'].count()\n",
    "account_cell = df4[(df4['bank_account'] == 'Yes') & (df4['cellphone_access']=='Yes')]['uniqueid'].count()\n",
    "percent_ = account_cell/account*100\n",
    "print(f'\\n{percent_:.2f}% das pessoas que possuem conta também possuem celular')"
   ]
  },
  {
   "cell_type": "markdown",
   "id": "21ee2676",
   "metadata": {},
   "source": [
    "**H4.** A quantidade de contas de pessoas com ensino superior é maior em média do que as demais  "
   ]
  },
  {
   "cell_type": "markdown",
   "id": "33361953",
   "metadata": {},
   "source": [
    "**VERDADEIRO** - A maior proporção das contas digitais está no vocational/specialised training"
   ]
  },
  {
   "cell_type": "code",
   "execution_count": 731,
   "id": "41284d4b",
   "metadata": {
    "ExecuteTime": {
     "end_time": "2022-05-29T18:43:54.579371Z",
     "start_time": "2022-05-29T18:43:54.322548Z"
    }
   },
   "outputs": [
    {
     "data": {
      "image/png": "[encoded data removed]",
      "text/plain": [
       "<Figure size 1800x864 with 1 Axes>"
      ]
     },
     "metadata": {},
     "output_type": "display_data"
    }
   ],
   "source": [
    "# contar a quantidade de yes de cada nível de escolaridade\n",
    "# fazer a divisão do yes pelo total do nível de escolaridade\n",
    "\n",
    "education_yes = df4.loc[df4['bank_account'] == 'Yes', ['education_level', 'bank_account']].groupby('education_level').count().reset_index()\n",
    "education_total = df4[['education_level', 'bank_account']].groupby('education_level').count().reset_index()\n",
    "education = pd.merge(education_yes, education_total, on='education_level', how='inner')\n",
    "education['prop'] = education.apply(lambda x: x['bank_account_x'] / x['bank_account_y'], axis=1)\n",
    "sns.barplot(data=education, x='education_level', y='prop');"
   ]
  },
  {
   "cell_type": "markdown",
   "id": "45ac32dc",
   "metadata": {},
   "source": [
    "**H5.** Pessoas entre 18 e 40 anos constituem 85% da base de contas digitais  "
   ]
  },
  {
   "cell_type": "markdown",
   "id": "1aab830d",
   "metadata": {},
   "source": [
    "**FALSO** - Pessoas na faixa de 18 a 40 anos, compõem 61% da base de contas digitais."
   ]
  },
  {
   "cell_type": "code",
   "execution_count": 732,
   "id": "d52d1d37",
   "metadata": {
    "ExecuteTime": {
     "end_time": "2022-05-29T18:43:54.597951Z",
     "start_time": "2022-05-29T18:43:54.583617Z"
    }
   },
   "outputs": [
    {
     "name": "stdout",
     "output_type": "stream",
     "text": [
      "A quantidade de pessoas entre 18 e 40 anos que possuem conta representam 60.71%\n"
     ]
    }
   ],
   "source": [
    "total_ = df4[df4['bank_account']=='Yes']['uniqueid'].count()\n",
    "age = df4[(df4['bank_account']=='Yes') & ((df1['age_of_respondent'] >= 18 ) & (df4['age_of_respondent'] <= 40))]['uniqueid'].count()\n",
    "percent = age/total_*100\n",
    "print(f'A quantidade de pessoas entre 18 e 40 anos que possuem conta representam {percent:.2f}%')"
   ]
  },
  {
   "cell_type": "markdown",
   "id": "0f8840f5",
   "metadata": {},
   "source": [
    "**H6.** Mulheres são a maioria entre as contas digitais abertas  "
   ]
  },
  {
   "cell_type": "markdown",
   "id": "cebdf097",
   "metadata": {},
   "source": [
    "**FALSO** - De um total de 1685 de contas digitais, 54.60% são de homens"
   ]
  },
  {
   "cell_type": "code",
   "execution_count": 733,
   "id": "e13f2dda",
   "metadata": {
    "ExecuteTime": {
     "end_time": "2022-05-29T18:43:54.614552Z",
     "start_time": "2022-05-29T18:43:54.600180Z"
    }
   },
   "outputs": [
    {
     "name": "stdout",
     "output_type": "stream",
     "text": [
      "De um total de 1685 de contas digitais, 54.60% são de homens\n"
     ]
    }
   ],
   "source": [
    "account = df1[df1['bank_account'] == 'Yes'][['uniqueid','gender_of_respondent' ]].groupby('gender_of_respondent').count().reset_index()\n",
    "male = int(account[account['gender_of_respondent']=='Male']['uniqueid'])\n",
    "female = int(account[account['gender_of_respondent']=='Female']['uniqueid'])\n",
    "print(f'De um total de {male+female} de contas digitais, {male/(male+female)*100:.2f}% são de homens')"
   ]
  },
  {
   "cell_type": "markdown",
   "id": "a74e1bd6",
   "metadata": {},
   "source": [
    "**H7.** Pessoas acima dos 60 anos mesmo com acesso ao celular não possuem conta digital  "
   ]
  },
  {
   "cell_type": "markdown",
   "id": "660a5709",
   "metadata": {},
   "source": [
    "**FALSO** - Existem pessoas acima dos 60 anos com conta digital"
   ]
  },
  {
   "cell_type": "code",
   "execution_count": 734,
   "id": "dd22bcd2",
   "metadata": {
    "ExecuteTime": {
     "end_time": "2022-05-29T18:43:54.631226Z",
     "start_time": "2022-05-29T18:43:54.617018Z"
    }
   },
   "outputs": [
    {
     "name": "stdout",
     "output_type": "stream",
     "text": [
      "145 respondentes com idade superior a 60 e que possuem celular possuem conta em banco.\n"
     ]
    }
   ],
   "source": [
    "plus60_b_acc = df4.loc[(df4['age_of_respondent'] > 60) & (df4['cellphone_access'] == 'Yes') & (df4['bank_account'] == 'Yes'), ['uniqueid', 'age_of_respondent', 'cellphone_access', 'bank_account']].shape[0]\n",
    "\n",
    "print(f'{plus60_b_acc} respondentes com idade superior a 60 e que possuem celular possuem conta em banco.')"
   ]
  },
  {
   "cell_type": "markdown",
   "id": "644a7038",
   "metadata": {},
   "source": [
    "**H8.** 95% das pessoas sem trabalho não possuem conta digital  "
   ]
  },
  {
   "cell_type": "markdown",
   "id": "c31497a5",
   "metadata": {},
   "source": [
    "**VERDADEIRO** - Aproximadamente 100% das pessoas que não possuem trabalho, não possuem conta digital."
   ]
  },
  {
   "cell_type": "code",
   "execution_count": 735,
   "id": "3fee6e94",
   "metadata": {
    "ExecuteTime": {
     "end_time": "2022-05-29T18:43:54.651793Z",
     "start_time": "2022-05-29T18:43:54.634307Z"
    }
   },
   "outputs": [
    {
     "name": "stdout",
     "output_type": "stream",
     "text": [
      "99.96% das pessoas sem trabalho não possuem conta em banco \n"
     ]
    }
   ],
   "source": [
    "df_drop_job = df4[~(df4['job_type'] == 'Dont Know/Refuse to answer')]\n",
    "\n",
    "total = df_drop_job.shape[0]\n",
    "\n",
    "yes = df_drop_job[(df_drop_job['job_type'] == 'No Income') & (df_drop_job['bank_account'] == 'Yes')].shape[0]\n",
    "\n",
    "percent = np.round(yes/total*100, 2)\n",
    "\n",
    "print(f'{100 - percent}% das pessoas sem trabalho não possuem conta em banco ')"
   ]
  },
  {
   "cell_type": "markdown",
   "id": "708b8472",
   "metadata": {},
   "source": [
    "**H9.** 100% dos chefes de família possuem conta digital"
   ]
  },
  {
   "cell_type": "markdown",
   "id": "0c09ccef",
   "metadata": {},
   "source": [
    "**FALSO** - Apenas 17.98% dos chefes de família possuem conta em banco"
   ]
  },
  {
   "cell_type": "code",
   "execution_count": 736,
   "id": "649c918c",
   "metadata": {
    "ExecuteTime": {
     "end_time": "2022-05-29T18:43:54.673392Z",
     "start_time": "2022-05-29T18:43:54.655258Z"
    }
   },
   "outputs": [
    {
     "name": "stdout",
     "output_type": "stream",
     "text": [
      "Apenas 17.98% dos chefes de família possuem conta em banco\n"
     ]
    }
   ],
   "source": [
    "hoh_total = df4[df4['relationship_with_head'] == 'Head of Household'].shape[0]\n",
    "\n",
    "hoh_yes = df4[(df4['relationship_with_head'] == 'Head of Household') & (df4['bank_account'] == 'Yes')].shape[0]\n",
    "\n",
    "percent_hoh_yes = np.round(hoh_yes/hoh_total*100, 2)\n",
    "\n",
    "print(f'Apenas {percent_hoh_yes}% dos chefes de família possuem conta em banco')"
   ]
  },
  {
   "cell_type": "markdown",
   "id": "38fc6f63",
   "metadata": {},
   "source": [
    "### 4.3. Multivariadas"
   ]
  },
  {
   "cell_type": "markdown",
   "id": "93896281",
   "metadata": {},
   "source": [
    "#### Features Numéricas"
   ]
  },
  {
   "cell_type": "code",
   "execution_count": 737,
   "id": "1d063b15",
   "metadata": {
    "ExecuteTime": {
     "end_time": "2022-05-29T18:43:54.937226Z",
     "start_time": "2022-05-29T18:43:54.675961Z"
    }
   },
   "outputs": [
    {
     "data": {
      "image/png": "[encoded data removed]",
      "text/plain": [
       "<Figure size 1800x864 with 2 Axes>"
      ]
     },
     "metadata": {},
     "output_type": "display_data"
    }
   ],
   "source": [
    "correlation = num_attributes.corr(method='pearson')\n",
    "sns.heatmap(correlation, annot=True);"
   ]
  },
  {
   "cell_type": "markdown",
   "id": "6971d707",
   "metadata": {},
   "source": [
    "#### Features Categóricas"
   ]
  },
  {
   "cell_type": "code",
   "execution_count": 738,
   "id": "593a295d",
   "metadata": {
    "ExecuteTime": {
     "end_time": "2022-05-29T18:43:54.947124Z",
     "start_time": "2022-05-29T18:43:54.939962Z"
    }
   },
   "outputs": [
    {
     "data": {
      "text/plain": [
       "Index(['country', 'uniqueid', 'location_type', 'cellphone_access',\n",
       "       'gender_of_respondent', 'relationship_with_head', 'marital_status',\n",
       "       'education_level', 'job_type', 'uid', 'bank_account'],\n",
       "      dtype='object')"
      ]
     },
     "execution_count": 738,
     "metadata": {},
     "output_type": "execute_result"
    }
   ],
   "source": [
    "cat_attributes.columns"
   ]
  },
  {
   "cell_type": "code",
   "execution_count": 739,
   "id": "345c12c0",
   "metadata": {
    "ExecuteTime": {
     "end_time": "2022-05-29T18:43:55.819145Z",
     "start_time": "2022-05-29T18:43:54.958943Z"
    }
   },
   "outputs": [],
   "source": [
    "cramer_v_list = []\n",
    "\n",
    "# remove uniqueid e uid da lista\n",
    "features = cat_attributes.columns.delete([1, 9])\n",
    "\n",
    "for feature_x in features:\n",
    "    for feature_y in features:\n",
    "        cramer_v_list.append(cramer_v(cat_attributes[feature_x], cat_attributes[feature_y]))"
   ]
  },
  {
   "cell_type": "code",
   "execution_count": 740,
   "id": "94735764",
   "metadata": {
    "ExecuteTime": {
     "end_time": "2022-05-29T18:43:55.858372Z",
     "start_time": "2022-05-29T18:43:55.821403Z"
    }
   },
   "outputs": [
    {
     "data": {
      "text/html": [
       "<div>\n",
       "<style scoped>\n",
       "    .dataframe tbody tr th:only-of-type {\n",
       "        vertical-align: middle;\n",
       "    }\n",
       "\n",
       "    .dataframe tbody tr th {\n",
       "        vertical-align: top;\n",
       "    }\n",
       "\n",
       "    .dataframe thead th {\n",
       "        text-align: right;\n",
       "    }\n",
       "</style>\n",
       "<table border=\"1\" class=\"dataframe\">\n",
       "  <thead>\n",
       "    <tr style=\"text-align: right;\">\n",
       "      <th></th>\n",
       "      <th>country</th>\n",
       "      <th>location_type</th>\n",
       "      <th>cellphone_access</th>\n",
       "      <th>gender_of_respondent</th>\n",
       "      <th>relationship_with_head</th>\n",
       "      <th>marital_status</th>\n",
       "      <th>education_level</th>\n",
       "      <th>job_type</th>\n",
       "      <th>bank_account</th>\n",
       "    </tr>\n",
       "  </thead>\n",
       "  <tbody>\n",
       "    <tr>\n",
       "      <th>country</th>\n",
       "      <td>1.000128</td>\n",
       "      <td>0.485541</td>\n",
       "      <td>0.221922</td>\n",
       "      <td>0.044653</td>\n",
       "      <td>0.154681</td>\n",
       "      <td>0.284090</td>\n",
       "      <td>0.186937</td>\n",
       "      <td>0.456750</td>\n",
       "      <td>0.204120</td>\n",
       "    </tr>\n",
       "    <tr>\n",
       "      <th>location_type</th>\n",
       "      <td>0.485541</td>\n",
       "      <td>0.999865</td>\n",
       "      <td>0.081536</td>\n",
       "      <td>0.012067</td>\n",
       "      <td>0.113234</td>\n",
       "      <td>0.278734</td>\n",
       "      <td>0.124061</td>\n",
       "      <td>0.414573</td>\n",
       "      <td>0.086148</td>\n",
       "    </tr>\n",
       "    <tr>\n",
       "      <th>cellphone_access</th>\n",
       "      <td>0.221922</td>\n",
       "      <td>0.081536</td>\n",
       "      <td>0.999818</td>\n",
       "      <td>0.099758</td>\n",
       "      <td>0.084907</td>\n",
       "      <td>0.177339</td>\n",
       "      <td>0.243977</td>\n",
       "      <td>0.220494</td>\n",
       "      <td>0.208132</td>\n",
       "    </tr>\n",
       "    <tr>\n",
       "      <th>gender_of_respondent</th>\n",
       "      <td>0.044653</td>\n",
       "      <td>0.012067</td>\n",
       "      <td>0.099758</td>\n",
       "      <td>0.999867</td>\n",
       "      <td>0.513442</td>\n",
       "      <td>0.220904</td>\n",
       "      <td>0.119907</td>\n",
       "      <td>0.175060</td>\n",
       "      <td>0.110040</td>\n",
       "    </tr>\n",
       "    <tr>\n",
       "      <th>relationship_with_head</th>\n",
       "      <td>0.154681</td>\n",
       "      <td>0.113234</td>\n",
       "      <td>0.084907</td>\n",
       "      <td>0.513442</td>\n",
       "      <td>1.000213</td>\n",
       "      <td>0.300953</td>\n",
       "      <td>0.125053</td>\n",
       "      <td>0.156889</td>\n",
       "      <td>0.119797</td>\n",
       "    </tr>\n",
       "    <tr>\n",
       "      <th>marital_status</th>\n",
       "      <td>0.284090</td>\n",
       "      <td>0.278734</td>\n",
       "      <td>0.177339</td>\n",
       "      <td>0.220904</td>\n",
       "      <td>0.300953</td>\n",
       "      <td>1.000170</td>\n",
       "      <td>0.163538</td>\n",
       "      <td>0.189912</td>\n",
       "      <td>0.096384</td>\n",
       "    </tr>\n",
       "    <tr>\n",
       "      <th>education_level</th>\n",
       "      <td>0.186937</td>\n",
       "      <td>0.124061</td>\n",
       "      <td>0.243977</td>\n",
       "      <td>0.119907</td>\n",
       "      <td>0.125053</td>\n",
       "      <td>0.163538</td>\n",
       "      <td>1.000213</td>\n",
       "      <td>0.190783</td>\n",
       "      <td>0.381896</td>\n",
       "    </tr>\n",
       "    <tr>\n",
       "      <th>job_type</th>\n",
       "      <td>0.456750</td>\n",
       "      <td>0.414573</td>\n",
       "      <td>0.220494</td>\n",
       "      <td>0.175060</td>\n",
       "      <td>0.156889</td>\n",
       "      <td>0.189912</td>\n",
       "      <td>0.190783</td>\n",
       "      <td>1.000383</td>\n",
       "      <td>0.354601</td>\n",
       "    </tr>\n",
       "    <tr>\n",
       "      <th>bank_account</th>\n",
       "      <td>0.204120</td>\n",
       "      <td>0.086148</td>\n",
       "      <td>0.208132</td>\n",
       "      <td>0.110040</td>\n",
       "      <td>0.119797</td>\n",
       "      <td>0.096384</td>\n",
       "      <td>0.381896</td>\n",
       "      <td>0.354601</td>\n",
       "      <td>0.999696</td>\n",
       "    </tr>\n",
       "  </tbody>\n",
       "</table>\n",
       "</div>"
      ],
      "text/plain": [
       "                         country  location_type  cellphone_access  gender_of_respondent  relationship_with_head  marital_status  education_level  job_type  bank_account\n",
       "country                 1.000128       0.485541          0.221922              0.044653                0.154681        0.284090         0.186937  0.456750      0.204120\n",
       "location_type           0.485541       0.999865          0.081536              0.012067                0.113234        0.278734         0.124061  0.414573      0.086148\n",
       "cellphone_access        0.221922       0.081536          0.999818              0.099758                0.084907        0.177339         0.243977  0.220494      0.208132\n",
       "gender_of_respondent    0.044653       0.012067          0.099758              0.999867                0.513442        0.220904         0.119907  0.175060      0.110040\n",
       "relationship_with_head  0.154681       0.113234          0.084907              0.513442                1.000213        0.300953         0.125053  0.156889      0.119797\n",
       "marital_status          0.284090       0.278734          0.177339              0.220904                0.300953        1.000170         0.163538  0.189912      0.096384\n",
       "education_level         0.186937       0.124061          0.243977              0.119907                0.125053        0.163538         1.000213  0.190783      0.381896\n",
       "job_type                0.456750       0.414573          0.220494              0.175060                0.156889        0.189912         0.190783  1.000383      0.354601\n",
       "bank_account            0.204120       0.086148          0.208132              0.110040                0.119797        0.096384         0.381896  0.354601      0.999696"
      ]
     },
     "execution_count": 740,
     "metadata": {},
     "output_type": "execute_result"
    }
   ],
   "source": [
    "df_cramer_v = pd.DataFrame({\n",
    "                'country': [\n",
    "                    cramer_v_list[0],\n",
    "                    cramer_v_list[1],\n",
    "                    cramer_v_list[2],\n",
    "                    cramer_v_list[3],\n",
    "                    cramer_v_list[4],\n",
    "                    cramer_v_list[5],\n",
    "                    cramer_v_list[6],\n",
    "                    cramer_v_list[7],\n",
    "                    cramer_v_list[8]],\n",
    "                'location_type': [\n",
    "                    cramer_v_list[9],\n",
    "                    cramer_v_list[10],\n",
    "                    cramer_v_list[11],\n",
    "                    cramer_v_list[12],\n",
    "                    cramer_v_list[13],\n",
    "                    cramer_v_list[14],\n",
    "                    cramer_v_list[15],\n",
    "                    cramer_v_list[16],\n",
    "                    cramer_v_list[17]],\n",
    "                'cellphone_access': [\n",
    "                    cramer_v_list[18],\n",
    "                    cramer_v_list[19],\n",
    "                    cramer_v_list[20],\n",
    "                    cramer_v_list[21],\n",
    "                    cramer_v_list[22],\n",
    "                    cramer_v_list[23],\n",
    "                    cramer_v_list[24],\n",
    "                    cramer_v_list[25],\n",
    "                    cramer_v_list[26]],\n",
    "                'gender_of_respondent': [\n",
    "                    cramer_v_list[27],\n",
    "                    cramer_v_list[28],\n",
    "                    cramer_v_list[29],\n",
    "                    cramer_v_list[30],\n",
    "                    cramer_v_list[31],\n",
    "                    cramer_v_list[32],\n",
    "                    cramer_v_list[33],\n",
    "                    cramer_v_list[34],\n",
    "                    cramer_v_list[35]],\n",
    "                'relationship_with_head': [\n",
    "                    cramer_v_list[36],\n",
    "                    cramer_v_list[37],\n",
    "                    cramer_v_list[38],\n",
    "                    cramer_v_list[39],\n",
    "                    cramer_v_list[40],\n",
    "                    cramer_v_list[41],\n",
    "                    cramer_v_list[42],\n",
    "                    cramer_v_list[43],\n",
    "                    cramer_v_list[44]],\n",
    "                'marital_status': [\n",
    "                    cramer_v_list[45],\n",
    "                    cramer_v_list[46],\n",
    "                    cramer_v_list[47],\n",
    "                    cramer_v_list[48],\n",
    "                    cramer_v_list[49],\n",
    "                    cramer_v_list[50],\n",
    "                    cramer_v_list[51],\n",
    "                    cramer_v_list[52],\n",
    "                    cramer_v_list[53]],\n",
    "                'education_level': [\n",
    "                    cramer_v_list[54],\n",
    "                    cramer_v_list[55],\n",
    "                    cramer_v_list[56],\n",
    "                    cramer_v_list[57],\n",
    "                    cramer_v_list[58],\n",
    "                    cramer_v_list[59],\n",
    "                    cramer_v_list[60],\n",
    "                    cramer_v_list[61],\n",
    "                    cramer_v_list[62]],\n",
    "                'job_type': [\n",
    "                    cramer_v_list[63],\n",
    "                    cramer_v_list[64],\n",
    "                    cramer_v_list[65],\n",
    "                    cramer_v_list[66],\n",
    "                    cramer_v_list[67],\n",
    "                    cramer_v_list[68],\n",
    "                    cramer_v_list[69],\n",
    "                    cramer_v_list[70],\n",
    "                    cramer_v_list[71]],\n",
    "                'bank_account': [\n",
    "                    cramer_v_list[72],\n",
    "                    cramer_v_list[73],\n",
    "                    cramer_v_list[74],\n",
    "                    cramer_v_list[75],\n",
    "                    cramer_v_list[76],\n",
    "                    cramer_v_list[77],\n",
    "                    cramer_v_list[78],\n",
    "                    cramer_v_list[79],\n",
    "                    cramer_v_list[80]]\n",
    "            })\n",
    "df_cramer_v = df_cramer_v.set_index(df_cramer_v.columns)\n",
    "df_cramer_v"
   ]
  },
  {
   "cell_type": "code",
   "execution_count": 741,
   "id": "85df8ff5",
   "metadata": {
    "ExecuteTime": {
     "end_time": "2022-05-29T18:43:56.469473Z",
     "start_time": "2022-05-29T18:43:55.861709Z"
    }
   },
   "outputs": [
    {
     "data": {
      "image/png": "[encoded data removed]",
      "text/plain": [
       "<Figure size 1800x864 with 2 Axes>"
      ]
     },
     "metadata": {},
     "output_type": "display_data"
    }
   ],
   "source": [
    "sns.heatmap(df_cramer_v, annot=True, vmin=-1, vmax=1, cmap='coolwarm');"
   ]
  },
  {
   "cell_type": "markdown",
   "id": "44eb5600",
   "metadata": {},
   "source": [
    "Candidatos à remoção: uid, uniqueid, gender_of_respondent, year"
   ]
  },
  {
   "cell_type": "markdown",
   "id": "ef9dd422",
   "metadata": {},
   "source": [
    "## 5. Preparação dos Dados"
   ]
  },
  {
   "cell_type": "code",
   "execution_count": 1055,
   "id": "8d0a0f61",
   "metadata": {
    "ExecuteTime": {
     "end_time": "2022-05-29T19:55:51.070681Z",
     "start_time": "2022-05-29T19:55:51.064363Z"
    }
   },
   "outputs": [],
   "source": [
    "df5 = df4.copy()"
   ]
  },
  {
   "cell_type": "code",
   "execution_count": 1056,
   "id": "85eb80a1",
   "metadata": {
    "ExecuteTime": {
     "end_time": "2022-05-29T19:55:51.513166Z",
     "start_time": "2022-05-29T19:55:51.075164Z"
    }
   },
   "outputs": [],
   "source": [
    "# Marital Status (tem conjuge)\n",
    "marital_mapper = {\n",
    "    'Married/Living together': 'Yes',\n",
    "    'Divorced/Seperated': 'No',\n",
    "    'Single/Never Married': 'No',\n",
    "    'Widowed': 'No',\n",
    "    'Dont know': 'No'\n",
    "}\n",
    "\n",
    "df5['marital_new'] = df5['marital_status'].map(marital_mapper)\n",
    "\n",
    "# Origem da renda\n",
    "income_mapper = {\n",
    "    'Farming and Fishing': 'Private',\n",
    "    'Self employed': 'Private',\n",
    "    'Informally employed': 'Private',\n",
    "    'No Income': 'Private',\n",
    "    'Other Income': 'Other',\n",
    "    'Remittance Dependent': 'Private',\n",
    "    'Formally employed Private': 'Private',\n",
    "    'Government Dependent': 'Public',\n",
    "    'Dont Know/Refuse to answer': 'Private',\n",
    "    'Formally employed Government': 'Public'\n",
    "}\n",
    "\n",
    "df5['income_origin'] = df5['job_type'].map(income_mapper)\n",
    "\n",
    "# Zona por País\n",
    "df5['country_zone'] = df5[['country', 'location_type']].apply(lambda x: x['country'] + x['location_type'], axis=1)\n",
    "\n",
    "# Tipo de escolaridade\n",
    "edu_mapper = {\n",
    "    'Primary education': 'Formal',\n",
    "    'Secondary education': 'Formal',\n",
    "    'Vocational/Specialised training': 'Formal',\n",
    "    'Tertiary education': 'Formal',\n",
    "    'No formal education': 'Informal',\n",
    "    'Other/Dont know/RTA': 'Informal'\n",
    "}\n",
    "\n",
    "df5['edu_type'] = df5['education_level'].map(edu_mapper)\n",
    "\n",
    "# Educação por País\n",
    "df5['country_edu'] = df5[['edu_type', 'country']].apply(lambda x: x['country'] + x['edu_type'], axis=1)"
   ]
  },
  {
   "cell_type": "code",
   "execution_count": 1057,
   "id": "d3b481e8",
   "metadata": {
    "ExecuteTime": {
     "end_time": "2022-05-29T19:55:51.758383Z",
     "start_time": "2022-05-29T19:55:51.515484Z"
    }
   },
   "outputs": [
    {
     "data": {
      "text/html": [
       "<div>\n",
       "<style scoped>\n",
       "    .dataframe tbody tr th:only-of-type {\n",
       "        vertical-align: middle;\n",
       "    }\n",
       "\n",
       "    .dataframe tbody tr th {\n",
       "        vertical-align: top;\n",
       "    }\n",
       "\n",
       "    .dataframe thead th {\n",
       "        text-align: right;\n",
       "    }\n",
       "</style>\n",
       "<table border=\"1\" class=\"dataframe\">\n",
       "  <thead>\n",
       "    <tr style=\"text-align: right;\">\n",
       "      <th></th>\n",
       "      <th>country</th>\n",
       "      <th>year</th>\n",
       "      <th>uniqueid</th>\n",
       "      <th>location_type_1</th>\n",
       "      <th>location_type_2</th>\n",
       "      <th>cellphone_access_1</th>\n",
       "      <th>cellphone_access_2</th>\n",
       "      <th>household_size</th>\n",
       "      <th>age_of_respondent</th>\n",
       "      <th>gender_of_respondent_1</th>\n",
       "      <th>gender_of_respondent_2</th>\n",
       "      <th>relationship_with_head</th>\n",
       "      <th>marital_status</th>\n",
       "      <th>education_level</th>\n",
       "      <th>job_type</th>\n",
       "      <th>uid</th>\n",
       "      <th>bank_account</th>\n",
       "      <th>marital_new_1</th>\n",
       "      <th>marital_new_2</th>\n",
       "      <th>income_origin</th>\n",
       "      <th>country_zone</th>\n",
       "      <th>edu_type_1</th>\n",
       "      <th>edu_type_2</th>\n",
       "      <th>country_edu</th>\n",
       "    </tr>\n",
       "  </thead>\n",
       "  <tbody>\n",
       "    <tr>\n",
       "      <th>0</th>\n",
       "      <td>1</td>\n",
       "      <td>2016</td>\n",
       "      <td>uniqueid_4858</td>\n",
       "      <td>1</td>\n",
       "      <td>0</td>\n",
       "      <td>1</td>\n",
       "      <td>0</td>\n",
       "      <td>6</td>\n",
       "      <td>45</td>\n",
       "      <td>1</td>\n",
       "      <td>0</td>\n",
       "      <td>1</td>\n",
       "      <td>0</td>\n",
       "      <td>2</td>\n",
       "      <td>1</td>\n",
       "      <td>Rwanda_uniqueid_4858</td>\n",
       "      <td>No</td>\n",
       "      <td>1</td>\n",
       "      <td>0</td>\n",
       "      <td>1</td>\n",
       "      <td>2</td>\n",
       "      <td>1</td>\n",
       "      <td>0</td>\n",
       "      <td>2</td>\n",
       "    </tr>\n",
       "    <tr>\n",
       "      <th>1</th>\n",
       "      <td>2</td>\n",
       "      <td>2017</td>\n",
       "      <td>uniqueid_3015</td>\n",
       "      <td>0</td>\n",
       "      <td>1</td>\n",
       "      <td>0</td>\n",
       "      <td>1</td>\n",
       "      <td>4</td>\n",
       "      <td>33</td>\n",
       "      <td>0</td>\n",
       "      <td>1</td>\n",
       "      <td>1</td>\n",
       "      <td>3</td>\n",
       "      <td>2</td>\n",
       "      <td>9</td>\n",
       "      <td>Tanzania_uniqueid_3015</td>\n",
       "      <td>No</td>\n",
       "      <td>1</td>\n",
       "      <td>0</td>\n",
       "      <td>1</td>\n",
       "      <td>5</td>\n",
       "      <td>1</td>\n",
       "      <td>0</td>\n",
       "      <td>4</td>\n",
       "    </tr>\n",
       "    <tr>\n",
       "      <th>2</th>\n",
       "      <td>1</td>\n",
       "      <td>2016</td>\n",
       "      <td>uniqueid_103</td>\n",
       "      <td>1</td>\n",
       "      <td>0</td>\n",
       "      <td>1</td>\n",
       "      <td>0</td>\n",
       "      <td>7</td>\n",
       "      <td>43</td>\n",
       "      <td>1</td>\n",
       "      <td>0</td>\n",
       "      <td>1</td>\n",
       "      <td>2</td>\n",
       "      <td>3</td>\n",
       "      <td>1</td>\n",
       "      <td>Rwanda_uniqueid_103</td>\n",
       "      <td>No</td>\n",
       "      <td>0</td>\n",
       "      <td>1</td>\n",
       "      <td>1</td>\n",
       "      <td>2</td>\n",
       "      <td>1</td>\n",
       "      <td>0</td>\n",
       "      <td>2</td>\n",
       "    </tr>\n",
       "    <tr>\n",
       "      <th>3</th>\n",
       "      <td>1</td>\n",
       "      <td>2016</td>\n",
       "      <td>uniqueid_4582</td>\n",
       "      <td>1</td>\n",
       "      <td>0</td>\n",
       "      <td>0</td>\n",
       "      <td>1</td>\n",
       "      <td>6</td>\n",
       "      <td>35</td>\n",
       "      <td>0</td>\n",
       "      <td>1</td>\n",
       "      <td>1</td>\n",
       "      <td>2</td>\n",
       "      <td>2</td>\n",
       "      <td>1</td>\n",
       "      <td>Rwanda_uniqueid_4582</td>\n",
       "      <td>No</td>\n",
       "      <td>0</td>\n",
       "      <td>1</td>\n",
       "      <td>1</td>\n",
       "      <td>2</td>\n",
       "      <td>1</td>\n",
       "      <td>0</td>\n",
       "      <td>2</td>\n",
       "    </tr>\n",
       "    <tr>\n",
       "      <th>4</th>\n",
       "      <td>2</td>\n",
       "      <td>2017</td>\n",
       "      <td>uniqueid_2854</td>\n",
       "      <td>0</td>\n",
       "      <td>1</td>\n",
       "      <td>1</td>\n",
       "      <td>0</td>\n",
       "      <td>2</td>\n",
       "      <td>30</td>\n",
       "      <td>1</td>\n",
       "      <td>0</td>\n",
       "      <td>1</td>\n",
       "      <td>3</td>\n",
       "      <td>2</td>\n",
       "      <td>5</td>\n",
       "      <td>Tanzania_uniqueid_2854</td>\n",
       "      <td>No</td>\n",
       "      <td>1</td>\n",
       "      <td>0</td>\n",
       "      <td>1</td>\n",
       "      <td>5</td>\n",
       "      <td>1</td>\n",
       "      <td>0</td>\n",
       "      <td>4</td>\n",
       "    </tr>\n",
       "  </tbody>\n",
       "</table>\n",
       "</div>"
      ],
      "text/plain": [
       "   country  year       uniqueid  location_type_1  location_type_2  cellphone_access_1  cellphone_access_2  household_size  age_of_respondent  gender_of_respondent_1  gender_of_respondent_2  relationship_with_head  marital_status  education_level  job_type                     uid bank_account  marital_new_1  marital_new_2  income_origin  country_zone  edu_type_1  edu_type_2  country_edu\n",
       "0        1  2016  uniqueid_4858                1                0                   1                   0               6                 45                       1                       0                       1               0                2         1    Rwanda_uniqueid_4858           No              1              0              1             2           1           0            2\n",
       "1        2  2017  uniqueid_3015                0                1                   0                   1               4                 33                       0                       1                       1               3                2         9  Tanzania_uniqueid_3015           No              1              0              1             5           1           0            4\n",
       "2        1  2016   uniqueid_103                1                0                   1                   0               7                 43                       1                       0                       1               2                3         1     Rwanda_uniqueid_103           No              0              1              1             2           1           0            2\n",
       "3        1  2016  uniqueid_4582                1                0                   0                   1               6                 35                       0                       1                       1               2                2         1    Rwanda_uniqueid_4582           No              0              1              1             2           1           0            2\n",
       "4        2  2017  uniqueid_2854                0                1                   1                   0               2                 30                       1                       0                       1               3                2         5  Tanzania_uniqueid_2854           No              1              0              1             5           1           0            4"
      ]
     },
     "execution_count": 1057,
     "metadata": {},
     "output_type": "execute_result"
    }
   ],
   "source": [
    "# one hot encoding\n",
    "ohe = ce.OneHotEncoder(cols=['location_type', 'cellphone_access', 'gender_of_respondent', 'marital_new', 'edu_type'])\n",
    "\n",
    "ohe_fit = ohe.fit(df5)\n",
    "df5 = ohe_fit.transform(df5)\n",
    "\n",
    "# label encoding\n",
    "le = pp.LabelEncoder()\n",
    "le_country = le.fit(df5['country'])\n",
    "df5['country'] = le_country.transform(df5['country'])\n",
    "\n",
    "le = pp.LabelEncoder()\n",
    "le_relationship_with_head = le.fit(df5['relationship_with_head'])\n",
    "df5['relationship_with_head'] = le_relationship_with_head.transform(df5['relationship_with_head'])\n",
    "\n",
    "le = pp.LabelEncoder()\n",
    "le_marital_status = le.fit(df5['marital_status'])\n",
    "df5['marital_status'] = le_marital_status.transform(df5['marital_status'])\n",
    "\n",
    "le = pp.LabelEncoder()\n",
    "le_education_level = le.fit(df5['education_level'])\n",
    "df5['education_level'] = le_education_level.transform(df5['education_level'])\n",
    "\n",
    "le = pp.LabelEncoder()\n",
    "le_job_type = le.fit(df5['job_type'])\n",
    "df5['job_type'] = le_job_type.transform(df5['job_type'])\n",
    "\n",
    "le = pp.LabelEncoder()\n",
    "le_income_origin = le.fit(df5['income_origin'])\n",
    "df5['income_origin'] = le_income_origin.transform(df5['income_origin'])\n",
    "\n",
    "le = pp.LabelEncoder()\n",
    "le_country_zone = le.fit(df5['country_zone'])\n",
    "df5['country_zone'] = le_country_zone.transform(df5['country_zone'])\n",
    "\n",
    "le = pp.LabelEncoder()\n",
    "le_country_edu = le.fit(df5['country_edu'])\n",
    "df5['country_edu'] = le_country_edu.transform(df5['country_edu'])\n",
    "\n",
    "df5.head()"
   ]
  },
  {
   "cell_type": "code",
   "execution_count": 1058,
   "id": "20d771d2",
   "metadata": {
    "ExecuteTime": {
     "end_time": "2022-05-29T19:55:51.765941Z",
     "start_time": "2022-05-29T19:55:51.762187Z"
    }
   },
   "outputs": [],
   "source": [
    "# # análise de frequência\n",
    "\n",
    "# # country\n",
    "# df5['country'], count_country = freq_analysis(df5, 'country')\n",
    "\n",
    "# # location_type\n",
    "# df5['location_type'], count_location_type = freq_analysis(df5, 'location_type')\n",
    "\n",
    "# # cellphone_access\n",
    "# df5['cellphone_access'], count_cellphone_access = freq_analysis(df5, 'cellphone_access')\n",
    "\n",
    "# # gender_of_respondent\n",
    "# df5['gender_of_respondent'], count_gender_of_respondent = freq_analysis(df5, 'gender_of_respondent')\n",
    "\n",
    "# # relationship_with_head\n",
    "# df5['relationship_with_head'], count_relationship_with_head = freq_analysis(df5, 'relationship_with_head')\n",
    "\n",
    "# # marital_status\n",
    "# df5['marital_status'], count_marital_status = freq_analysis(df5, 'marital_status')\n",
    "\n",
    "# # education_level\n",
    "# df5['education_level'], count_education_level = freq_analysis(df5, 'education_level')\n",
    "\n",
    "# # job_type\n",
    "# df5['job_type'], count_job_type = freq_analysis(df5, 'job_type')\n",
    "\n",
    "# df5.head()"
   ]
  },
  {
   "cell_type": "code",
   "execution_count": 1059,
   "id": "e22c5ceb",
   "metadata": {
    "ExecuteTime": {
     "end_time": "2022-05-29T19:55:51.782753Z",
     "start_time": "2022-05-29T19:55:51.769112Z"
    }
   },
   "outputs": [],
   "source": [
    "# bank_account\n",
    "df5['bank_account'] = df5['bank_account'].apply(lambda x: 1 if x == 'Yes' else 0)"
   ]
  },
  {
   "cell_type": "code",
   "execution_count": 1060,
   "id": "2e415576-4836-4689-a324-018f22117d80",
   "metadata": {
    "ExecuteTime": {
     "end_time": "2022-05-29T19:55:51.838447Z",
     "start_time": "2022-05-29T19:55:51.785605Z"
    }
   },
   "outputs": [],
   "source": [
    "minmax_country = pp.MinMaxScaler().fit(df5[['country']].values)\n",
    "df5['country'] = minmax_country.transform(df5[['country']].values)\n",
    "\n",
    "minmax_year = pp.MinMaxScaler().fit(df5[['year']].values)\n",
    "df5['year'] = minmax_year.transform(df5[['year']].values)\n",
    "\n",
    "# minmax_location_type = pp.MinMaxScaler().fit(df5[['location_type']].values)\n",
    "# df5['location_type'] = minmax_location_type.transform(df5[['location_type']].values)\n",
    "\n",
    "# minmax_cellphone_access = pp.MinMaxScaler().fit(df5[['cellphone_access']].values)\n",
    "# df5['cellphone_access'] = minmax_cellphone_access.transform(df5[['cellphone_access']].values)\n",
    "\n",
    "minmax_household_size = pp.MinMaxScaler().fit(df5[['household_size']].values)\n",
    "df5['household_size'] = minmax_household_size.transform(df5[['household_size']].values)\n",
    "\n",
    "minmax_age_of_respondent = pp.MinMaxScaler().fit(df5[['age_of_respondent']].values)\n",
    "df5['age_of_respondent'] = minmax_age_of_respondent.transform(df5[['age_of_respondent']].values)\n",
    "\n",
    "# minmax_gender_of_respondent = pp.MinMaxScaler().fit(df5[['gender_of_respondent']].values)\n",
    "# df5['gender_of_respondent'] = minmax_gender_of_respondent.transform(df5[['gender_of_respondent']].values)\n",
    "\n",
    "minmax_relationship_with_head = pp.MinMaxScaler().fit(df5[['relationship_with_head']].values)\n",
    "df5['relationship_with_head'] = minmax_relationship_with_head.transform(df5[['relationship_with_head']].values)\n",
    "\n",
    "minmax_marital_status = pp.MinMaxScaler().fit(df5[['marital_status']].values)\n",
    "df5['marital_status'] = minmax_marital_status.transform(df5[['marital_status']].values)\n",
    "\n",
    "minmax_education_level = pp.MinMaxScaler().fit(df5[['education_level']].values)\n",
    "df5['education_level'] = minmax_education_level.transform(df5[['education_level']].values)\n",
    "\n",
    "minmax_job_type = pp.MinMaxScaler().fit(df5[['job_type']].values)\n",
    "df5['job_type'] = minmax_job_type.transform(df5[['job_type']].values)\n",
    "\n",
    "minmax_income_origin = pp.MinMaxScaler().fit(df5[['income_origin']].values)\n",
    "df5['income_origin'] = minmax_income_origin.transform(df5[['income_origin']].values)\n",
    "\n",
    "minmax_country_zone = pp.MinMaxScaler().fit(df5[['country_zone']].values)\n",
    "df5['country_zone'] = minmax_country_zone.transform(df5[['country_zone']].values)\n",
    "\n",
    "minmax_country_edu = pp.MinMaxScaler().fit(df5[['country_edu']].values)\n",
    "df5['country_edu'] = minmax_country_edu.transform(df5[['country_edu']].values)"
   ]
  },
  {
   "cell_type": "markdown",
   "id": "6ea4a32c",
   "metadata": {},
   "source": [
    "### 5.1. Reescala dos Dados"
   ]
  },
  {
   "cell_type": "markdown",
   "id": "ce70d8f1",
   "metadata": {},
   "source": [
    "## 6. Seleção de Features"
   ]
  },
  {
   "cell_type": "code",
   "execution_count": 1061,
   "id": "5cbb50da",
   "metadata": {
    "ExecuteTime": {
     "end_time": "2022-05-29T19:55:51.846874Z",
     "start_time": "2022-05-29T19:55:51.841086Z"
    }
   },
   "outputs": [],
   "source": [
    "df6 = df5.copy()"
   ]
  },
  {
   "cell_type": "markdown",
   "id": "9c9d749c",
   "metadata": {},
   "source": [
    "### 6.1. Separação de Treino e Teste"
   ]
  },
  {
   "cell_type": "code",
   "execution_count": 1062,
   "id": "68026fbc",
   "metadata": {
    "ExecuteTime": {
     "end_time": "2022-05-29T19:55:51.876259Z",
     "start_time": "2022-05-29T19:55:51.850018Z"
    }
   },
   "outputs": [
    {
     "data": {
      "text/html": [
       "<div>\n",
       "<style scoped>\n",
       "    .dataframe tbody tr th:only-of-type {\n",
       "        vertical-align: middle;\n",
       "    }\n",
       "\n",
       "    .dataframe tbody tr th {\n",
       "        vertical-align: top;\n",
       "    }\n",
       "\n",
       "    .dataframe thead th {\n",
       "        text-align: right;\n",
       "    }\n",
       "</style>\n",
       "<table border=\"1\" class=\"dataframe\">\n",
       "  <thead>\n",
       "    <tr style=\"text-align: right;\">\n",
       "      <th></th>\n",
       "      <th>country</th>\n",
       "      <th>year</th>\n",
       "      <th>uniqueid</th>\n",
       "      <th>location_type_1</th>\n",
       "      <th>location_type_2</th>\n",
       "      <th>cellphone_access_1</th>\n",
       "      <th>cellphone_access_2</th>\n",
       "      <th>household_size</th>\n",
       "      <th>age_of_respondent</th>\n",
       "      <th>gender_of_respondent_1</th>\n",
       "      <th>gender_of_respondent_2</th>\n",
       "      <th>relationship_with_head</th>\n",
       "      <th>marital_status</th>\n",
       "      <th>education_level</th>\n",
       "      <th>job_type</th>\n",
       "      <th>uid</th>\n",
       "      <th>bank_account</th>\n",
       "      <th>marital_new_1</th>\n",
       "      <th>marital_new_2</th>\n",
       "      <th>income_origin</th>\n",
       "      <th>country_zone</th>\n",
       "      <th>edu_type_1</th>\n",
       "      <th>edu_type_2</th>\n",
       "      <th>country_edu</th>\n",
       "    </tr>\n",
       "  </thead>\n",
       "  <tbody>\n",
       "    <tr>\n",
       "      <th>0</th>\n",
       "      <td>0.333333</td>\n",
       "      <td>0.0</td>\n",
       "      <td>uniqueid_4858</td>\n",
       "      <td>1</td>\n",
       "      <td>0</td>\n",
       "      <td>1</td>\n",
       "      <td>0</td>\n",
       "      <td>0.25</td>\n",
       "      <td>0.345238</td>\n",
       "      <td>1</td>\n",
       "      <td>0</td>\n",
       "      <td>0.2</td>\n",
       "      <td>0.00</td>\n",
       "      <td>0.4</td>\n",
       "      <td>0.111111</td>\n",
       "      <td>Rwanda_uniqueid_4858</td>\n",
       "      <td>0</td>\n",
       "      <td>1</td>\n",
       "      <td>0</td>\n",
       "      <td>0.5</td>\n",
       "      <td>0.285714</td>\n",
       "      <td>1</td>\n",
       "      <td>0</td>\n",
       "      <td>0.285714</td>\n",
       "    </tr>\n",
       "    <tr>\n",
       "      <th>1</th>\n",
       "      <td>0.666667</td>\n",
       "      <td>0.5</td>\n",
       "      <td>uniqueid_3015</td>\n",
       "      <td>0</td>\n",
       "      <td>1</td>\n",
       "      <td>0</td>\n",
       "      <td>1</td>\n",
       "      <td>0.15</td>\n",
       "      <td>0.202381</td>\n",
       "      <td>0</td>\n",
       "      <td>1</td>\n",
       "      <td>0.2</td>\n",
       "      <td>0.75</td>\n",
       "      <td>0.4</td>\n",
       "      <td>1.000000</td>\n",
       "      <td>Tanzania_uniqueid_3015</td>\n",
       "      <td>0</td>\n",
       "      <td>1</td>\n",
       "      <td>0</td>\n",
       "      <td>0.5</td>\n",
       "      <td>0.714286</td>\n",
       "      <td>1</td>\n",
       "      <td>0</td>\n",
       "      <td>0.571429</td>\n",
       "    </tr>\n",
       "    <tr>\n",
       "      <th>2</th>\n",
       "      <td>0.333333</td>\n",
       "      <td>0.0</td>\n",
       "      <td>uniqueid_103</td>\n",
       "      <td>1</td>\n",
       "      <td>0</td>\n",
       "      <td>1</td>\n",
       "      <td>0</td>\n",
       "      <td>0.30</td>\n",
       "      <td>0.321429</td>\n",
       "      <td>1</td>\n",
       "      <td>0</td>\n",
       "      <td>0.2</td>\n",
       "      <td>0.50</td>\n",
       "      <td>0.6</td>\n",
       "      <td>0.111111</td>\n",
       "      <td>Rwanda_uniqueid_103</td>\n",
       "      <td>0</td>\n",
       "      <td>0</td>\n",
       "      <td>1</td>\n",
       "      <td>0.5</td>\n",
       "      <td>0.285714</td>\n",
       "      <td>1</td>\n",
       "      <td>0</td>\n",
       "      <td>0.285714</td>\n",
       "    </tr>\n",
       "    <tr>\n",
       "      <th>3</th>\n",
       "      <td>0.333333</td>\n",
       "      <td>0.0</td>\n",
       "      <td>uniqueid_4582</td>\n",
       "      <td>1</td>\n",
       "      <td>0</td>\n",
       "      <td>0</td>\n",
       "      <td>1</td>\n",
       "      <td>0.25</td>\n",
       "      <td>0.226190</td>\n",
       "      <td>0</td>\n",
       "      <td>1</td>\n",
       "      <td>0.2</td>\n",
       "      <td>0.50</td>\n",
       "      <td>0.4</td>\n",
       "      <td>0.111111</td>\n",
       "      <td>Rwanda_uniqueid_4582</td>\n",
       "      <td>0</td>\n",
       "      <td>0</td>\n",
       "      <td>1</td>\n",
       "      <td>0.5</td>\n",
       "      <td>0.285714</td>\n",
       "      <td>1</td>\n",
       "      <td>0</td>\n",
       "      <td>0.285714</td>\n",
       "    </tr>\n",
       "    <tr>\n",
       "      <th>4</th>\n",
       "      <td>0.666667</td>\n",
       "      <td>0.5</td>\n",
       "      <td>uniqueid_2854</td>\n",
       "      <td>0</td>\n",
       "      <td>1</td>\n",
       "      <td>1</td>\n",
       "      <td>0</td>\n",
       "      <td>0.05</td>\n",
       "      <td>0.166667</td>\n",
       "      <td>1</td>\n",
       "      <td>0</td>\n",
       "      <td>0.2</td>\n",
       "      <td>0.75</td>\n",
       "      <td>0.4</td>\n",
       "      <td>0.555556</td>\n",
       "      <td>Tanzania_uniqueid_2854</td>\n",
       "      <td>0</td>\n",
       "      <td>1</td>\n",
       "      <td>0</td>\n",
       "      <td>0.5</td>\n",
       "      <td>0.714286</td>\n",
       "      <td>1</td>\n",
       "      <td>0</td>\n",
       "      <td>0.571429</td>\n",
       "    </tr>\n",
       "  </tbody>\n",
       "</table>\n",
       "</div>"
      ],
      "text/plain": [
       "    country  year       uniqueid  location_type_1  location_type_2  cellphone_access_1  cellphone_access_2  household_size  age_of_respondent  gender_of_respondent_1  gender_of_respondent_2  relationship_with_head  marital_status  education_level  job_type                     uid  bank_account  marital_new_1  marital_new_2  income_origin  country_zone  edu_type_1  edu_type_2  country_edu\n",
       "0  0.333333   0.0  uniqueid_4858                1                0                   1                   0            0.25           0.345238                       1                       0                     0.2            0.00              0.4  0.111111    Rwanda_uniqueid_4858             0              1              0            0.5      0.285714           1           0     0.285714\n",
       "1  0.666667   0.5  uniqueid_3015                0                1                   0                   1            0.15           0.202381                       0                       1                     0.2            0.75              0.4  1.000000  Tanzania_uniqueid_3015             0              1              0            0.5      0.714286           1           0     0.571429\n",
       "2  0.333333   0.0   uniqueid_103                1                0                   1                   0            0.30           0.321429                       1                       0                     0.2            0.50              0.6  0.111111     Rwanda_uniqueid_103             0              0              1            0.5      0.285714           1           0     0.285714\n",
       "3  0.333333   0.0  uniqueid_4582                1                0                   0                   1            0.25           0.226190                       0                       1                     0.2            0.50              0.4  0.111111    Rwanda_uniqueid_4582             0              0              1            0.5      0.285714           1           0     0.285714\n",
       "4  0.666667   0.5  uniqueid_2854                0                1                   1                   0            0.05           0.166667                       1                       0                     0.2            0.75              0.4  0.555556  Tanzania_uniqueid_2854             0              1              0            0.5      0.714286           1           0     0.571429"
      ]
     },
     "execution_count": 1062,
     "metadata": {},
     "output_type": "execute_result"
    }
   ],
   "source": [
    "df6.head()"
   ]
  },
  {
   "cell_type": "code",
   "execution_count": 1063,
   "id": "31a51331",
   "metadata": {
    "ExecuteTime": {
     "end_time": "2022-05-29T19:55:51.892078Z",
     "start_time": "2022-05-29T19:55:51.880302Z"
    }
   },
   "outputs": [],
   "source": [
    "not_selected = [\n",
    "    'uniqueid',\n",
    "    'uid',\n",
    "    'bank_account',\n",
    "    'relationship_with_head',\n",
    "    'marital_status',\n",
    "    'location_type_1',\n",
    "    'location_type_2',\n",
    "    'gender_of_respondent_1',\n",
    "    'gender_of_respondent_2',\n",
    "    'year',\n",
    "    'cellphone_access_1',\n",
    "    'cellphone_access_2',\n",
    "    'marital_new_1',\n",
    "    'marital_new_2',\n",
    "    'income_origin',\n",
    "    'country',\n",
    "    'education_level',\n",
    "    'country_edu'\n",
    "]\n",
    "\n",
    "X = df6.drop(not_selected,axis=1)\n",
    "y = df6['bank_account']\n",
    "\n",
    "x_train, x_test, y_train, y_test = ms.train_test_split(X, y, test_size=0.3, random_state=42)"
   ]
  },
  {
   "cell_type": "markdown",
   "id": "07dd2510",
   "metadata": {},
   "source": [
    "Os dados da variável dependente estão desbalanceados.  \n",
    "Vamos aplicar a técnica de over sample, onde vamos aumentar a população da menor classe."
   ]
  },
  {
   "cell_type": "code",
   "execution_count": 1064,
   "id": "70bfb5ee",
   "metadata": {
    "ExecuteTime": {
     "end_time": "2022-05-29T19:55:51.904314Z",
     "start_time": "2022-05-29T19:55:51.894988Z"
    }
   },
   "outputs": [
    {
     "data": {
      "text/plain": [
       "0    10077\n",
       "1     1685\n",
       "Name: bank_account, dtype: int64"
      ]
     },
     "execution_count": 1064,
     "metadata": {},
     "output_type": "execute_result"
    }
   ],
   "source": [
    "y.value_counts()"
   ]
  },
  {
   "cell_type": "code",
   "execution_count": 1065,
   "id": "e15734dd",
   "metadata": {
    "ExecuteTime": {
     "end_time": "2022-05-29T19:55:51.934754Z",
     "start_time": "2022-05-29T19:55:51.907677Z"
    }
   },
   "outputs": [
    {
     "data": {
      "text/plain": [
       "0    10077\n",
       "1    10077\n",
       "Name: bank_account, dtype: int64"
      ]
     },
     "execution_count": 1065,
     "metadata": {},
     "output_type": "execute_result"
    }
   ],
   "source": [
    "smote = SMOTE(random_state=42)\n",
    "X, y = smote.fit_resample(X, y)\n",
    "\n",
    "y.value_counts()"
   ]
  },
  {
   "cell_type": "markdown",
   "id": "7132a5b0",
   "metadata": {},
   "source": [
    "## 7. Construção do Modelo"
   ]
  },
  {
   "cell_type": "code",
   "execution_count": 1066,
   "id": "4e94cbb1",
   "metadata": {
    "ExecuteTime": {
     "end_time": "2022-05-29T19:55:51.940769Z",
     "start_time": "2022-05-29T19:55:51.937490Z"
    }
   },
   "outputs": [],
   "source": [
    "score_list = {}\n",
    "models_f1 = {}\n",
    "\n",
    "k_fold = 10"
   ]
  },
  {
   "cell_type": "markdown",
   "id": "78377f4a",
   "metadata": {
    "ExecuteTime": {
     "end_time": "2022-05-28T16:11:32.634627Z",
     "start_time": "2022-05-28T16:11:32.611107Z"
    }
   },
   "source": [
    "### 7.1. Random Forest Classifier"
   ]
  },
  {
   "cell_type": "code",
   "execution_count": 1067,
   "id": "074beb9b",
   "metadata": {
    "ExecuteTime": {
     "end_time": "2022-05-29T19:55:52.546556Z",
     "start_time": "2022-05-29T19:55:51.944798Z"
    }
   },
   "outputs": [],
   "source": [
    "# criar o modelo\n",
    "rfc_model = ensemble.RandomForestClassifier(random_state=42)\n",
    "\n",
    "# treinar o modelo\n",
    "rfc_model.fit(x_train, y_train)\n",
    "\n",
    "# fazer a predição\n",
    "yhat_rfc = rfc_model.predict(x_test)\n",
    "\n",
    "# calcula a performance\n",
    "models_f1['Random Forest'] = metrics.f1_score(y_test, yhat_rfc)"
   ]
  },
  {
   "cell_type": "code",
   "execution_count": 1068,
   "id": "376f17fa-8303-4d8b-b6da-7e606ce65778",
   "metadata": {
    "ExecuteTime": {
     "end_time": "2022-05-29T19:56:06.159059Z",
     "start_time": "2022-05-29T19:55:52.548664Z"
    }
   },
   "outputs": [],
   "source": [
    "# cross validation\n",
    "score = ms.cross_val_score(rfc_model,X,y,scoring='f1',cv=k_fold)\n",
    "score_list['Random Forest'] = np.mean(score)"
   ]
  },
  {
   "cell_type": "markdown",
   "id": "73f0b3d1-85ca-49bc-80c2-a599d7acbe65",
   "metadata": {},
   "source": [
    "## 7.2 Logistic Regression"
   ]
  },
  {
   "cell_type": "code",
   "execution_count": 1069,
   "id": "c37040dc-0c36-4bd0-af0b-ab79a83738cb",
   "metadata": {
    "ExecuteTime": {
     "end_time": "2022-05-29T19:56:06.227122Z",
     "start_time": "2022-05-29T19:56:06.161773Z"
    }
   },
   "outputs": [],
   "source": [
    "# criar o modelo\n",
    "logistic_model = linear_model.LogisticRegression()\n",
    "\n",
    "# treinar o modelo\n",
    "logistic_model.fit(x_train, y_train)\n",
    "\n",
    "# fazer a predição\n",
    "yhat_logistic = logistic_model.predict(x_test)\n",
    "\n",
    "# calcula a performance\n",
    "models_f1['Logistic Regression'] = metrics.f1_score(y_test, yhat_logistic)"
   ]
  },
  {
   "cell_type": "code",
   "execution_count": 1070,
   "id": "83a2f2ca-846d-4d56-a19d-fe32a56b4235",
   "metadata": {
    "ExecuteTime": {
     "end_time": "2022-05-29T19:56:06.696607Z",
     "start_time": "2022-05-29T19:56:06.230258Z"
    }
   },
   "outputs": [],
   "source": [
    "score = ms.cross_val_score(logistic_model,X,y,scoring='f1',cv=k_fold)\n",
    "score_list['Logistic Regression']=np.mean(score)"
   ]
  },
  {
   "cell_type": "markdown",
   "id": "91f46092-ca6e-4e5b-923f-b48e45aa8be9",
   "metadata": {},
   "source": [
    "## 7.3 Support Vector Machine"
   ]
  },
  {
   "cell_type": "code",
   "execution_count": 1071,
   "id": "1c46071c-03ad-4626-8328-01b5e8668ec5",
   "metadata": {
    "ExecuteTime": {
     "end_time": "2022-05-29T19:56:06.703518Z",
     "start_time": "2022-05-29T19:56:06.699746Z"
    }
   },
   "outputs": [],
   "source": [
    "# # criar o modelo\n",
    "# svm_model = SVC()\n",
    "\n",
    "# # treinar o modelo\n",
    "# svm_model.fit(x_train, y_train)\n",
    "\n",
    "# # fazer a predição\n",
    "# yhat_svm = svm_model.predict(x_test)\n",
    "\n",
    "# # calcula a performance\n",
    "# models_f1['SVM'] = metrics.f1_score(y_test, yhat_svm)"
   ]
  },
  {
   "cell_type": "code",
   "execution_count": 1072,
   "id": "5f74fddc-167c-4739-b970-dedbcfe6d8ab",
   "metadata": {
    "ExecuteTime": {
     "end_time": "2022-05-29T19:56:06.710690Z",
     "start_time": "2022-05-29T19:56:06.707429Z"
    }
   },
   "outputs": [],
   "source": [
    "# score = ms.cross_val_score(svm_model,X,y,scoring='f1',cv=k_fold)\n",
    "# score_list['SVM']=np.mean(score)"
   ]
  },
  {
   "cell_type": "markdown",
   "id": "21449f80-0d56-4957-8ffb-0905157431b5",
   "metadata": {},
   "source": [
    "## 7.4 KNN"
   ]
  },
  {
   "cell_type": "code",
   "execution_count": 1073,
   "id": "09163d12-faa6-4e29-833a-c1c6a85c6a83",
   "metadata": {
    "ExecuteTime": {
     "end_time": "2022-05-29T19:56:06.885008Z",
     "start_time": "2022-05-29T19:56:06.713980Z"
    }
   },
   "outputs": [],
   "source": [
    "# criar o modelo\n",
    "knn_model = KNeighborsClassifier()\n",
    "\n",
    "# treinar o modelo\n",
    "knn_model.fit(x_train, y_train)\n",
    "\n",
    "# fazer a predição\n",
    "yhat_knn = knn_model.predict(x_test)\n",
    "\n",
    "# calcula a performance\n",
    "models_f1['KNN'] = metrics.f1_score(y_test, yhat_knn)"
   ]
  },
  {
   "cell_type": "code",
   "execution_count": 1074,
   "id": "a6fdcdf5-5cea-4475-a3f6-7d73daf2258f",
   "metadata": {
    "ExecuteTime": {
     "end_time": "2022-05-29T19:56:07.949506Z",
     "start_time": "2022-05-29T19:56:06.887301Z"
    }
   },
   "outputs": [],
   "source": [
    "score = ms.cross_val_score(knn_model,X,y,scoring='f1',cv=k_fold)\n",
    "score_list['KNN']=np.mean(score)"
   ]
  },
  {
   "cell_type": "markdown",
   "id": "023f8190",
   "metadata": {},
   "source": [
    "## 8. Avaliação do Modelo"
   ]
  },
  {
   "cell_type": "code",
   "execution_count": 1075,
   "id": "228f6678",
   "metadata": {
    "ExecuteTime": {
     "end_time": "2022-05-29T19:56:07.958274Z",
     "start_time": "2022-05-29T19:56:07.952944Z"
    }
   },
   "outputs": [
    {
     "data": {
      "text/plain": [
       "{'Random Forest': 0.3610451306413302,\n",
       " 'Logistic Regression': 0.0,\n",
       " 'KNN': 0.3728813559322034}"
      ]
     },
     "execution_count": 1075,
     "metadata": {},
     "output_type": "execute_result"
    }
   ],
   "source": [
    "models_f1"
   ]
  },
  {
   "cell_type": "code",
   "execution_count": 1076,
   "id": "5716e57d-fc0f-4cef-8fbf-361ae7e2baf6",
   "metadata": {
    "ExecuteTime": {
     "end_time": "2022-05-29T19:56:07.968669Z",
     "start_time": "2022-05-29T19:56:07.961521Z"
    }
   },
   "outputs": [
    {
     "data": {
      "text/plain": [
       "{'Random Forest': 0.8626057210431016,\n",
       " 'Logistic Regression': 0.6677682543373659,\n",
       " 'KNN': 0.8245776464175861}"
      ]
     },
     "execution_count": 1076,
     "metadata": {},
     "output_type": "execute_result"
    }
   ],
   "source": [
    "score_list"
   ]
  },
  {
   "cell_type": "markdown",
   "id": "987f37f4",
   "metadata": {},
   "source": [
    "## 9. Modelo Final"
   ]
  },
  {
   "cell_type": "markdown",
   "id": "f7b3043d",
   "metadata": {},
   "source": [
    "**Fine Tunning**"
   ]
  },
  {
   "cell_type": "code",
   "execution_count": 1077,
   "id": "46059aa8",
   "metadata": {
    "ExecuteTime": {
     "end_time": "2022-05-29T19:56:07.976449Z",
     "start_time": "2022-05-29T19:56:07.972002Z"
    }
   },
   "outputs": [],
   "source": [
    "# Random Search\n",
    "# param = {\n",
    "#     'n_estimators': [100, 500, 800, 1300, 2500, 3000],\n",
    "#     'max_depth': [3, 5, 7, 9]\n",
    "# }\n",
    "\n",
    "# MAX_EVAL = 10\n",
    "\n",
    "# KNN\n",
    "# MAX_EVAL = 41"
   ]
  },
  {
   "cell_type": "code",
   "execution_count": 1078,
   "id": "53dc8d61",
   "metadata": {
    "ExecuteTime": {
     "end_time": "2022-05-29T19:56:07.988793Z",
     "start_time": "2022-05-29T19:56:07.985120Z"
    }
   },
   "outputs": [],
   "source": [
    "# final_result = {}\n",
    "\n",
    "# for i in range(MAX_EVAL):\n",
    "#     hp = {k: sample(v, 1)[0] for k, v in param.items()}\n",
    "    \n",
    "#     rfc_model_tunned = ensemble.RandomForestClassifier(\n",
    "#         random_state=42,\n",
    "#         n_estimators=hp['n_estimators'],\n",
    "#         max_depth=hp['max_depth']\n",
    "#     )\n",
    "    \n",
    "#     score = ms.cross_val_score(rfc_model_tunned, X, y, scoring='f1', cv=k_fold)\n",
    "#     final_result[i] = [np.mean(score), hp]\n",
    "\n",
    "# for i in range(5, MAX_EVAL):\n",
    "#     knn_model_tunned = KNeighborsClassifier(n_neighbors=i)\n",
    "\n",
    "#     score = ms.cross_val_score(knn_model_tunned, X, y, scoring='f1', cv=k_fold)\n",
    "\n",
    "#     final_result[i] = (np.mean(score))\n",
    "    \n",
    "# final_result"
   ]
  },
  {
   "cell_type": "markdown",
   "id": "3a32decc",
   "metadata": {},
   "source": [
    "Melhores parâmetros para a Random Forest a partir do Random Search:\n",
    "\n",
    "- n_estimators: 3000\n",
    "- max_depth: 9"
   ]
  },
  {
   "cell_type": "markdown",
   "id": "42b27cfd",
   "metadata": {},
   "source": [
    "Melhores parêmatros para o KNN:  \n",
    "- n_neighbors: 5"
   ]
  },
  {
   "cell_type": "markdown",
   "id": "74ca48ba",
   "metadata": {},
   "source": [
    "**Modelo**"
   ]
  },
  {
   "cell_type": "markdown",
   "id": "654f1525",
   "metadata": {},
   "source": [
    "Vamos seguir com a Random Forest por ter obtido uma melhor performance para a métrica F1 Score"
   ]
  },
  {
   "cell_type": "code",
   "execution_count": 1079,
   "id": "4ada9003",
   "metadata": {
    "ExecuteTime": {
     "end_time": "2022-05-29T19:56:37.790761Z",
     "start_time": "2022-05-29T19:56:07.991440Z"
    }
   },
   "outputs": [
    {
     "data": {
      "text/html": [
       "<style>#sk-container-id-20 {color: black;background-color: white;}#sk-container-id-20 pre{padding: 0;}#sk-container-id-20 div.sk-toggleable {background-color: white;}#sk-container-id-20 label.sk-toggleable__label {cursor: pointer;display: block;width: 100%;margin-bottom: 0;padding: 0.3em;box-sizing: border-box;text-align: center;}#sk-container-id-20 label.sk-toggleable__label-arrow:before {content: \"▸\";float: left;margin-right: 0.25em;color: #696969;}#sk-container-id-20 label.sk-toggleable__label-arrow:hover:before {color: black;}#sk-container-id-20 div.sk-estimator:hover label.sk-toggleable__label-arrow:before {color: black;}#sk-container-id-20 div.sk-toggleable__content {max-height: 0;max-width: 0;overflow: hidden;text-align: left;background-color: #f0f8ff;}#sk-container-id-20 div.sk-toggleable__content pre {margin: 0.2em;color: black;border-radius: 0.25em;background-color: #f0f8ff;}#sk-container-id-20 input.sk-toggleable__control:checked~div.sk-toggleable__content {max-height: 200px;max-width: 100%;overflow: auto;}#sk-container-id-20 input.sk-toggleable__control:checked~label.sk-toggleable__label-arrow:before {content: \"▾\";}#sk-container-id-20 div.sk-estimator input.sk-toggleable__control:checked~label.sk-toggleable__label {background-color: #d4ebff;}#sk-container-id-20 div.sk-label input.sk-toggleable__control:checked~label.sk-toggleable__label {background-color: #d4ebff;}#sk-container-id-20 input.sk-hidden--visually {border: 0;clip: rect(1px 1px 1px 1px);clip: rect(1px, 1px, 1px, 1px);height: 1px;margin: -1px;overflow: hidden;padding: 0;position: absolute;width: 1px;}#sk-container-id-20 div.sk-estimator {font-family: monospace;background-color: #f0f8ff;border: 1px dotted black;border-radius: 0.25em;box-sizing: border-box;margin-bottom: 0.5em;}#sk-container-id-20 div.sk-estimator:hover {background-color: #d4ebff;}#sk-container-id-20 div.sk-parallel-item::after {content: \"\";width: 100%;border-bottom: 1px solid gray;flex-grow: 1;}#sk-container-id-20 div.sk-label:hover label.sk-toggleable__label {background-color: #d4ebff;}#sk-container-id-20 div.sk-serial::before {content: \"\";position: absolute;border-left: 1px solid gray;box-sizing: border-box;top: 0;bottom: 0;left: 50%;z-index: 0;}#sk-container-id-20 div.sk-serial {display: flex;flex-direction: column;align-items: center;background-color: white;padding-right: 0.2em;padding-left: 0.2em;position: relative;}#sk-container-id-20 div.sk-item {position: relative;z-index: 1;}#sk-container-id-20 div.sk-parallel {display: flex;align-items: stretch;justify-content: center;background-color: white;position: relative;}#sk-container-id-20 div.sk-item::before, #sk-container-id-20 div.sk-parallel-item::before {content: \"\";position: absolute;border-left: 1px solid gray;box-sizing: border-box;top: 0;bottom: 0;left: 50%;z-index: -1;}#sk-container-id-20 div.sk-parallel-item {display: flex;flex-direction: column;z-index: 1;position: relative;background-color: white;}#sk-container-id-20 div.sk-parallel-item:first-child::after {align-self: flex-end;width: 50%;}#sk-container-id-20 div.sk-parallel-item:last-child::after {align-self: flex-start;width: 50%;}#sk-container-id-20 div.sk-parallel-item:only-child::after {width: 0;}#sk-container-id-20 div.sk-dashed-wrapped {border: 1px dashed gray;margin: 0 0.4em 0.5em 0.4em;box-sizing: border-box;padding-bottom: 0.4em;background-color: white;}#sk-container-id-20 div.sk-label label {font-family: monospace;font-weight: bold;display: inline-block;line-height: 1.2em;}#sk-container-id-20 div.sk-label-container {text-align: center;}#sk-container-id-20 div.sk-container {/* jupyter's `normalize.less` sets `[hidden] { display: none; }` but bootstrap.min.css set `[hidden] { display: none !important; }` so we also need the `!important` here to be able to override the default hidden behavior on the sphinx rendered scikit-learn.org. See: https://github.com/scikit-learn/scikit-learn/issues/21755 */display: inline-block !important;position: relative;}#sk-container-id-20 div.sk-text-repr-fallback {display: none;}</style><div id=\"sk-container-id-20\" class=\"sk-top-container\"><div class=\"sk-text-repr-fallback\"><pre>RandomForestClassifier(max_depth=9, n_estimators=3000, random_state=42)</pre><b>In a Jupyter environment, please rerun this cell to show the HTML representation or trust the notebook. <br />On GitHub, the HTML representation is unable to render, please try loading this page with nbviewer.org.</b></div><div class=\"sk-container\" hidden><div class=\"sk-item\"><div class=\"sk-estimator sk-toggleable\"><input class=\"sk-toggleable__control sk-hidden--visually\" id=\"sk-estimator-id-20\" type=\"checkbox\" checked><label for=\"sk-estimator-id-20\" class=\"sk-toggleable__label sk-toggleable__label-arrow\">RandomForestClassifier</label><div class=\"sk-toggleable__content\"><pre>RandomForestClassifier(max_depth=9, n_estimators=3000, random_state=42)</pre></div></div></div></div></div>"
      ],
      "text/plain": [
       "RandomForestClassifier(max_depth=9, n_estimators=3000, random_state=42)"
      ]
     },
     "execution_count": 1079,
     "metadata": {},
     "output_type": "execute_result"
    }
   ],
   "source": [
    "# criar o modelo\n",
    "final_model = ensemble.RandomForestClassifier(random_state=42, n_estimators=3000, max_depth=9)\n",
    "\n",
    "# treinar o modelo (com todo o dataset)\n",
    "final_model.fit(X, y)"
   ]
  },
  {
   "cell_type": "markdown",
   "id": "8bb37035",
   "metadata": {},
   "source": [
    "Importancia das features para a Random Forest para avaliar em um próximo ciclo:"
   ]
  },
  {
   "cell_type": "code",
   "execution_count": 1080,
   "id": "a49396e9",
   "metadata": {
    "ExecuteTime": {
     "end_time": "2022-05-29T19:56:38.168845Z",
     "start_time": "2022-05-29T19:56:37.794139Z"
    }
   },
   "outputs": [
    {
     "data": {
      "text/html": [
       "<div>\n",
       "<style scoped>\n",
       "    .dataframe tbody tr th:only-of-type {\n",
       "        vertical-align: middle;\n",
       "    }\n",
       "\n",
       "    .dataframe tbody tr th {\n",
       "        vertical-align: top;\n",
       "    }\n",
       "\n",
       "    .dataframe thead th {\n",
       "        text-align: right;\n",
       "    }\n",
       "</style>\n",
       "<table border=\"1\" class=\"dataframe\">\n",
       "  <thead>\n",
       "    <tr style=\"text-align: right;\">\n",
       "      <th></th>\n",
       "      <th>importance</th>\n",
       "    </tr>\n",
       "  </thead>\n",
       "  <tbody>\n",
       "    <tr>\n",
       "      <th>country_zone</th>\n",
       "      <td>0.312148</td>\n",
       "    </tr>\n",
       "    <tr>\n",
       "      <th>job_type</th>\n",
       "      <td>0.233249</td>\n",
       "    </tr>\n",
       "    <tr>\n",
       "      <th>age_of_respondent</th>\n",
       "      <td>0.208726</td>\n",
       "    </tr>\n",
       "    <tr>\n",
       "      <th>household_size</th>\n",
       "      <td>0.120868</td>\n",
       "    </tr>\n",
       "    <tr>\n",
       "      <th>edu_type_1</th>\n",
       "      <td>0.064463</td>\n",
       "    </tr>\n",
       "    <tr>\n",
       "      <th>edu_type_2</th>\n",
       "      <td>0.060546</td>\n",
       "    </tr>\n",
       "  </tbody>\n",
       "</table>\n",
       "</div>"
      ],
      "text/plain": [
       "                   importance\n",
       "country_zone         0.312148\n",
       "job_type             0.233249\n",
       "age_of_respondent    0.208726\n",
       "household_size       0.120868\n",
       "edu_type_1           0.064463\n",
       "edu_type_2           0.060546"
      ]
     },
     "execution_count": 1080,
     "metadata": {},
     "output_type": "execute_result"
    }
   ],
   "source": [
    "feature_importances = pd.DataFrame(\n",
    "    final_model.feature_importances_,\n",
    "    index=X.columns,\n",
    "    columns=['importance']\n",
    ").sort_values('importance', ascending=False)\n",
    "\n",
    "feature_importances"
   ]
  },
  {
   "cell_type": "code",
   "execution_count": 1081,
   "id": "39ef6d99",
   "metadata": {
    "ExecuteTime": {
     "end_time": "2022-05-29T19:56:38.594438Z",
     "start_time": "2022-05-29T19:56:38.172489Z"
    }
   },
   "outputs": [
    {
     "data": {
      "text/html": [
       "<div>\n",
       "<style scoped>\n",
       "    .dataframe tbody tr th:only-of-type {\n",
       "        vertical-align: middle;\n",
       "    }\n",
       "\n",
       "    .dataframe tbody tr th {\n",
       "        vertical-align: top;\n",
       "    }\n",
       "\n",
       "    .dataframe thead th {\n",
       "        text-align: right;\n",
       "    }\n",
       "</style>\n",
       "<table border=\"1\" class=\"dataframe\">\n",
       "  <thead>\n",
       "    <tr style=\"text-align: right;\">\n",
       "      <th></th>\n",
       "      <th>household_size</th>\n",
       "      <th>age_of_respondent</th>\n",
       "      <th>job_type</th>\n",
       "      <th>country_zone</th>\n",
       "      <th>edu_type_1</th>\n",
       "      <th>edu_type_2</th>\n",
       "    </tr>\n",
       "  </thead>\n",
       "  <tbody>\n",
       "    <tr>\n",
       "      <th>importance</th>\n",
       "      <td>0.120868</td>\n",
       "      <td>0.208726</td>\n",
       "      <td>0.233249</td>\n",
       "      <td>0.312148</td>\n",
       "      <td>0.064463</td>\n",
       "      <td>0.060546</td>\n",
       "    </tr>\n",
       "    <tr>\n",
       "      <th>std</th>\n",
       "      <td>0.03106</td>\n",
       "      <td>0.034409</td>\n",
       "      <td>0.057676</td>\n",
       "      <td>0.056967</td>\n",
       "      <td>0.05925</td>\n",
       "      <td>0.058377</td>\n",
       "    </tr>\n",
       "  </tbody>\n",
       "</table>\n",
       "</div>"
      ],
      "text/plain": [
       "           household_size age_of_respondent  job_type country_zone edu_type_1 edu_type_2\n",
       "importance       0.120868          0.208726  0.233249     0.312148   0.064463   0.060546\n",
       "std               0.03106          0.034409  0.057676     0.056967    0.05925   0.058377"
      ]
     },
     "execution_count": 1081,
     "metadata": {},
     "output_type": "execute_result"
    }
   ],
   "source": [
    "importance = pd.DataFrame(columns = X.columns,index=['importance','std'])\n",
    "\n",
    "importance.loc['importance',:] = final_model.feature_importances_\n",
    "importance.loc['std',:] = np.std([tree.feature_importances_ for tree in final_model.estimators_], axis=0)\n",
    "\n",
    "importance"
   ]
  },
  {
   "cell_type": "markdown",
   "id": "cb572c98",
   "metadata": {},
   "source": [
    "Teste alternativo com o KNN"
   ]
  },
  {
   "cell_type": "code",
   "execution_count": 1082,
   "id": "fda0146f",
   "metadata": {
    "ExecuteTime": {
     "end_time": "2022-05-29T19:56:38.604002Z",
     "start_time": "2022-05-29T19:56:38.598617Z"
    }
   },
   "outputs": [],
   "source": [
    "# # criar o modelo\n",
    "# final_model = KNeighborsClassifier(n_neighbors=5)\n",
    "\n",
    "# # treinar o modelo\n",
    "# final_model.fit(X, y)"
   ]
  },
  {
   "cell_type": "markdown",
   "id": "be53c79e",
   "metadata": {},
   "source": [
    "## 10. Output da Submissão"
   ]
  },
  {
   "cell_type": "code",
   "execution_count": 1083,
   "id": "4f76bcec",
   "metadata": {
    "ExecuteTime": {
     "end_time": "2022-05-29T19:56:38.627317Z",
     "start_time": "2022-05-29T19:56:38.607536Z"
    }
   },
   "outputs": [
    {
     "data": {
      "text/html": [
       "<div>\n",
       "<style scoped>\n",
       "    .dataframe tbody tr th:only-of-type {\n",
       "        vertical-align: middle;\n",
       "    }\n",
       "\n",
       "    .dataframe tbody tr th {\n",
       "        vertical-align: top;\n",
       "    }\n",
       "\n",
       "    .dataframe thead th {\n",
       "        text-align: right;\n",
       "    }\n",
       "</style>\n",
       "<table border=\"1\" class=\"dataframe\">\n",
       "  <thead>\n",
       "    <tr style=\"text-align: right;\">\n",
       "      <th></th>\n",
       "      <th>country</th>\n",
       "      <th>year</th>\n",
       "      <th>uniqueid</th>\n",
       "      <th>location_type</th>\n",
       "      <th>cellphone_access</th>\n",
       "      <th>household_size</th>\n",
       "      <th>age_of_respondent</th>\n",
       "      <th>gender_of_respondent</th>\n",
       "      <th>relationship_with_head</th>\n",
       "      <th>marital_status</th>\n",
       "      <th>education_level</th>\n",
       "      <th>job_type</th>\n",
       "      <th>uid</th>\n",
       "    </tr>\n",
       "  </thead>\n",
       "  <tbody>\n",
       "    <tr>\n",
       "      <th>0</th>\n",
       "      <td>Rwanda</td>\n",
       "      <td>2016</td>\n",
       "      <td>uniqueid_625</td>\n",
       "      <td>Rural</td>\n",
       "      <td>Yes</td>\n",
       "      <td>7</td>\n",
       "      <td>40</td>\n",
       "      <td>Male</td>\n",
       "      <td>Head of Household</td>\n",
       "      <td>Married/Living together</td>\n",
       "      <td>No formal education</td>\n",
       "      <td>Informally employed</td>\n",
       "      <td>Rwanda_uniqueid_625</td>\n",
       "    </tr>\n",
       "    <tr>\n",
       "      <th>1</th>\n",
       "      <td>Rwanda</td>\n",
       "      <td>2016</td>\n",
       "      <td>uniqueid_1561</td>\n",
       "      <td>Rural</td>\n",
       "      <td>Yes</td>\n",
       "      <td>3</td>\n",
       "      <td>24</td>\n",
       "      <td>Male</td>\n",
       "      <td>Child</td>\n",
       "      <td>Single/Never Married</td>\n",
       "      <td>Secondary education</td>\n",
       "      <td>Farming and Fishing</td>\n",
       "      <td>Rwanda_uniqueid_1561</td>\n",
       "    </tr>\n",
       "    <tr>\n",
       "      <th>2</th>\n",
       "      <td>Rwanda</td>\n",
       "      <td>2016</td>\n",
       "      <td>uniqueid_4806</td>\n",
       "      <td>Urban</td>\n",
       "      <td>Yes</td>\n",
       "      <td>3</td>\n",
       "      <td>25</td>\n",
       "      <td>Female</td>\n",
       "      <td>Spouse</td>\n",
       "      <td>Married/Living together</td>\n",
       "      <td>Primary education</td>\n",
       "      <td>Farming and Fishing</td>\n",
       "      <td>Rwanda_uniqueid_4806</td>\n",
       "    </tr>\n",
       "    <tr>\n",
       "      <th>3</th>\n",
       "      <td>Tanzania</td>\n",
       "      <td>2017</td>\n",
       "      <td>uniqueid_4902</td>\n",
       "      <td>Urban</td>\n",
       "      <td>Yes</td>\n",
       "      <td>1</td>\n",
       "      <td>35</td>\n",
       "      <td>Female</td>\n",
       "      <td>Head of Household</td>\n",
       "      <td>Married/Living together</td>\n",
       "      <td>Primary education</td>\n",
       "      <td>Self employed</td>\n",
       "      <td>Tanzania_uniqueid_4902</td>\n",
       "    </tr>\n",
       "    <tr>\n",
       "      <th>4</th>\n",
       "      <td>Rwanda</td>\n",
       "      <td>2016</td>\n",
       "      <td>uniqueid_980</td>\n",
       "      <td>Rural</td>\n",
       "      <td>Yes</td>\n",
       "      <td>3</td>\n",
       "      <td>60</td>\n",
       "      <td>Male</td>\n",
       "      <td>Head of Household</td>\n",
       "      <td>Married/Living together</td>\n",
       "      <td>Primary education</td>\n",
       "      <td>Farming and Fishing</td>\n",
       "      <td>Rwanda_uniqueid_980</td>\n",
       "    </tr>\n",
       "  </tbody>\n",
       "</table>\n",
       "</div>"
      ],
      "text/plain": [
       "    country  year       uniqueid location_type cellphone_access  household_size  age_of_respondent gender_of_respondent relationship_with_head           marital_status      education_level             job_type                     uid\n",
       "0    Rwanda  2016   uniqueid_625         Rural              Yes               7                 40                 Male      Head of Household  Married/Living together  No formal education  Informally employed     Rwanda_uniqueid_625\n",
       "1    Rwanda  2016  uniqueid_1561         Rural              Yes               3                 24                 Male                  Child     Single/Never Married  Secondary education  Farming and Fishing    Rwanda_uniqueid_1561\n",
       "2    Rwanda  2016  uniqueid_4806         Urban              Yes               3                 25               Female                 Spouse  Married/Living together    Primary education  Farming and Fishing    Rwanda_uniqueid_4806\n",
       "3  Tanzania  2017  uniqueid_4902         Urban              Yes               1                 35               Female      Head of Household  Married/Living together    Primary education        Self employed  Tanzania_uniqueid_4902\n",
       "4    Rwanda  2016   uniqueid_980         Rural              Yes               3                 60                 Male      Head of Household  Married/Living together    Primary education  Farming and Fishing     Rwanda_uniqueid_980"
      ]
     },
     "execution_count": 1083,
     "metadata": {},
     "output_type": "execute_result"
    }
   ],
   "source": [
    "df10 = df_test.copy()\n",
    "df10.head()"
   ]
  },
  {
   "cell_type": "code",
   "execution_count": 1084,
   "id": "98c4ecf0",
   "metadata": {
    "ExecuteTime": {
     "end_time": "2022-05-29T19:56:39.061885Z",
     "start_time": "2022-05-29T19:56:38.633112Z"
    }
   },
   "outputs": [],
   "source": [
    "df10['bank_account'] = None\n",
    "\n",
    "df10['marital_new'] = df10['marital_status'].map(marital_mapper)\n",
    "\n",
    "df10['income_origin'] = df10['job_type'].map(income_mapper)\n",
    "\n",
    "# Zona por País\n",
    "df10['country_zone'] = df10[['country', 'location_type']].apply(lambda x: x['country'] + x['location_type'], axis=1)\n",
    "\n",
    "df10['edu_type'] = df10['education_level'].map(edu_mapper)\n",
    "\n",
    "# Educação por País\n",
    "df10['country_edu'] = df10[['edu_type', 'country']].apply(lambda x: x['country'] + x['edu_type'], axis=1)"
   ]
  },
  {
   "cell_type": "code",
   "execution_count": 1085,
   "id": "31f79ff2",
   "metadata": {
    "ExecuteTime": {
     "end_time": "2022-05-29T19:56:39.217255Z",
     "start_time": "2022-05-29T19:56:39.066193Z"
    }
   },
   "outputs": [],
   "source": [
    "# one hot encoding\n",
    "df10 = ohe_fit.transform(df10)\n",
    "\n",
    "# label encoding\n",
    "df10['country'] = le_country.transform(df10['country'])\n",
    "\n",
    "df10['relationship_with_head'] = le_relationship_with_head.transform(df10['relationship_with_head'])\n",
    "\n",
    "df10['marital_status'] = le_marital_status.transform(df10['marital_status'])\n",
    "\n",
    "df10['education_level'] = le_education_level.transform(df10['education_level'])\n",
    "\n",
    "df10['job_type'] = le_job_type.transform(df10['job_type'])\n",
    "\n",
    "df10['income_origin'] = le_income_origin.transform(df10['income_origin'])\n",
    "\n",
    "df10['country_zone'] = le_country_zone.transform(df10['country_zone'])\n",
    "\n",
    "df10['country_edu'] = le_country_edu.transform(df10['country_edu'])\n",
    "\n",
    "# # Frequencia\n",
    "# # análise de frequência\n",
    "\n",
    "# # country\n",
    "# df10['country'], _ = freq_analysis(df10, 'country', count_country)\n",
    "\n",
    "# # location_type\n",
    "# df10['location_type'], _ = freq_analysis(df10, 'location_type')\n",
    "\n",
    "# # cellphone_access\n",
    "# df10['cellphone_access'], _ = freq_analysis(df10, 'cellphone_access', count_cellphone_access)\n",
    "\n",
    "# # gender_of_respondent\n",
    "# df10['gender_of_respondent'], _ = freq_analysis(df10, 'gender_of_respondent', count_gender_of_respondent)\n",
    "\n",
    "# # relationship_with_head\n",
    "# df10['relationship_with_head'], _ = freq_analysis(df10, 'relationship_with_head', count_relationship_with_head)\n",
    "\n",
    "# # marital_status\n",
    "# df10['marital_status'], _ = freq_analysis(df10, 'marital_status', count_relationship_with_head)\n",
    "\n",
    "# # education_level\n",
    "# df10['education_level'], _ = freq_analysis(df10, 'education_level', count_relationship_with_head)\n",
    "\n",
    "# # job_type\n",
    "# df10['job_type'], _ = freq_analysis(df10, 'job_type', count_relationship_with_head)\n",
    "\n",
    "# MinMax\n",
    "df10['country'] = minmax_country.transform(df10[['country']].values)\n",
    "\n",
    "df10['year'] = minmax_year.transform(df10[['year']].values)\n",
    "\n",
    "# df10['location_type'] = minmax_location_type.transform(df10[['location_type']].values)\n",
    "\n",
    "# df10['cellphone_access'] = minmax_cellphone_access.transform(df10[['cellphone_access']].values)\n",
    "\n",
    "df10['household_size'] = minmax_household_size.transform(df10[['household_size']].values)\n",
    "\n",
    "df10['age_of_respondent'] = minmax_age_of_respondent.transform(df10[['age_of_respondent']].values)\n",
    "\n",
    "# df10['gender_of_respondent'] = minmax_gender_of_respondent.transform(df10[['gender_of_respondent']].values)\n",
    "\n",
    "df10['relationship_with_head'] = minmax_relationship_with_head.transform(df10[['relationship_with_head']].values)\n",
    "\n",
    "df10['marital_status'] = minmax_marital_status.transform(df10[['marital_status']].values)\n",
    "\n",
    "df10['education_level'] = minmax_education_level.transform(df10[['education_level']].values)\n",
    "\n",
    "df10['job_type'] = minmax_job_type.transform(df10[['job_type']].values)\n",
    "\n",
    "df10['income_origin'] = minmax_income_origin.transform(df10[['income_origin']].values)\n",
    "\n",
    "df10['country_zone'] = minmax_country_zone.transform(df10[['country_zone']].values)\n",
    "\n",
    "df10['country_edu'] = minmax_country_edu.transform(df10[['country_edu']].values)\n",
    "\n",
    "# Seleção de features\n",
    "X = df10.drop(not_selected, axis=1)"
   ]
  },
  {
   "cell_type": "code",
   "execution_count": 1086,
   "id": "3df3302b",
   "metadata": {
    "ExecuteTime": {
     "end_time": "2022-05-29T19:56:42.962772Z",
     "start_time": "2022-05-29T19:56:39.220034Z"
    }
   },
   "outputs": [],
   "source": [
    "yhat_test = final_model.predict(X)"
   ]
  },
  {
   "cell_type": "code",
   "execution_count": 1087,
   "id": "46850839",
   "metadata": {
    "ExecuteTime": {
     "end_time": "2022-05-29T19:56:43.010483Z",
     "start_time": "2022-05-29T19:56:42.965331Z"
    }
   },
   "outputs": [],
   "source": [
    "df_submit = df_test.copy()\n",
    "df_submit['bank_account'] = yhat_test\n",
    "\n",
    "\n",
    "df_submit = df_submit[['uid', 'bank_account']]\n",
    "df_submit['bank_account'] = df_submit['bank_account'].apply(lambda x: 'Yes' if x == 1 else 'No')\n",
    "df_submit.to_csv('dadosInglorios.csv', index=False)"
   ]
  },
  {
   "cell_type": "code",
   "execution_count": null,
   "id": "13cc5082",
   "metadata": {},
   "outputs": [],
   "source": []
  },
  {
   "cell_type": "code",
   "execution_count": null,
   "id": "5b159a32",
   "metadata": {},
   "outputs": [],
   "source": []
  }
 ],
 "metadata": {
  "kernelspec": {
   "display_name": "Python 3 (ipykernel)",
   "language": "python",
   "name": "python3"
  },
  "language_info": {
   "codemirror_mode": {
    "name": "ipython",
    "version": 3
   },
   "file_extension": ".py",
   "mimetype": "text/x-python",
   "name": "python",
   "nbconvert_exporter": "python",
   "pygments_lexer": "ipython3",
   "version": "3.9.7"
  }
 },
 "nbformat": 4,
 "nbformat_minor": 5
}
