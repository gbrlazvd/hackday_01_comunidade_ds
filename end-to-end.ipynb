{
 "cells": [
  {
   "cell_type": "markdown",
   "id": "25b39340",
   "metadata": {},
   "source": [
    "# <font color=\"red\">Hackday - Dados Inglórios</font>"
   ]
  },
  {
   "cell_type": "markdown",
   "id": "494e5b2f",
   "metadata": {},
   "source": [
    "## Planejamento da Solução"
   ]
  },
  {
   "cell_type": "markdown",
   "id": "5c6c98f1",
   "metadata": {},
   "source": [
    "### Input"
   ]
  },
  {
   "cell_type": "markdown",
   "id": "839f0e29",
   "metadata": {},
   "source": [
    "**Problema de Negócio**"
   ]
  },
  {
   "cell_type": "markdown",
   "id": "fd883f40",
   "metadata": {},
   "source": [
    "A inclusão financeira continua a ser um dos principais obstáculos ao desenvolvimento econômico e humano na África. Por exemplo, no Quênia, Ruanda, Tanzânia e Uganda, apenas 9,1 milhões de adultos (14% dos adultos), têm acesso ou usam uma conta bancária comercial.\n",
    "\n",
    "Em 2008, o nível de inclusão financeira na África Subsaariana era de pouco mais de 23%. Em 2018, esse número quase dobrou. No Togo, Mazamesso Assih, ministro de finanças, coordena uma estratégia de inclusão financeira com bancos parceiros. Ele afirma que garantir acesso a serviços financeiros básicos para a população, é fundamental para impulsionar a economia Africana.\n",
    "\n",
    "Em 2022, conforme destacado no último relatório do Banco Central da África Ocidental, atingiu-se uma das mais altas taxas de inclusão financeira da região, próxima de 82%. Uma parcela significativa desse aumento veio do aumento dos serviços financeiros digitais.\n",
    "\n",
    "Assih afirma também, que existem três razões principais pelas quais as nações africanas devem apostar na inclusão financeira:\n",
    "\n",
    " 1. Tornar os serviços financeiros mais acessíveis promove o empoderamento das pessoas mais vulneráveis, especialmente as mulheres.\n",
    " 2. Combater redes criminosas, passar de uma economia exclusivamente monetária para uma infraestrutura financeira digital torna mais fácil para as autoridades rastrear transações e lidar com contrabandistas e traficantes.\n",
    " 3. impulsionará a conectividade dos setores público e privado para um crescimento sustentável, apoiando as start-ups africanas.\n",
    " \n",
    "O objetivo desta competição é criar um modelo de aprendizado de máquina para prever quais indivíduos vão ou não utilizar uma conta bancária. Os modelos e soluções desenvolvidos devem fornecer uma indicação do estado da inclusão financeira no Quênia, Ruanda, Tanzânia e Uganda.\n",
    "\n"
   ]
  },
  {
   "cell_type": "markdown",
   "id": "8fd40c76",
   "metadata": {},
   "source": [
    "**Dados**"
   ]
  },
  {
   "cell_type": "markdown",
   "id": "a79b7594",
   "metadata": {},
   "source": [
    "Os dados necessários podem ser encontrados no [repositório da atividade](https://www.kaggle.com/c/inclusao-financeira-na-africa). No arquivo train.csv você encontrará:\n",
    "\n",
    "|Feature|Descrição|\n",
    "|:------|:--------|\n",
    "|country| Pais de Origem.\n",
    "|year| Ano da Inclusão\n",
    "|uniqueid| Id do Usuário.\n",
    "|bank_account| Possui ou Não a Conta no Banco.\n",
    "|location_type| Tipo de Localidade (Rural...)\n",
    "|cellphone_access| Possui ou Não Celular.\n",
    "|household_size| Tamanho da Casa.\n",
    "|age_of_respondent| Idade do Usuário.\n",
    "|gender_of_respondent| Gênero do Usuário.\n",
    "|relationship_with_head| Status com o Dono da Conta.\n",
    "|marital_status| Situação Civil.\n",
    "|education_level| Nível de Educação.\n",
    "|job_type| Tipo de Trabalho."
   ]
  },
  {
   "cell_type": "markdown",
   "id": "ff1e9f2a",
   "metadata": {},
   "source": [
    "### Output"
   ]
  },
  {
   "cell_type": "markdown",
   "id": "fa286382",
   "metadata": {},
   "source": [
    "Um arquivo CSV com a previsão do modelo dizendo quais clientes abrirão uma conta digital em duas colunas:  \n",
    "\n",
    "|uid|\tbank_account|\n",
    "|:--|:--------------|\n",
    "|Rwanda_uniqueid_625|\tNo|\n",
    "|Rwanda_uniqueid_1561|\tNo|\n",
    "|Rwanda_uniqueid_4806|\tNo|\n",
    "|Tanzania_uniqueid_4902|\tYes|\n",
    "|Rwanda_uniqueid_980|\tNo|\n",
    "|Rwanda_uniqueid_7043|\tNo|"
   ]
  },
  {
   "cell_type": "markdown",
   "id": "a5a567b8",
   "metadata": {},
   "source": [
    "### Tasks"
   ]
  },
  {
   "cell_type": "markdown",
   "id": "49f9b728",
   "metadata": {},
   "source": [
    "- Descrição dos Dados\n",
    "    - Renomear colunas\n",
    "    - Checar dimenões\n",
    "    - Checar tipos\n",
    "    - Alterar tipos\n",
    "    - Checar vazios\n",
    "    - Preencher os vazios\n",
    "    - Descrições Estatísticas\n",
    "\n",
    "- Feature Engineering\n",
    "    - Mapa de hipóteses\n",
    "    - Criação de hipóteses\n",
    "- Seleção de features (Filtro)\n",
    "- EDA\n",
    "    - Univariada\n",
    "    - Bivariada (teste de hipóteses)\n",
    "    - Multivariadas\n",
    "- Preparação dos dados\n",
    "    - Rescala das features\n",
    "- Seleção de features\n",
    "- Construção do modelo\n",
    "    - modelos de classificação\n",
    "    - guideline\n",
    "- Avaliação do modelo\n",
    "- Fine Tuning\n",
    "- CSV Final"
   ]
  },
  {
   "cell_type": "markdown",
   "id": "054d62ec",
   "metadata": {},
   "source": [
    "## 0. Settings"
   ]
  },
  {
   "cell_type": "markdown",
   "id": "4f046d4a",
   "metadata": {},
   "source": [
    "### 0.1. Imports"
   ]
  },
  {
   "cell_type": "code",
   "execution_count": 203,
   "id": "ebb8fc54",
   "metadata": {
    "ExecuteTime": {
     "end_time": "2022-05-29T00:56:47.419039Z",
     "start_time": "2022-05-29T00:56:47.411131Z"
    }
   },
   "outputs": [],
   "source": [
    "# manipulação de dados\n",
    "import pandas as pd\n",
    "import numpy as np\n",
    "\n",
    "# visualização de dados\n",
    "import matplotlib.pyplot as plt\n",
    "import seaborn as sns\n",
    "\n",
    "from IPython.display import HTML\n",
    "\n",
    "# estatística\n",
    "import scipy.stats as ss\n",
    "\n",
    "# scikit-learn\n",
    "from sklearn import model_selection as ms\n",
    "from sklearn import ensemble\n",
    "from sklearn import metrics\n",
    "from sklearn import preprocessing as pp\n",
    "from sklearn import linear_model\n",
    "from sklearn.svm import SVC\n",
    "from sklearn.neighbors import KNeighborsClassifier"
   ]
  },
  {
   "cell_type": "markdown",
   "id": "e5ff7771",
   "metadata": {},
   "source": [
    "### 0.2. Helper Functions"
   ]
  },
  {
   "cell_type": "code",
   "execution_count": 204,
   "id": "a1f79abd",
   "metadata": {
    "ExecuteTime": {
     "end_time": "2022-05-29T00:56:47.451660Z",
     "start_time": "2022-05-29T00:56:47.422963Z"
    }
   },
   "outputs": [
    {
     "name": "stdout",
     "output_type": "stream",
     "text": [
      "%pylab is deprecated, use %matplotlib inline and import the required libraries.\n",
      "Populating the interactive namespace from numpy and matplotlib\n"
     ]
    },
    {
     "data": {
      "text/html": [
       "<style>.container {width:100% !important;}</style>"
      ],
      "text/plain": [
       "<IPython.core.display.HTML object>"
      ]
     },
     "metadata": {},
     "output_type": "display_data"
    }
   ],
   "source": [
    "def freq_analysis(df, feature, mapper=dict()):\n",
    "    count = df[feature].value_counts()\n",
    "#     mapper = dict()\n",
    "    for ind in count.index:\n",
    "        mapper[ind] = count[ind]\n",
    "    \n",
    "    feature_map = df2[feature].map(mapper)\n",
    "    \n",
    "    return (feature_map, mapper)\n",
    "\n",
    "def cramer_v(x, y):\n",
    "    \n",
    "    cm = pd.crosstab(x, y).values\n",
    "    n = cm.sum()\n",
    "    r, k = cm.shape\n",
    "    \n",
    "    chi2 = ss.chi2_contingency(cm)[0]\n",
    "    chi2corr = max(0, chi2 - (k - 1) * (r - 1) / (n - 1))\n",
    "    kcorr = k - (k - 1) ** 2 / (n - 1)\n",
    "    rcorr = r - (r - 1) ** 2 / (n - 1)\n",
    "    \n",
    "    return np.sqrt( (chi2corr / n) / (min(kcorr - 1, rcorr - 1)))\n",
    "\n",
    "def jupyter_settings():\n",
    "    %matplotlib inline\n",
    "    %pylab inline\n",
    "    \n",
    "    plt.style.use('bmh')\n",
    "    plt.rcParams['figure.figsize'] = [25, 12]\n",
    "    plt.rcParams['font.size'] = 40\n",
    "    \n",
    "    display(HTML('<style>.container {width:100% !important;}</style>'))\n",
    "    pd.options.display.max_columns = None\n",
    "    pd.options.display.max_rows = None\n",
    "    pd.set_option('display.expand_frame_repr', False)\n",
    "    \n",
    "    sns.set()\n",
    "\n",
    "jupyter_settings()"
   ]
  },
  {
   "cell_type": "markdown",
   "id": "c1424f31",
   "metadata": {},
   "source": [
    "### 0.3. Data Loading"
   ]
  },
  {
   "cell_type": "code",
   "execution_count": 205,
   "id": "01cb76bb",
   "metadata": {
    "ExecuteTime": {
     "end_time": "2022-05-29T00:56:47.520845Z",
     "start_time": "2022-05-29T00:56:47.455744Z"
    }
   },
   "outputs": [],
   "source": [
    "train_file = './data/train.csv'\n",
    "test_file = './data/test.csv'\n",
    "\n",
    "df_raw = pd.read_csv(train_file)\n",
    "\n",
    "df_test = pd.read_csv(test_file)"
   ]
  },
  {
   "cell_type": "markdown",
   "id": "aad2260b",
   "metadata": {},
   "source": [
    "## 1. Descrição dos Dados"
   ]
  },
  {
   "cell_type": "code",
   "execution_count": 206,
   "id": "f508a3ce",
   "metadata": {
    "ExecuteTime": {
     "end_time": "2022-05-29T00:56:47.529854Z",
     "start_time": "2022-05-29T00:56:47.525297Z"
    }
   },
   "outputs": [],
   "source": [
    "df1 = df_raw.copy()"
   ]
  },
  {
   "cell_type": "code",
   "execution_count": 207,
   "id": "486022ee-17eb-45d7-a3d4-d0e1945c20d1",
   "metadata": {
    "ExecuteTime": {
     "end_time": "2022-05-29T00:56:47.540800Z",
     "start_time": "2022-05-29T00:56:47.532310Z"
    }
   },
   "outputs": [
    {
     "data": {
      "text/plain": [
       "array(['Rwanda', 'Tanzania', 'Kenya', 'Uganda'], dtype=object)"
      ]
     },
     "execution_count": 207,
     "metadata": {},
     "output_type": "execute_result"
    }
   ],
   "source": [
    "df1['country'].unique()"
   ]
  },
  {
   "cell_type": "code",
   "execution_count": 208,
   "id": "90c6ffae-571b-4449-b761-555a9f169fde",
   "metadata": {
    "ExecuteTime": {
     "end_time": "2022-05-29T00:56:47.556500Z",
     "start_time": "2022-05-29T00:56:47.545950Z"
    }
   },
   "outputs": [
    {
     "data": {
      "text/plain": [
       "array(['Rural', 'Urban'], dtype=object)"
      ]
     },
     "execution_count": 208,
     "metadata": {},
     "output_type": "execute_result"
    }
   ],
   "source": [
    "df1['location_type'].unique()"
   ]
  },
  {
   "cell_type": "code",
   "execution_count": 209,
   "id": "530e1719-96e7-4d65-9f59-271d794c11d6",
   "metadata": {
    "ExecuteTime": {
     "end_time": "2022-05-29T00:56:47.575288Z",
     "start_time": "2022-05-29T00:56:47.561414Z"
    }
   },
   "outputs": [
    {
     "data": {
      "text/plain": [
       "array(['Head of Household', 'Spouse', 'Child', 'Parent', 'Other relative',\n",
       "       'Other non-relatives'], dtype=object)"
      ]
     },
     "execution_count": 209,
     "metadata": {},
     "output_type": "execute_result"
    }
   ],
   "source": [
    "df1['relationship_with_head'].unique()"
   ]
  },
  {
   "cell_type": "code",
   "execution_count": 210,
   "id": "db41946d-c6e9-418e-8645-44e9d066d306",
   "metadata": {
    "ExecuteTime": {
     "end_time": "2022-05-29T00:56:47.588536Z",
     "start_time": "2022-05-29T00:56:47.579760Z"
    }
   },
   "outputs": [
    {
     "data": {
      "text/plain": [
       "array(['Divorced/Seperated', 'Single/Never Married',\n",
       "       'Married/Living together', 'Widowed', 'Dont know'], dtype=object)"
      ]
     },
     "execution_count": 210,
     "metadata": {},
     "output_type": "execute_result"
    }
   ],
   "source": [
    "df1['marital_status'].unique()"
   ]
  },
  {
   "cell_type": "code",
   "execution_count": 211,
   "id": "a0df47ae-0491-471c-a9f2-5557d38c1659",
   "metadata": {
    "ExecuteTime": {
     "end_time": "2022-05-29T00:56:47.602643Z",
     "start_time": "2022-05-29T00:56:47.592685Z"
    }
   },
   "outputs": [
    {
     "data": {
      "text/plain": [
       "array(['Primary education', 'Secondary education',\n",
       "       'Vocational/Specialised training', 'Tertiary education',\n",
       "       'No formal education', 'Other/Dont know/RTA'], dtype=object)"
      ]
     },
     "execution_count": 211,
     "metadata": {},
     "output_type": "execute_result"
    }
   ],
   "source": [
    "df1['education_level'].unique()"
   ]
  },
  {
   "cell_type": "markdown",
   "id": "d3da856c",
   "metadata": {},
   "source": [
    "### 1.1. Renomear features"
   ]
  },
  {
   "cell_type": "markdown",
   "id": "77b33cf9",
   "metadata": {},
   "source": [
    "### 1.2. Checar Dimensões"
   ]
  },
  {
   "cell_type": "markdown",
   "id": "ce43b50d",
   "metadata": {},
   "source": [
    "### 1.3. Checar Tipos"
   ]
  },
  {
   "cell_type": "markdown",
   "id": "c7a3b928",
   "metadata": {},
   "source": [
    "### 1.4. Alterar Tipos"
   ]
  },
  {
   "cell_type": "markdown",
   "id": "f2a2415c",
   "metadata": {},
   "source": [
    "### 1.5. Checa NaN"
   ]
  },
  {
   "cell_type": "code",
   "execution_count": 212,
   "id": "5512f338",
   "metadata": {
    "ExecuteTime": {
     "end_time": "2022-05-29T00:56:47.640021Z",
     "start_time": "2022-05-29T00:56:47.612373Z"
    }
   },
   "outputs": [
    {
     "data": {
      "text/plain": [
       "country                   0\n",
       "year                      0\n",
       "uniqueid                  0\n",
       "location_type             0\n",
       "cellphone_access          0\n",
       "household_size            0\n",
       "age_of_respondent         0\n",
       "gender_of_respondent      0\n",
       "relationship_with_head    0\n",
       "marital_status            0\n",
       "education_level           0\n",
       "job_type                  0\n",
       "uid                       0\n",
       "bank_account              0\n",
       "dtype: int64"
      ]
     },
     "execution_count": 212,
     "metadata": {},
     "output_type": "execute_result"
    }
   ],
   "source": [
    "df1.isna().sum()"
   ]
  },
  {
   "cell_type": "markdown",
   "id": "5a526c9e",
   "metadata": {},
   "source": [
    "### 1.6. Preenche NaN"
   ]
  },
  {
   "cell_type": "markdown",
   "id": "34775d08",
   "metadata": {},
   "source": [
    "### 1.7. Estatística Descritiva"
   ]
  },
  {
   "cell_type": "markdown",
   "id": "e7f66d38",
   "metadata": {},
   "source": [
    "## 2. Feature Engineering"
   ]
  },
  {
   "cell_type": "code",
   "execution_count": 213,
   "id": "0ef8e10d",
   "metadata": {
    "ExecuteTime": {
     "end_time": "2022-05-29T00:56:47.646459Z",
     "start_time": "2022-05-29T00:56:47.641975Z"
    }
   },
   "outputs": [],
   "source": [
    "df2 = df1.copy()"
   ]
  },
  {
   "cell_type": "code",
   "execution_count": 214,
   "id": "4020c745-0670-4933-8ecf-136642b9a4c9",
   "metadata": {
    "ExecuteTime": {
     "end_time": "2022-05-29T00:56:47.658057Z",
     "start_time": "2022-05-29T00:56:47.650425Z"
    }
   },
   "outputs": [
    {
     "data": {
      "text/plain": [
       "country                   object\n",
       "year                       int64\n",
       "uniqueid                  object\n",
       "location_type             object\n",
       "cellphone_access          object\n",
       "household_size             int64\n",
       "age_of_respondent          int64\n",
       "gender_of_respondent      object\n",
       "relationship_with_head    object\n",
       "marital_status            object\n",
       "education_level           object\n",
       "job_type                  object\n",
       "uid                       object\n",
       "bank_account              object\n",
       "dtype: object"
      ]
     },
     "execution_count": 214,
     "metadata": {},
     "output_type": "execute_result"
    }
   ],
   "source": [
    "df2.dtypes"
   ]
  },
  {
   "cell_type": "markdown",
   "id": "b8673e18",
   "metadata": {},
   "source": [
    "### 2.1. Mapa de Hipóteses"
   ]
  },
  {
   "cell_type": "markdown",
   "id": "c58557e7",
   "metadata": {},
   "source": [
    "### 2.2. Criação de Hipóteses"
   ]
  },
  {
   "cell_type": "markdown",
   "id": "8b1d7763",
   "metadata": {},
   "source": [
    "**H1.** Os países desenvolvidos tem 10% a mais de contas digitais  \n",
    "**H2.** Zonas urbanas tem 50% a mais de contas digitais do que zonas rurais  \n",
    "**H3.** 80% das pessoas que possuem celular e internet tem conta digital  \n",
    "**H4.** A quantidade de contas de pessoas com ensino superior é maior em média do que as demais  \n",
    "**H5.** Pessoas entre 18 e 40 anos constituem 85% da base de contas digitais  \n",
    "**H6.** Mulheres são a maioria entre as contas digitais abertas  \n",
    "**H7.** Pessoas acima dos 60 anos mesmo com acesso ao celular não possuem conta digital  \n",
    "**H8.** 95% das pessoas sem trabalho não possuem conta digital  \n",
    "**H9.** 100% dos chefes de família possuem conta digital"
   ]
  },
  {
   "cell_type": "markdown",
   "id": "46e033de",
   "metadata": {},
   "source": [
    "## 3. Seleção de Features"
   ]
  },
  {
   "cell_type": "code",
   "execution_count": 215,
   "id": "b60808b2",
   "metadata": {
    "ExecuteTime": {
     "end_time": "2022-05-29T00:56:47.667591Z",
     "start_time": "2022-05-29T00:56:47.660969Z"
    }
   },
   "outputs": [],
   "source": [
    "df3 = df2.copy()"
   ]
  },
  {
   "cell_type": "markdown",
   "id": "9a682c0b",
   "metadata": {},
   "source": [
    "## 4. EDA"
   ]
  },
  {
   "cell_type": "code",
   "execution_count": 216,
   "id": "00784e93",
   "metadata": {
    "ExecuteTime": {
     "end_time": "2022-05-29T00:56:47.675429Z",
     "start_time": "2022-05-29T00:56:47.671324Z"
    }
   },
   "outputs": [],
   "source": [
    "df4 = df3.copy()"
   ]
  },
  {
   "cell_type": "markdown",
   "id": "f809a85c",
   "metadata": {},
   "source": [
    "### 4.1. Univariada"
   ]
  },
  {
   "cell_type": "code",
   "execution_count": 217,
   "id": "0e736759",
   "metadata": {
    "ExecuteTime": {
     "end_time": "2022-05-29T00:56:49.443961Z",
     "start_time": "2022-05-29T00:56:47.677873Z"
    }
   },
   "outputs": [
    {
     "data": {
      "image/png": "[encoded data removed]",
      "text/plain": [
       "<Figure size 2160x2880 with 7 Axes>"
      ]
     },
     "metadata": {},
     "output_type": "display_data"
    }
   ],
   "source": [
    "fig, ax = plt.subplots(7, 1, figsize=(30, 40))\n",
    "sns.countplot(x='country',hue = 'bank_account', data = df4, ax=ax[0])\n",
    "sns.countplot(x='location_type', hue = 'bank_account',data = df4, ax=ax[1])\n",
    "sns.countplot(x='gender_of_respondent', hue = 'bank_account',data = df4, ax=ax[2])\n",
    "sns.countplot(x='marital_status', hue = 'bank_account',data = df4, ax=ax[3])\n",
    "sns.countplot(x='education_level', hue = 'bank_account', data = df4, ax = ax[4])\n",
    "sns.countplot(x='job_type', hue = 'bank_account', data = df4, ax = ax[5]);\n",
    "sns.countplot(x='household_size', hue = 'bank_account', data = df4, ax = ax[6]);"
   ]
  },
  {
   "cell_type": "markdown",
   "id": "8f3427ae",
   "metadata": {},
   "source": [
    "### 4.2. Bivariadas"
   ]
  },
  {
   "cell_type": "markdown",
   "id": "d74b50fa",
   "metadata": {},
   "source": [
    "**H1.** Os países desenvolvidos tem 10% a mais de contas digitais  "
   ]
  },
  {
   "cell_type": "markdown",
   "id": "5c4c6e08",
   "metadata": {},
   "source": [
    "Sem dados para concluir o teste"
   ]
  },
  {
   "cell_type": "markdown",
   "id": "9ef526bf",
   "metadata": {},
   "source": [
    "**H2.** Zonas urbanas tem 50% a mais de contas digitais do que zonas rurais  "
   ]
  },
  {
   "cell_type": "markdown",
   "id": "56211028",
   "metadata": {},
   "source": [
    "**FALSO** - O tipo de localização mostra uma igualdade entre os valores."
   ]
  },
  {
   "cell_type": "code",
   "execution_count": 218,
   "id": "8e989577",
   "metadata": {
    "ExecuteTime": {
     "end_time": "2022-05-29T00:56:49.657850Z",
     "start_time": "2022-05-29T00:56:49.448286Z"
    }
   },
   "outputs": [
    {
     "data": {
      "image/png": "[encoded data removed]",
      "text/plain": [
       "<Figure size 1800x864 with 1 Axes>"
      ]
     },
     "metadata": {},
     "output_type": "display_data"
    }
   ],
   "source": [
    "graph = df4[df1['bank_account']=='Yes'][['uniqueid','location_type']].groupby('location_type').count().reset_index()\n",
    "sns.barplot( data = graph, x= 'location_type', y= 'uniqueid');"
   ]
  },
  {
   "cell_type": "markdown",
   "id": "ffba3527",
   "metadata": {},
   "source": [
    "**H3.** 80% das pessoas que possuem celular e internet tem conta digital  "
   ]
  },
  {
   "cell_type": "markdown",
   "id": "822c64cf",
   "metadata": {},
   "source": [
    "**FALSO** - Apenas 18.58% das pessoas que possuem celular também possuem conta digital.  \n",
    "Entretanto, não temos indícios de posse de internet pelos usuários. Portanto, a conclusão é baseada apenas no celular."
   ]
  },
  {
   "cell_type": "code",
   "execution_count": 219,
   "id": "e99e9c8c",
   "metadata": {
    "ExecuteTime": {
     "end_time": "2022-05-29T00:56:49.688412Z",
     "start_time": "2022-05-29T00:56:49.661160Z"
    }
   },
   "outputs": [
    {
     "name": "stdout",
     "output_type": "stream",
     "text": [
      "Apenas 18.58% das pessoas que possuem celular, também possuem conta digital\n",
      "\n",
      "96.85% das pessoas que possuem conta também possuem celular\n"
     ]
    }
   ],
   "source": [
    "h3 = df4[df4['cellphone_access']=='Yes'][['bank_account','uniqueid']].groupby('bank_account').count().reset_index()\n",
    "yes = int(h3[h3['bank_account']== 'Yes']['uniqueid'])\n",
    "total = int(h3['uniqueid'].sum())\n",
    "percent = yes/total*100\n",
    "print(f'Apenas {percent:.2f}% das pessoas que possuem celular, também possuem conta digital')\n",
    "\n",
    "account = df4[df4['bank_account'] == 'Yes']['uniqueid'].count()\n",
    "account_cell = df4[(df4['bank_account'] == 'Yes') & (df4['cellphone_access']=='Yes')]['uniqueid'].count()\n",
    "percent_ = account_cell/account*100\n",
    "print(f'\\n{percent_:.2f}% das pessoas que possuem conta também possuem celular')"
   ]
  },
  {
   "cell_type": "markdown",
   "id": "21ee2676",
   "metadata": {},
   "source": [
    "**H4.** A quantidade de contas de pessoas com ensino superior é maior em média do que as demais  "
   ]
  },
  {
   "cell_type": "markdown",
   "id": "33361953",
   "metadata": {},
   "source": [
    "**FALSO** - A maior proporção das contas digitais está no vocational/specialised training"
   ]
  },
  {
   "cell_type": "code",
   "execution_count": 220,
   "id": "41284d4b",
   "metadata": {
    "ExecuteTime": {
     "end_time": "2022-05-29T00:56:49.920452Z",
     "start_time": "2022-05-29T00:56:49.692210Z"
    }
   },
   "outputs": [
    {
     "data": {
      "image/png": "[encoded data removed]",
      "text/plain": [
       "<Figure size 1800x864 with 1 Axes>"
      ]
     },
     "metadata": {},
     "output_type": "display_data"
    }
   ],
   "source": [
    "# contar a quantidade de yes de cada nível de escolaridade\n",
    "# fazer a divisão do yes pelo total do nível de escolaridade\n",
    "\n",
    "education_yes = df4.loc[df4['bank_account'] == 'Yes', ['education_level', 'bank_account']].groupby('education_level').count().reset_index()\n",
    "education_total = df4[['education_level', 'bank_account']].groupby('education_level').count().reset_index()\n",
    "education = pd.merge(education_yes, education_total, on='education_level', how='inner')\n",
    "education['prop'] = education.apply(lambda x: x['bank_account_x'] / x['bank_account_y'], axis=1)\n",
    "sns.barplot(data=education, x='education_level', y='prop');"
   ]
  },
  {
   "cell_type": "markdown",
   "id": "45ac32dc",
   "metadata": {},
   "source": [
    "**H5.** Pessoas entre 18 e 40 anos constituem 85% da base de contas digitais  "
   ]
  },
  {
   "cell_type": "markdown",
   "id": "1aab830d",
   "metadata": {},
   "source": [
    "**FALSO** - Pessoas na faixa de 18 a 40 anos, compõem 61% da base de contas digitais."
   ]
  },
  {
   "cell_type": "code",
   "execution_count": 221,
   "id": "d52d1d37",
   "metadata": {
    "ExecuteTime": {
     "end_time": "2022-05-29T00:56:49.937269Z",
     "start_time": "2022-05-29T00:56:49.922845Z"
    }
   },
   "outputs": [
    {
     "name": "stdout",
     "output_type": "stream",
     "text": [
      "A quantidade de pessoas entre 18 e 40 anos que possuem conta representam 60.71%\n"
     ]
    }
   ],
   "source": [
    "total_ = df4[df4['bank_account']=='Yes']['uniqueid'].count()\n",
    "age = df4[(df4['bank_account']=='Yes') & ((df1['age_of_respondent'] >= 18 ) & (df4['age_of_respondent'] <= 40))]['uniqueid'].count()\n",
    "percent = age/total_*100\n",
    "print(f'A quantidade de pessoas entre 18 e 40 anos que possuem conta representam {percent:.2f}%')"
   ]
  },
  {
   "cell_type": "markdown",
   "id": "0f8840f5",
   "metadata": {},
   "source": [
    "**H6.** Mulheres são a maioria entre as contas digitais abertas  "
   ]
  },
  {
   "cell_type": "markdown",
   "id": "cebdf097",
   "metadata": {},
   "source": [
    "**FALSO** - De um total de 1685 de contas digitais, 54.60% são de homens"
   ]
  },
  {
   "cell_type": "code",
   "execution_count": 222,
   "id": "e13f2dda",
   "metadata": {
    "ExecuteTime": {
     "end_time": "2022-05-29T00:56:49.960286Z",
     "start_time": "2022-05-29T00:56:49.940150Z"
    }
   },
   "outputs": [
    {
     "name": "stdout",
     "output_type": "stream",
     "text": [
      "De um total de 1685 de contas digitais, 54.60% são de homens\n"
     ]
    }
   ],
   "source": [
    "account = df1[df1['bank_account'] == 'Yes'][['uniqueid','gender_of_respondent' ]].groupby('gender_of_respondent').count().reset_index()\n",
    "male = int(account[account['gender_of_respondent']=='Male']['uniqueid'])\n",
    "female = int(account[account['gender_of_respondent']=='Female']['uniqueid'])\n",
    "print(f'De um total de {male+female} de contas digitais, {male/(male+female)*100:.2f}% são de homens')"
   ]
  },
  {
   "cell_type": "markdown",
   "id": "a74e1bd6",
   "metadata": {},
   "source": [
    "**H7.** Pessoas acima dos 60 anos mesmo com acesso ao celular não possuem conta digital  "
   ]
  },
  {
   "cell_type": "markdown",
   "id": "660a5709",
   "metadata": {},
   "source": [
    "**FALSO** - Existem pessoas acima dos 60 anos com conta digital"
   ]
  },
  {
   "cell_type": "code",
   "execution_count": 223,
   "id": "dd22bcd2",
   "metadata": {
    "ExecuteTime": {
     "end_time": "2022-05-29T00:56:49.977985Z",
     "start_time": "2022-05-29T00:56:49.963809Z"
    }
   },
   "outputs": [
    {
     "name": "stdout",
     "output_type": "stream",
     "text": [
      "145 respondentes com idade superior a 60 e que possuem celular possuem conta em banco.\n"
     ]
    }
   ],
   "source": [
    "plus60_b_acc = df4.loc[(df4['age_of_respondent'] > 60) & (df4['cellphone_access'] == 'Yes') & (df4['bank_account'] == 'Yes'), ['uniqueid', 'age_of_respondent', 'cellphone_access', 'bank_account']].shape[0]\n",
    "\n",
    "print(f'{plus60_b_acc} respondentes com idade superior a 60 e que possuem celular possuem conta em banco.')"
   ]
  },
  {
   "cell_type": "markdown",
   "id": "644a7038",
   "metadata": {},
   "source": [
    "**H8.** 95% das pessoas sem trabalho não possuem conta digital  "
   ]
  },
  {
   "cell_type": "markdown",
   "id": "c31497a5",
   "metadata": {},
   "source": [
    "**VERDADEIRO** - Aproximadamente 100% das pessoas que não possuem trabalho, não possuem conta digital."
   ]
  },
  {
   "cell_type": "code",
   "execution_count": 224,
   "id": "3fee6e94",
   "metadata": {
    "ExecuteTime": {
     "end_time": "2022-05-29T00:56:49.994991Z",
     "start_time": "2022-05-29T00:56:49.980416Z"
    }
   },
   "outputs": [
    {
     "name": "stdout",
     "output_type": "stream",
     "text": [
      "99.96% das pessoas sem trabalho não possuem conta em banco \n"
     ]
    }
   ],
   "source": [
    "df_drop_job = df4[~(df4['job_type'] == 'Dont Know/Refuse to answer')]\n",
    "\n",
    "total = df_drop_job.shape[0]\n",
    "\n",
    "yes = df_drop_job[(df_drop_job['job_type'] == 'No Income') & (df_drop_job['bank_account'] == 'Yes')].shape[0]\n",
    "\n",
    "percent = np.round(yes/total*100, 2)\n",
    "\n",
    "print(f'{100 - percent}% das pessoas sem trabalho não possuem conta em banco ')"
   ]
  },
  {
   "cell_type": "markdown",
   "id": "708b8472",
   "metadata": {},
   "source": [
    "**H9.** 100% dos chefes de família possuem conta digital"
   ]
  },
  {
   "cell_type": "markdown",
   "id": "0c09ccef",
   "metadata": {},
   "source": [
    "**FALSO** - Apenas 17.98% dos chefes de família possuem conta em banco- "
   ]
  },
  {
   "cell_type": "code",
   "execution_count": 225,
   "id": "649c918c",
   "metadata": {
    "ExecuteTime": {
     "end_time": "2022-05-29T00:56:50.015233Z",
     "start_time": "2022-05-29T00:56:49.998130Z"
    }
   },
   "outputs": [
    {
     "name": "stdout",
     "output_type": "stream",
     "text": [
      "Apenas 17.98% dos chefes de família possuem conta em banco\n"
     ]
    }
   ],
   "source": [
    "hoh_total = df4[df4['relationship_with_head'] == 'Head of Household'].shape[0]\n",
    "\n",
    "hoh_yes = df4[(df4['relationship_with_head'] == 'Head of Household') & (df4['bank_account'] == 'Yes')].shape[0]\n",
    "\n",
    "percent_hoh_yes = np.round(hoh_yes/hoh_total*100, 2)\n",
    "\n",
    "print(f'Apenas {percent_hoh_yes}% dos chefes de família possuem conta em banco')"
   ]
  },
  {
   "cell_type": "markdown",
   "id": "38fc6f63",
   "metadata": {},
   "source": [
    "### 4.3. Multivariadas"
   ]
  },
  {
   "cell_type": "code",
   "execution_count": 226,
   "id": "842b76bd",
   "metadata": {
    "ExecuteTime": {
     "end_time": "2022-05-29T00:56:50.024154Z",
     "start_time": "2022-05-29T00:56:50.018648Z"
    }
   },
   "outputs": [],
   "source": [
    "num_attributes = df4.select_dtypes(include = ['float64', 'int64'])\n",
    "cat_attributes = df4.select_dtypes(exclude = ['float64', 'int64', 'datetime64[ns]'])"
   ]
  },
  {
   "cell_type": "markdown",
   "id": "93896281",
   "metadata": {},
   "source": [
    "#### Features Numéricas"
   ]
  },
  {
   "cell_type": "code",
   "execution_count": 227,
   "id": "1d063b15",
   "metadata": {
    "ExecuteTime": {
     "end_time": "2022-05-29T00:56:50.294867Z",
     "start_time": "2022-05-29T00:56:50.028718Z"
    }
   },
   "outputs": [
    {
     "data": {
      "image/png": "[encoded data removed]",
      "text/plain": [
       "<Figure size 1800x864 with 2 Axes>"
      ]
     },
     "metadata": {},
     "output_type": "display_data"
    }
   ],
   "source": [
    "correlation = num_attributes.corr(method='pearson')\n",
    "sns.heatmap(correlation, annot=True);"
   ]
  },
  {
   "cell_type": "markdown",
   "id": "6971d707",
   "metadata": {},
   "source": [
    "#### Features Categóricas"
   ]
  },
  {
   "cell_type": "code",
   "execution_count": 228,
   "id": "593a295d",
   "metadata": {
    "ExecuteTime": {
     "end_time": "2022-05-29T00:56:50.302880Z",
     "start_time": "2022-05-29T00:56:50.297943Z"
    }
   },
   "outputs": [
    {
     "data": {
      "text/plain": [
       "Index(['country', 'uniqueid', 'location_type', 'cellphone_access',\n",
       "       'gender_of_respondent', 'relationship_with_head', 'marital_status',\n",
       "       'education_level', 'job_type', 'uid', 'bank_account'],\n",
       "      dtype='object')"
      ]
     },
     "execution_count": 228,
     "metadata": {},
     "output_type": "execute_result"
    }
   ],
   "source": [
    "cat_attributes.columns"
   ]
  },
  {
   "cell_type": "code",
   "execution_count": 229,
   "id": "345c12c0",
   "metadata": {
    "ExecuteTime": {
     "end_time": "2022-05-29T00:57:47.834273Z",
     "start_time": "2022-05-29T00:56:50.306577Z"
    }
   },
   "outputs": [
    {
     "name": "stderr",
     "output_type": "stream",
     "text": [
      "/tmp/ipykernel_502556/2150264747.py:22: RuntimeWarning: divide by zero encountered in double_scalars\n",
      "  return np.sqrt( (chi2corr / n) / (min(kcorr - 1, rcorr - 1)))\n",
      "/tmp/ipykernel_502556/2150264747.py:22: RuntimeWarning: divide by zero encountered in double_scalars\n",
      "  return np.sqrt( (chi2corr / n) / (min(kcorr - 1, rcorr - 1)))\n",
      "/tmp/ipykernel_502556/2150264747.py:22: RuntimeWarning: divide by zero encountered in double_scalars\n",
      "  return np.sqrt( (chi2corr / n) / (min(kcorr - 1, rcorr - 1)))\n",
      "/tmp/ipykernel_502556/2150264747.py:22: RuntimeWarning: divide by zero encountered in double_scalars\n",
      "  return np.sqrt( (chi2corr / n) / (min(kcorr - 1, rcorr - 1)))\n",
      "/tmp/ipykernel_502556/2150264747.py:22: RuntimeWarning: divide by zero encountered in double_scalars\n",
      "  return np.sqrt( (chi2corr / n) / (min(kcorr - 1, rcorr - 1)))\n",
      "/tmp/ipykernel_502556/2150264747.py:22: RuntimeWarning: divide by zero encountered in double_scalars\n",
      "  return np.sqrt( (chi2corr / n) / (min(kcorr - 1, rcorr - 1)))\n",
      "/tmp/ipykernel_502556/2150264747.py:22: RuntimeWarning: divide by zero encountered in double_scalars\n",
      "  return np.sqrt( (chi2corr / n) / (min(kcorr - 1, rcorr - 1)))\n",
      "/tmp/ipykernel_502556/2150264747.py:22: RuntimeWarning: divide by zero encountered in double_scalars\n",
      "  return np.sqrt( (chi2corr / n) / (min(kcorr - 1, rcorr - 1)))\n",
      "/tmp/ipykernel_502556/2150264747.py:22: RuntimeWarning: divide by zero encountered in double_scalars\n",
      "  return np.sqrt( (chi2corr / n) / (min(kcorr - 1, rcorr - 1)))\n",
      "/tmp/ipykernel_502556/2150264747.py:22: RuntimeWarning: divide by zero encountered in double_scalars\n",
      "  return np.sqrt( (chi2corr / n) / (min(kcorr - 1, rcorr - 1)))\n",
      "/tmp/ipykernel_502556/2150264747.py:22: RuntimeWarning: divide by zero encountered in double_scalars\n",
      "  return np.sqrt( (chi2corr / n) / (min(kcorr - 1, rcorr - 1)))\n",
      "/tmp/ipykernel_502556/2150264747.py:22: RuntimeWarning: divide by zero encountered in double_scalars\n",
      "  return np.sqrt( (chi2corr / n) / (min(kcorr - 1, rcorr - 1)))\n",
      "/tmp/ipykernel_502556/2150264747.py:22: RuntimeWarning: divide by zero encountered in double_scalars\n",
      "  return np.sqrt( (chi2corr / n) / (min(kcorr - 1, rcorr - 1)))\n",
      "/tmp/ipykernel_502556/2150264747.py:22: RuntimeWarning: divide by zero encountered in double_scalars\n",
      "  return np.sqrt( (chi2corr / n) / (min(kcorr - 1, rcorr - 1)))\n",
      "/tmp/ipykernel_502556/2150264747.py:22: RuntimeWarning: divide by zero encountered in double_scalars\n",
      "  return np.sqrt( (chi2corr / n) / (min(kcorr - 1, rcorr - 1)))\n",
      "/tmp/ipykernel_502556/2150264747.py:22: RuntimeWarning: divide by zero encountered in double_scalars\n",
      "  return np.sqrt( (chi2corr / n) / (min(kcorr - 1, rcorr - 1)))\n",
      "/tmp/ipykernel_502556/2150264747.py:22: RuntimeWarning: divide by zero encountered in double_scalars\n",
      "  return np.sqrt( (chi2corr / n) / (min(kcorr - 1, rcorr - 1)))\n",
      "/tmp/ipykernel_502556/2150264747.py:22: RuntimeWarning: divide by zero encountered in double_scalars\n",
      "  return np.sqrt( (chi2corr / n) / (min(kcorr - 1, rcorr - 1)))\n",
      "/tmp/ipykernel_502556/2150264747.py:22: RuntimeWarning: divide by zero encountered in double_scalars\n",
      "  return np.sqrt( (chi2corr / n) / (min(kcorr - 1, rcorr - 1)))\n",
      "/tmp/ipykernel_502556/2150264747.py:22: RuntimeWarning: divide by zero encountered in double_scalars\n",
      "  return np.sqrt( (chi2corr / n) / (min(kcorr - 1, rcorr - 1)))\n",
      "/tmp/ipykernel_502556/2150264747.py:22: RuntimeWarning: divide by zero encountered in double_scalars\n",
      "  return np.sqrt( (chi2corr / n) / (min(kcorr - 1, rcorr - 1)))\n"
     ]
    }
   ],
   "source": [
    "cramer_v_list = []\n",
    "\n",
    "feat1 = cat_attributes.columns\n",
    "feat2 = cat_attributes.columns\n",
    "\n",
    "for feature_x in feat1:\n",
    "    for feature_y in feat2:\n",
    "        cramer_v_list.append(cramer_v(cat_attributes[feature_x], cat_attributes[feature_y]))"
   ]
  },
  {
   "cell_type": "code",
   "execution_count": 230,
   "id": "94735764",
   "metadata": {
    "ExecuteTime": {
     "end_time": "2022-05-29T00:57:47.890771Z",
     "start_time": "2022-05-29T00:57:47.842348Z"
    }
   },
   "outputs": [
    {
     "data": {
      "text/html": [
       "<div>\n",
       "<style scoped>\n",
       "    .dataframe tbody tr th:only-of-type {\n",
       "        vertical-align: middle;\n",
       "    }\n",
       "\n",
       "    .dataframe tbody tr th {\n",
       "        vertical-align: top;\n",
       "    }\n",
       "\n",
       "    .dataframe thead th {\n",
       "        text-align: right;\n",
       "    }\n",
       "</style>\n",
       "<table border=\"1\" class=\"dataframe\">\n",
       "  <thead>\n",
       "    <tr style=\"text-align: right;\">\n",
       "      <th></th>\n",
       "      <th>country</th>\n",
       "      <th>uniqueid</th>\n",
       "      <th>location_type</th>\n",
       "      <th>cellphone_access</th>\n",
       "      <th>gender_of_respondent</th>\n",
       "      <th>relationship_with_head</th>\n",
       "      <th>marital_status</th>\n",
       "      <th>education_level</th>\n",
       "      <th>job_type</th>\n",
       "      <th>uid</th>\n",
       "      <th>bank_account</th>\n",
       "    </tr>\n",
       "  </thead>\n",
       "  <tbody>\n",
       "    <tr>\n",
       "      <th>country</th>\n",
       "      <td>1.000128</td>\n",
       "      <td>0.644881</td>\n",
       "      <td>0.485541</td>\n",
       "      <td>0.221922</td>\n",
       "      <td>0.044653</td>\n",
       "      <td>0.154681</td>\n",
       "      <td>0.284090</td>\n",
       "      <td>0.186937</td>\n",
       "      <td>0.456750</td>\n",
       "      <td>inf</td>\n",
       "      <td>0.204120</td>\n",
       "    </tr>\n",
       "    <tr>\n",
       "      <th>uniqueid</th>\n",
       "      <td>0.644881</td>\n",
       "      <td>1.557828</td>\n",
       "      <td>0.734082</td>\n",
       "      <td>0.755771</td>\n",
       "      <td>0.764993</td>\n",
       "      <td>0.760257</td>\n",
       "      <td>0.721866</td>\n",
       "      <td>0.759313</td>\n",
       "      <td>0.751358</td>\n",
       "      <td>inf</td>\n",
       "      <td>0.747684</td>\n",
       "    </tr>\n",
       "    <tr>\n",
       "      <th>location_type</th>\n",
       "      <td>0.485541</td>\n",
       "      <td>0.734082</td>\n",
       "      <td>0.999865</td>\n",
       "      <td>0.081536</td>\n",
       "      <td>0.012067</td>\n",
       "      <td>0.113234</td>\n",
       "      <td>0.278734</td>\n",
       "      <td>0.124061</td>\n",
       "      <td>0.414573</td>\n",
       "      <td>inf</td>\n",
       "      <td>0.086148</td>\n",
       "    </tr>\n",
       "    <tr>\n",
       "      <th>cellphone_access</th>\n",
       "      <td>0.221922</td>\n",
       "      <td>0.755771</td>\n",
       "      <td>0.081536</td>\n",
       "      <td>0.999818</td>\n",
       "      <td>0.099758</td>\n",
       "      <td>0.084907</td>\n",
       "      <td>0.177339</td>\n",
       "      <td>0.243977</td>\n",
       "      <td>0.220494</td>\n",
       "      <td>inf</td>\n",
       "      <td>0.208132</td>\n",
       "    </tr>\n",
       "    <tr>\n",
       "      <th>gender_of_respondent</th>\n",
       "      <td>0.044653</td>\n",
       "      <td>0.764993</td>\n",
       "      <td>0.012067</td>\n",
       "      <td>0.099758</td>\n",
       "      <td>0.999867</td>\n",
       "      <td>0.513442</td>\n",
       "      <td>0.220904</td>\n",
       "      <td>0.119907</td>\n",
       "      <td>0.175060</td>\n",
       "      <td>inf</td>\n",
       "      <td>0.110040</td>\n",
       "    </tr>\n",
       "    <tr>\n",
       "      <th>relationship_with_head</th>\n",
       "      <td>0.154681</td>\n",
       "      <td>0.760257</td>\n",
       "      <td>0.113234</td>\n",
       "      <td>0.084907</td>\n",
       "      <td>0.513442</td>\n",
       "      <td>1.000213</td>\n",
       "      <td>0.300953</td>\n",
       "      <td>0.125053</td>\n",
       "      <td>0.156889</td>\n",
       "      <td>inf</td>\n",
       "      <td>0.119797</td>\n",
       "    </tr>\n",
       "    <tr>\n",
       "      <th>marital_status</th>\n",
       "      <td>0.284090</td>\n",
       "      <td>0.721866</td>\n",
       "      <td>0.278734</td>\n",
       "      <td>0.177339</td>\n",
       "      <td>0.220904</td>\n",
       "      <td>0.300953</td>\n",
       "      <td>1.000170</td>\n",
       "      <td>0.163538</td>\n",
       "      <td>0.189912</td>\n",
       "      <td>inf</td>\n",
       "      <td>0.096384</td>\n",
       "    </tr>\n",
       "    <tr>\n",
       "      <th>education_level</th>\n",
       "      <td>0.186937</td>\n",
       "      <td>0.759313</td>\n",
       "      <td>0.124061</td>\n",
       "      <td>0.243977</td>\n",
       "      <td>0.119907</td>\n",
       "      <td>0.125053</td>\n",
       "      <td>0.163538</td>\n",
       "      <td>1.000213</td>\n",
       "      <td>0.190783</td>\n",
       "      <td>inf</td>\n",
       "      <td>0.381896</td>\n",
       "    </tr>\n",
       "    <tr>\n",
       "      <th>job_type</th>\n",
       "      <td>0.456750</td>\n",
       "      <td>0.751358</td>\n",
       "      <td>0.414573</td>\n",
       "      <td>0.220494</td>\n",
       "      <td>0.175060</td>\n",
       "      <td>0.156889</td>\n",
       "      <td>0.189912</td>\n",
       "      <td>0.190783</td>\n",
       "      <td>1.000383</td>\n",
       "      <td>inf</td>\n",
       "      <td>0.354601</td>\n",
       "    </tr>\n",
       "    <tr>\n",
       "      <th>uid</th>\n",
       "      <td>inf</td>\n",
       "      <td>inf</td>\n",
       "      <td>inf</td>\n",
       "      <td>inf</td>\n",
       "      <td>inf</td>\n",
       "      <td>inf</td>\n",
       "      <td>inf</td>\n",
       "      <td>inf</td>\n",
       "      <td>inf</td>\n",
       "      <td>inf</td>\n",
       "      <td>inf</td>\n",
       "    </tr>\n",
       "    <tr>\n",
       "      <th>bank_account</th>\n",
       "      <td>0.204120</td>\n",
       "      <td>0.747684</td>\n",
       "      <td>0.086148</td>\n",
       "      <td>0.208132</td>\n",
       "      <td>0.110040</td>\n",
       "      <td>0.119797</td>\n",
       "      <td>0.096384</td>\n",
       "      <td>0.381896</td>\n",
       "      <td>0.354601</td>\n",
       "      <td>inf</td>\n",
       "      <td>0.999696</td>\n",
       "    </tr>\n",
       "  </tbody>\n",
       "</table>\n",
       "</div>"
      ],
      "text/plain": [
       "                         country  uniqueid  location_type  cellphone_access  gender_of_respondent  relationship_with_head  marital_status  education_level  job_type  uid  bank_account\n",
       "country                 1.000128  0.644881       0.485541          0.221922              0.044653                0.154681        0.284090         0.186937  0.456750  inf      0.204120\n",
       "uniqueid                0.644881  1.557828       0.734082          0.755771              0.764993                0.760257        0.721866         0.759313  0.751358  inf      0.747684\n",
       "location_type           0.485541  0.734082       0.999865          0.081536              0.012067                0.113234        0.278734         0.124061  0.414573  inf      0.086148\n",
       "cellphone_access        0.221922  0.755771       0.081536          0.999818              0.099758                0.084907        0.177339         0.243977  0.220494  inf      0.208132\n",
       "gender_of_respondent    0.044653  0.764993       0.012067          0.099758              0.999867                0.513442        0.220904         0.119907  0.175060  inf      0.110040\n",
       "relationship_with_head  0.154681  0.760257       0.113234          0.084907              0.513442                1.000213        0.300953         0.125053  0.156889  inf      0.119797\n",
       "marital_status          0.284090  0.721866       0.278734          0.177339              0.220904                0.300953        1.000170         0.163538  0.189912  inf      0.096384\n",
       "education_level         0.186937  0.759313       0.124061          0.243977              0.119907                0.125053        0.163538         1.000213  0.190783  inf      0.381896\n",
       "job_type                0.456750  0.751358       0.414573          0.220494              0.175060                0.156889        0.189912         0.190783  1.000383  inf      0.354601\n",
       "uid                          inf       inf            inf               inf                   inf                     inf             inf              inf       inf  inf           inf\n",
       "bank_account            0.204120  0.747684       0.086148          0.208132              0.110040                0.119797        0.096384         0.381896  0.354601  inf      0.999696"
      ]
     },
     "execution_count": 230,
     "metadata": {},
     "output_type": "execute_result"
    }
   ],
   "source": [
    "df_cramer_v = pd.DataFrame({\n",
    "                'country': [cramer_v_list[0], cramer_v_list[1], cramer_v_list[2], cramer_v_list[3], cramer_v_list[4], cramer_v_list[5], cramer_v_list[6], cramer_v_list[7], cramer_v_list[8], cramer_v_list[9], cramer_v_list[10]],\n",
    "                'uniqueid': [cramer_v_list[11], cramer_v_list[12], cramer_v_list[13], cramer_v_list[14], cramer_v_list[15], cramer_v_list[16], cramer_v_list[17], cramer_v_list[18], cramer_v_list[19], cramer_v_list[20], cramer_v_list[21]],\n",
    "                'location_type': [cramer_v_list[22], cramer_v_list[23], cramer_v_list[24], cramer_v_list[25], cramer_v_list[26], cramer_v_list[27], cramer_v_list[28], cramer_v_list[29], cramer_v_list[30], cramer_v_list[31], cramer_v_list[32]],\n",
    "                'cellphone_access': [cramer_v_list[33], cramer_v_list[34], cramer_v_list[35], cramer_v_list[36], cramer_v_list[37], cramer_v_list[38], cramer_v_list[39], cramer_v_list[40], cramer_v_list[41], cramer_v_list[42], cramer_v_list[43]],\n",
    "                'gender_of_respondent': [cramer_v_list[44], cramer_v_list[45], cramer_v_list[46], cramer_v_list[47], cramer_v_list[48], cramer_v_list[49], cramer_v_list[50], cramer_v_list[51], cramer_v_list[52], cramer_v_list[53], cramer_v_list[54]],\n",
    "                'relationship_with_head': [cramer_v_list[55], cramer_v_list[56], cramer_v_list[57], cramer_v_list[58], cramer_v_list[59], cramer_v_list[60], cramer_v_list[61], cramer_v_list[62], cramer_v_list[63], cramer_v_list[64], cramer_v_list[65]],\n",
    "                'marital_status': [cramer_v_list[66], cramer_v_list[67], cramer_v_list[68], cramer_v_list[69], cramer_v_list[70], cramer_v_list[71], cramer_v_list[72], cramer_v_list[73], cramer_v_list[74], cramer_v_list[75], cramer_v_list[76]],\n",
    "                'education_level': [cramer_v_list[77], cramer_v_list[78], cramer_v_list[79], cramer_v_list[80], cramer_v_list[81], cramer_v_list[82], cramer_v_list[83], cramer_v_list[84], cramer_v_list[85], cramer_v_list[86], cramer_v_list[87]],\n",
    "                'job_type': [cramer_v_list[88], cramer_v_list[89], cramer_v_list[90], cramer_v_list[91], cramer_v_list[92], cramer_v_list[93], cramer_v_list[94], cramer_v_list[95], cramer_v_list[96], cramer_v_list[97], cramer_v_list[98]],\n",
    "                'uid': [cramer_v_list[99], cramer_v_list[100], cramer_v_list[101], cramer_v_list[102], cramer_v_list[103], cramer_v_list[104], cramer_v_list[105], cramer_v_list[106], cramer_v_list[107], cramer_v_list[108], cramer_v_list[109]],\n",
    "                'bank_account': [cramer_v_list[110], cramer_v_list[111], cramer_v_list[112], cramer_v_list[113], cramer_v_list[114], cramer_v_list[115], cramer_v_list[116], cramer_v_list[117], cramer_v_list[118], cramer_v_list[119], cramer_v_list[120]]\n",
    "            })\n",
    "df_cramer_v = df_cramer_v.set_index(df_cramer_v.columns)\n",
    "df_cramer_v"
   ]
  },
  {
   "cell_type": "code",
   "execution_count": 231,
   "id": "85df8ff5",
   "metadata": {
    "ExecuteTime": {
     "end_time": "2022-05-29T00:57:48.621193Z",
     "start_time": "2022-05-29T00:57:47.893140Z"
    }
   },
   "outputs": [
    {
     "data": {
      "image/png": "[encoded data removed]",
      "text/plain": [
       "<Figure size 1800x864 with 2 Axes>"
      ]
     },
     "metadata": {},
     "output_type": "display_data"
    }
   ],
   "source": [
    "sns.heatmap(df_cramer_v, annot=True, vmin=-1, vmax=1, cmap='coolwarm');"
   ]
  },
  {
   "cell_type": "markdown",
   "id": "44eb5600",
   "metadata": {},
   "source": [
    "Candidatos à remoção: uid, uniqueid, gender_of_respondent, year"
   ]
  },
  {
   "cell_type": "markdown",
   "id": "ef9dd422",
   "metadata": {},
   "source": [
    "## 5. Preparação dos Dados"
   ]
  },
  {
   "cell_type": "code",
   "execution_count": 232,
   "id": "8d0a0f61",
   "metadata": {
    "ExecuteTime": {
     "end_time": "2022-05-29T00:57:48.630600Z",
     "start_time": "2022-05-29T00:57:48.624560Z"
    }
   },
   "outputs": [],
   "source": [
    "df5 = df4.copy()"
   ]
  },
  {
   "cell_type": "code",
   "execution_count": 233,
   "id": "20d771d2",
   "metadata": {
    "ExecuteTime": {
     "end_time": "2022-05-29T00:57:48.702851Z",
     "start_time": "2022-05-29T00:57:48.634186Z"
    }
   },
   "outputs": [
    {
     "data": {
      "text/html": [
       "<div>\n",
       "<style scoped>\n",
       "    .dataframe tbody tr th:only-of-type {\n",
       "        vertical-align: middle;\n",
       "    }\n",
       "\n",
       "    .dataframe tbody tr th {\n",
       "        vertical-align: top;\n",
       "    }\n",
       "\n",
       "    .dataframe thead th {\n",
       "        text-align: right;\n",
       "    }\n",
       "</style>\n",
       "<table border=\"1\" class=\"dataframe\">\n",
       "  <thead>\n",
       "    <tr style=\"text-align: right;\">\n",
       "      <th></th>\n",
       "      <th>country</th>\n",
       "      <th>year</th>\n",
       "      <th>uniqueid</th>\n",
       "      <th>location_type</th>\n",
       "      <th>cellphone_access</th>\n",
       "      <th>household_size</th>\n",
       "      <th>age_of_respondent</th>\n",
       "      <th>gender_of_respondent</th>\n",
       "      <th>relationship_with_head</th>\n",
       "      <th>marital_status</th>\n",
       "      <th>education_level</th>\n",
       "      <th>job_type</th>\n",
       "      <th>uid</th>\n",
       "      <th>bank_account</th>\n",
       "    </tr>\n",
       "  </thead>\n",
       "  <tbody>\n",
       "    <tr>\n",
       "      <th>0</th>\n",
       "      <td>4335</td>\n",
       "      <td>2016</td>\n",
       "      <td>uniqueid_4858</td>\n",
       "      <td>7100</td>\n",
       "      <td>8786</td>\n",
       "      <td>6</td>\n",
       "      <td>45</td>\n",
       "      <td>4860</td>\n",
       "      <td>6358</td>\n",
       "      <td>1034</td>\n",
       "      <td>6408</td>\n",
       "      <td>2732</td>\n",
       "      <td>Rwanda_uniqueid_4858</td>\n",
       "      <td>0</td>\n",
       "    </tr>\n",
       "    <tr>\n",
       "      <th>1</th>\n",
       "      <td>3288</td>\n",
       "      <td>2017</td>\n",
       "      <td>uniqueid_3015</td>\n",
       "      <td>4662</td>\n",
       "      <td>2976</td>\n",
       "      <td>4</td>\n",
       "      <td>33</td>\n",
       "      <td>6902</td>\n",
       "      <td>6358</td>\n",
       "      <td>3970</td>\n",
       "      <td>6408</td>\n",
       "      <td>3207</td>\n",
       "      <td>Tanzania_uniqueid_3015</td>\n",
       "      <td>0</td>\n",
       "    </tr>\n",
       "    <tr>\n",
       "      <th>2</th>\n",
       "      <td>4335</td>\n",
       "      <td>2016</td>\n",
       "      <td>uniqueid_103</td>\n",
       "      <td>7100</td>\n",
       "      <td>8786</td>\n",
       "      <td>7</td>\n",
       "      <td>43</td>\n",
       "      <td>4860</td>\n",
       "      <td>6358</td>\n",
       "      <td>5433</td>\n",
       "      <td>2129</td>\n",
       "      <td>2732</td>\n",
       "      <td>Rwanda_uniqueid_103</td>\n",
       "      <td>0</td>\n",
       "    </tr>\n",
       "    <tr>\n",
       "      <th>3</th>\n",
       "      <td>4335</td>\n",
       "      <td>2016</td>\n",
       "      <td>uniqueid_4582</td>\n",
       "      <td>7100</td>\n",
       "      <td>2976</td>\n",
       "      <td>6</td>\n",
       "      <td>35</td>\n",
       "      <td>6902</td>\n",
       "      <td>6358</td>\n",
       "      <td>5433</td>\n",
       "      <td>6408</td>\n",
       "      <td>2732</td>\n",
       "      <td>Rwanda_uniqueid_4582</td>\n",
       "      <td>0</td>\n",
       "    </tr>\n",
       "    <tr>\n",
       "      <th>4</th>\n",
       "      <td>3288</td>\n",
       "      <td>2017</td>\n",
       "      <td>uniqueid_2854</td>\n",
       "      <td>4662</td>\n",
       "      <td>8786</td>\n",
       "      <td>2</td>\n",
       "      <td>30</td>\n",
       "      <td>4860</td>\n",
       "      <td>6358</td>\n",
       "      <td>3970</td>\n",
       "      <td>6408</td>\n",
       "      <td>2788</td>\n",
       "      <td>Tanzania_uniqueid_2854</td>\n",
       "      <td>0</td>\n",
       "    </tr>\n",
       "  </tbody>\n",
       "</table>\n",
       "</div>"
      ],
      "text/plain": [
       "   country  year       uniqueid  location_type  cellphone_access  household_size  age_of_respondent  gender_of_respondent  relationship_with_head  marital_status  education_level  job_type                     uid  bank_account\n",
       "0     4335  2016  uniqueid_4858           7100              8786               6                 45                  4860                    6358            1034             6408      2732    Rwanda_uniqueid_4858             0\n",
       "1     3288  2017  uniqueid_3015           4662              2976               4                 33                  6902                    6358            3970             6408      3207  Tanzania_uniqueid_3015             0\n",
       "2     4335  2016   uniqueid_103           7100              8786               7                 43                  4860                    6358            5433             2129      2732     Rwanda_uniqueid_103             0\n",
       "3     4335  2016  uniqueid_4582           7100              2976               6                 35                  6902                    6358            5433             6408      2732    Rwanda_uniqueid_4582             0\n",
       "4     3288  2017  uniqueid_2854           4662              8786               2                 30                  4860                    6358            3970             6408      2788  Tanzania_uniqueid_2854             0"
      ]
     },
     "execution_count": 233,
     "metadata": {},
     "output_type": "execute_result"
    }
   ],
   "source": [
    "# análise de frequência\n",
    "\n",
    "# country\n",
    "df5['country'], count_country = freq_analysis(df5, 'country')\n",
    "\n",
    "# location_type\n",
    "df5['location_type'], count_location_type = freq_analysis(df5, 'location_type')\n",
    "\n",
    "# cellphone_access\n",
    "df5['cellphone_access'], count_cellphone_access = freq_analysis(df5, 'cellphone_access')\n",
    "\n",
    "# gender_of_respondent\n",
    "df5['gender_of_respondent'], count_gender_of_respondent = freq_analysis(df5, 'gender_of_respondent')\n",
    "\n",
    "# relationship_with_head\n",
    "df5['relationship_with_head'], count_relationship_with_head = freq_analysis(df5, 'relationship_with_head')\n",
    "\n",
    "# marital_status\n",
    "df5['marital_status'], count_marital_status = freq_analysis(df5, 'marital_status')\n",
    "\n",
    "# education_level\n",
    "df5['education_level'], count_education_level = freq_analysis(df5, 'education_level')\n",
    "\n",
    "# job_type\n",
    "df5['job_type'], count_job_type = freq_analysis(df5, 'job_type')\n",
    "\n",
    "# bank_account\n",
    "df5['bank_account'] = df5['bank_account'].apply(lambda x: 1 if x == 'Yes' else 0)\n",
    "\n",
    "df5.head()"
   ]
  },
  {
   "cell_type": "code",
   "execution_count": 234,
   "id": "2e415576-4836-4689-a324-018f22117d80",
   "metadata": {
    "ExecuteTime": {
     "end_time": "2022-05-29T00:57:48.763193Z",
     "start_time": "2022-05-29T00:57:48.705651Z"
    }
   },
   "outputs": [],
   "source": [
    "minmax_country = pp.MinMaxScaler().fit(df5[['country']].values)\n",
    "df5['country'] = minmax_country.transform(df5[['country']].values)\n",
    "\n",
    "minmax_year = pp.MinMaxScaler().fit(df5[['year']].values)\n",
    "df5['year'] = minmax_year.transform(df5[['year']].values)\n",
    "\n",
    "minmax_location_type = pp.MinMaxScaler().fit(df5[['location_type']].values)\n",
    "df5['location_type'] = minmax_location_type.transform(df5[['location_type']].values)\n",
    "\n",
    "minmax_cellphone_access = pp.MinMaxScaler().fit(df5[['cellphone_access']].values)\n",
    "df5['cellphone_access'] = minmax_cellphone_access.transform(df5[['cellphone_access']].values)\n",
    "\n",
    "minmax_household_size = pp.MinMaxScaler().fit(df5[['household_size']].values)\n",
    "df5['household_size'] = minmax_household_size.transform(df5[['household_size']].values)\n",
    "\n",
    "minmax_age_of_respondent = pp.MinMaxScaler().fit(df5[['age_of_respondent']].values)\n",
    "df5['age_of_respondent'] = minmax_age_of_respondent.transform(df5[['age_of_respondent']].values)\n",
    "\n",
    "minmax_gender_of_respondent = pp.MinMaxScaler().fit(df5[['gender_of_respondent']].values)\n",
    "df5['gender_of_respondent'] = minmax_gender_of_respondent.transform(df5[['gender_of_respondent']].values)\n",
    "\n",
    "minmax_relationship_with_head = pp.MinMaxScaler().fit(df5[['relationship_with_head']].values)\n",
    "df5['relationship_with_head'] = minmax_relationship_with_head.transform(df5[['relationship_with_head']].values)\n",
    "\n",
    "minmax_marital_status = pp.MinMaxScaler().fit(df5[['marital_status']].values)\n",
    "df5['marital_status'] = minmax_marital_status.transform(df5[['marital_status']].values)\n",
    "\n",
    "minmax_education_level = pp.MinMaxScaler().fit(df5[['education_level']].values)\n",
    "df5['education_level'] = minmax_education_level.transform(df5[['education_level']].values)\n",
    "\n",
    "minmax_job_type = pp.MinMaxScaler().fit(df5[['job_type']].values)\n",
    "df5['job_type'] = minmax_job_type.transform(df5[['job_type']].values)\n",
    "\n",
    "# df5['country'] = pp.MinMaxScaler().fit_transform(df5[['country']].values)\n",
    "# df5['year'] = pp.MinMaxScaler().fit_transform(df5[['year']].values)\n",
    "# df5['location_type'] = pp.MinMaxScaler().fit_transform(df5[['location_type']].values)\n",
    "# df5['cellphone_access'] = pp.MinMaxScaler().fit_transform(df5[['cellphone_access']].values)\n",
    "# df5['household_size'] = pp.MinMaxScaler().fit_transform(df5[['household_size']].values)\n",
    "# df5['age_of_respondent'] = pp.MinMaxScaler().fit_transform(df5[['age_of_respondent']].values)\n",
    "# df5['gender_of_respondent'] = pp.MinMaxScaler().fit_transform(df5[['gender_of_respondent']].values)\n",
    "# df5['relationship_with_head'] = pp.MinMaxScaler().fit_transform(df5[['relationship_with_head']].values)\n",
    "# df5['marital_status'] = pp.MinMaxScaler().fit_transform(df5[['marital_status']].values)\n",
    "# df5['education_level'] = pp.MinMaxScaler().fit_transform(df5[['education_level']].values)\n",
    "# df5['job_type'] = pp.MinMaxScaler().fit_transform(df5[['job_type']].values)"
   ]
  },
  {
   "cell_type": "markdown",
   "id": "6ea4a32c",
   "metadata": {},
   "source": [
    "### 5.1. Reescala dos Dados"
   ]
  },
  {
   "cell_type": "markdown",
   "id": "ce70d8f1",
   "metadata": {},
   "source": [
    "## 6. Seleção de Features"
   ]
  },
  {
   "cell_type": "code",
   "execution_count": 235,
   "id": "5cbb50da",
   "metadata": {
    "ExecuteTime": {
     "end_time": "2022-05-29T00:57:48.771586Z",
     "start_time": "2022-05-29T00:57:48.765577Z"
    }
   },
   "outputs": [],
   "source": [
    "df6 = df5.copy()"
   ]
  },
  {
   "cell_type": "markdown",
   "id": "9c9d749c",
   "metadata": {},
   "source": [
    "### 6.1. Separação de Treino e Teste"
   ]
  },
  {
   "cell_type": "code",
   "execution_count": 236,
   "id": "68026fbc",
   "metadata": {
    "ExecuteTime": {
     "end_time": "2022-05-29T00:57:48.796876Z",
     "start_time": "2022-05-29T00:57:48.774541Z"
    }
   },
   "outputs": [
    {
     "data": {
      "text/html": [
       "<div>\n",
       "<style scoped>\n",
       "    .dataframe tbody tr th:only-of-type {\n",
       "        vertical-align: middle;\n",
       "    }\n",
       "\n",
       "    .dataframe tbody tr th {\n",
       "        vertical-align: top;\n",
       "    }\n",
       "\n",
       "    .dataframe thead th {\n",
       "        text-align: right;\n",
       "    }\n",
       "</style>\n",
       "<table border=\"1\" class=\"dataframe\">\n",
       "  <thead>\n",
       "    <tr style=\"text-align: right;\">\n",
       "      <th></th>\n",
       "      <th>country</th>\n",
       "      <th>year</th>\n",
       "      <th>uniqueid</th>\n",
       "      <th>location_type</th>\n",
       "      <th>cellphone_access</th>\n",
       "      <th>household_size</th>\n",
       "      <th>age_of_respondent</th>\n",
       "      <th>gender_of_respondent</th>\n",
       "      <th>relationship_with_head</th>\n",
       "      <th>marital_status</th>\n",
       "      <th>education_level</th>\n",
       "      <th>job_type</th>\n",
       "      <th>uid</th>\n",
       "      <th>bank_account</th>\n",
       "    </tr>\n",
       "  </thead>\n",
       "  <tbody>\n",
       "    <tr>\n",
       "      <th>0</th>\n",
       "      <td>1.000000</td>\n",
       "      <td>0.0</td>\n",
       "      <td>uniqueid_4858</td>\n",
       "      <td>1.0</td>\n",
       "      <td>1.0</td>\n",
       "      <td>0.25</td>\n",
       "      <td>0.345238</td>\n",
       "      <td>0.0</td>\n",
       "      <td>1.0</td>\n",
       "      <td>0.189722</td>\n",
       "      <td>1.00000</td>\n",
       "      <td>0.849111</td>\n",
       "      <td>Rwanda_uniqueid_4858</td>\n",
       "      <td>0</td>\n",
       "    </tr>\n",
       "    <tr>\n",
       "      <th>1</th>\n",
       "      <td>0.677648</td>\n",
       "      <td>0.5</td>\n",
       "      <td>uniqueid_3015</td>\n",
       "      <td>0.0</td>\n",
       "      <td>0.0</td>\n",
       "      <td>0.15</td>\n",
       "      <td>0.202381</td>\n",
       "      <td>1.0</td>\n",
       "      <td>1.0</td>\n",
       "      <td>0.730521</td>\n",
       "      <td>1.00000</td>\n",
       "      <td>1.000000</td>\n",
       "      <td>Tanzania_uniqueid_3015</td>\n",
       "      <td>0</td>\n",
       "    </tr>\n",
       "    <tr>\n",
       "      <th>2</th>\n",
       "      <td>1.000000</td>\n",
       "      <td>0.0</td>\n",
       "      <td>uniqueid_103</td>\n",
       "      <td>1.0</td>\n",
       "      <td>1.0</td>\n",
       "      <td>0.30</td>\n",
       "      <td>0.321429</td>\n",
       "      <td>0.0</td>\n",
       "      <td>1.0</td>\n",
       "      <td>1.000000</td>\n",
       "      <td>0.33015</td>\n",
       "      <td>0.849111</td>\n",
       "      <td>Rwanda_uniqueid_103</td>\n",
       "      <td>0</td>\n",
       "    </tr>\n",
       "    <tr>\n",
       "      <th>3</th>\n",
       "      <td>1.000000</td>\n",
       "      <td>0.0</td>\n",
       "      <td>uniqueid_4582</td>\n",
       "      <td>1.0</td>\n",
       "      <td>0.0</td>\n",
       "      <td>0.25</td>\n",
       "      <td>0.226190</td>\n",
       "      <td>1.0</td>\n",
       "      <td>1.0</td>\n",
       "      <td>1.000000</td>\n",
       "      <td>1.00000</td>\n",
       "      <td>0.849111</td>\n",
       "      <td>Rwanda_uniqueid_4582</td>\n",
       "      <td>0</td>\n",
       "    </tr>\n",
       "    <tr>\n",
       "      <th>4</th>\n",
       "      <td>0.677648</td>\n",
       "      <td>0.5</td>\n",
       "      <td>uniqueid_2854</td>\n",
       "      <td>0.0</td>\n",
       "      <td>1.0</td>\n",
       "      <td>0.05</td>\n",
       "      <td>0.166667</td>\n",
       "      <td>0.0</td>\n",
       "      <td>1.0</td>\n",
       "      <td>0.730521</td>\n",
       "      <td>1.00000</td>\n",
       "      <td>0.866900</td>\n",
       "      <td>Tanzania_uniqueid_2854</td>\n",
       "      <td>0</td>\n",
       "    </tr>\n",
       "  </tbody>\n",
       "</table>\n",
       "</div>"
      ],
      "text/plain": [
       "    country  year       uniqueid  location_type  cellphone_access  household_size  age_of_respondent  gender_of_respondent  relationship_with_head  marital_status  education_level  job_type                     uid  bank_account\n",
       "0  1.000000   0.0  uniqueid_4858            1.0               1.0            0.25           0.345238                   0.0                     1.0        0.189722          1.00000  0.849111    Rwanda_uniqueid_4858             0\n",
       "1  0.677648   0.5  uniqueid_3015            0.0               0.0            0.15           0.202381                   1.0                     1.0        0.730521          1.00000  1.000000  Tanzania_uniqueid_3015             0\n",
       "2  1.000000   0.0   uniqueid_103            1.0               1.0            0.30           0.321429                   0.0                     1.0        1.000000          0.33015  0.849111     Rwanda_uniqueid_103             0\n",
       "3  1.000000   0.0  uniqueid_4582            1.0               0.0            0.25           0.226190                   1.0                     1.0        1.000000          1.00000  0.849111    Rwanda_uniqueid_4582             0\n",
       "4  0.677648   0.5  uniqueid_2854            0.0               1.0            0.05           0.166667                   0.0                     1.0        0.730521          1.00000  0.866900  Tanzania_uniqueid_2854             0"
      ]
     },
     "execution_count": 236,
     "metadata": {},
     "output_type": "execute_result"
    }
   ],
   "source": [
    "df6.head()"
   ]
  },
  {
   "cell_type": "code",
   "execution_count": 237,
   "id": "31a51331",
   "metadata": {
    "ExecuteTime": {
     "end_time": "2022-05-29T00:57:48.809174Z",
     "start_time": "2022-05-29T00:57:48.800113Z"
    }
   },
   "outputs": [],
   "source": [
    "X = df6.drop(['uniqueid','uid','bank_account', 'year', 'gender_of_respondent', 'household_size'],axis=1)\n",
    "y = df6['bank_account']\n",
    "\n",
    "x_train, x_test, y_train, y_test = ms.train_test_split(X, y, test_size=0.3, random_state=42)"
   ]
  },
  {
   "cell_type": "markdown",
   "id": "7132a5b0",
   "metadata": {},
   "source": [
    "## 7. Construção do Modelo"
   ]
  },
  {
   "cell_type": "code",
   "execution_count": 238,
   "id": "4e94cbb1",
   "metadata": {
    "ExecuteTime": {
     "end_time": "2022-05-29T00:57:48.816597Z",
     "start_time": "2022-05-29T00:57:48.812325Z"
    }
   },
   "outputs": [],
   "source": [
    "score_list = {}\n",
    "models_f1 = {}\n",
    "\n",
    "k_fold = 5"
   ]
  },
  {
   "cell_type": "markdown",
   "id": "78377f4a",
   "metadata": {
    "ExecuteTime": {
     "end_time": "2022-05-28T16:11:32.634627Z",
     "start_time": "2022-05-28T16:11:32.611107Z"
    }
   },
   "source": [
    "### 7.1. Random Forest Classifier"
   ]
  },
  {
   "cell_type": "code",
   "execution_count": 239,
   "id": "074beb9b",
   "metadata": {
    "ExecuteTime": {
     "end_time": "2022-05-29T00:57:49.413825Z",
     "start_time": "2022-05-29T00:57:48.819674Z"
    }
   },
   "outputs": [],
   "source": [
    "# criar o modelo\n",
    "rfc_model = ensemble.RandomForestClassifier(random_state=42)\n",
    "\n",
    "# treinar o modelo\n",
    "rfc_model.fit(x_train, y_train)\n",
    "\n",
    "# fazer a predição\n",
    "yhat_rfc = rfc_model.predict(x_test)\n",
    "\n",
    "# calcula a performance\n",
    "models_f1['Random Forest'] = metrics.f1_score(y_test, yhat_rfc)"
   ]
  },
  {
   "cell_type": "code",
   "execution_count": 240,
   "id": "376f17fa-8303-4d8b-b6da-7e606ce65778",
   "metadata": {
    "ExecuteTime": {
     "end_time": "2022-05-29T00:57:52.577547Z",
     "start_time": "2022-05-29T00:57:49.415861Z"
    }
   },
   "outputs": [],
   "source": [
    "score = ms.cross_val_score(rfc_model,X,y,scoring='f1',cv=k_fold)\n",
    "score_list['Random Forest'] = np.mean(score)"
   ]
  },
  {
   "cell_type": "markdown",
   "id": "73f0b3d1-85ca-49bc-80c2-a599d7acbe65",
   "metadata": {},
   "source": [
    "## 7.2 Logistic Regression"
   ]
  },
  {
   "cell_type": "code",
   "execution_count": 241,
   "id": "c37040dc-0c36-4bd0-af0b-ab79a83738cb",
   "metadata": {
    "ExecuteTime": {
     "end_time": "2022-05-29T00:57:52.653753Z",
     "start_time": "2022-05-29T00:57:52.580649Z"
    }
   },
   "outputs": [],
   "source": [
    "# criar o modelo\n",
    "logistic_model = linear_model.LogisticRegression()\n",
    "\n",
    "# treinar o modelo\n",
    "logistic_model.fit(x_train, y_train)\n",
    "\n",
    "# fazer a predição\n",
    "yhat_logistic = logistic_model.predict(x_test)\n",
    "\n",
    "# calcula a performance\n",
    "models_f1['Logistic Regression'] = metrics.f1_score(y_test, yhat_logistic)"
   ]
  },
  {
   "cell_type": "code",
   "execution_count": 242,
   "id": "83a2f2ca-846d-4d56-a19d-fe32a56b4235",
   "metadata": {
    "ExecuteTime": {
     "end_time": "2022-05-29T00:57:52.845418Z",
     "start_time": "2022-05-29T00:57:52.656577Z"
    }
   },
   "outputs": [],
   "source": [
    "score = ms.cross_val_score(logistic_model,X,y,scoring='f1',cv=k_fold)\n",
    "score_list['Logistic Regression']=np.mean(score)"
   ]
  },
  {
   "cell_type": "markdown",
   "id": "91f46092-ca6e-4e5b-923f-b48e45aa8be9",
   "metadata": {},
   "source": [
    "## 7.3 Support Vector Machine"
   ]
  },
  {
   "cell_type": "code",
   "execution_count": 243,
   "id": "1c46071c-03ad-4626-8328-01b5e8668ec5",
   "metadata": {
    "ExecuteTime": {
     "end_time": "2022-05-29T00:57:54.661392Z",
     "start_time": "2022-05-29T00:57:52.848101Z"
    }
   },
   "outputs": [],
   "source": [
    "# criar o modelo\n",
    "svm_model = SVC()\n",
    "\n",
    "# treinar o modelo\n",
    "svm_model.fit(x_train, y_train)\n",
    "\n",
    "# fazer a predição\n",
    "yhat_svm = svm_model.predict(x_test)\n",
    "\n",
    "# calcula a performance\n",
    "models_f1['SVM'] = metrics.f1_score(y_test, yhat_svm)"
   ]
  },
  {
   "cell_type": "code",
   "execution_count": 244,
   "id": "5f74fddc-167c-4739-b970-dedbcfe6d8ab",
   "metadata": {
    "ExecuteTime": {
     "end_time": "2022-05-29T00:58:04.746438Z",
     "start_time": "2022-05-29T00:57:54.664159Z"
    }
   },
   "outputs": [],
   "source": [
    "score = ms.cross_val_score(svm_model,X,y,scoring='f1',cv=k_fold)\n",
    "score_list['SVM']=np.mean(score)"
   ]
  },
  {
   "cell_type": "markdown",
   "id": "21449f80-0d56-4957-8ffb-0905157431b5",
   "metadata": {},
   "source": [
    "## 7.4 KNN"
   ]
  },
  {
   "cell_type": "code",
   "execution_count": 245,
   "id": "09163d12-faa6-4e29-833a-c1c6a85c6a83",
   "metadata": {
    "ExecuteTime": {
     "end_time": "2022-05-29T00:58:04.962132Z",
     "start_time": "2022-05-29T00:58:04.748849Z"
    }
   },
   "outputs": [],
   "source": [
    "# criar o modelo\n",
    "knn_model = KNeighborsClassifier()\n",
    "\n",
    "# treinar o modelo\n",
    "knn_model.fit(x_train, y_train)\n",
    "\n",
    "# fazer a predição\n",
    "yhat_knn = knn_model.predict(x_test)\n",
    "\n",
    "# calcula a performance\n",
    "models_f1['KNN'] = metrics.f1_score(y_test, yhat_knn)"
   ]
  },
  {
   "cell_type": "code",
   "execution_count": 246,
   "id": "a6fdcdf5-5cea-4475-a3f6-7d73daf2258f",
   "metadata": {
    "ExecuteTime": {
     "end_time": "2022-05-29T00:58:05.727260Z",
     "start_time": "2022-05-29T00:58:04.965159Z"
    }
   },
   "outputs": [],
   "source": [
    "score = ms.cross_val_score(knn_model,X,y,scoring='f1',cv=k_fold)\n",
    "score_list['KNN']=np.mean(score)"
   ]
  },
  {
   "cell_type": "markdown",
   "id": "023f8190",
   "metadata": {},
   "source": [
    "## 8. Avaliação do Modelo"
   ]
  },
  {
   "cell_type": "code",
   "execution_count": 247,
   "id": "228f6678",
   "metadata": {
    "ExecuteTime": {
     "end_time": "2022-05-29T00:58:05.736432Z",
     "start_time": "2022-05-29T00:58:05.730551Z"
    }
   },
   "outputs": [
    {
     "data": {
      "text/plain": [
       "{'Random Forest': 0.38717067583046966,\n",
       " 'Logistic Regression': 0.2524271844660194,\n",
       " 'SVM': 0.29497568881685576,\n",
       " 'KNN': 0.38047559449311635}"
      ]
     },
     "execution_count": 247,
     "metadata": {},
     "output_type": "execute_result"
    }
   ],
   "source": [
    "models_f1"
   ]
  },
  {
   "cell_type": "code",
   "execution_count": 248,
   "id": "5716e57d-fc0f-4cef-8fbf-361ae7e2baf6",
   "metadata": {
    "ExecuteTime": {
     "end_time": "2022-05-29T00:58:05.746451Z",
     "start_time": "2022-05-29T00:58:05.739966Z"
    }
   },
   "outputs": [
    {
     "data": {
      "text/plain": [
       "{'Random Forest': 0.44106028963667737,\n",
       " 'Logistic Regression': 0.27934429394548943,\n",
       " 'SVM': 0.32472996436913193,\n",
       " 'KNN': 0.4075481688230303}"
      ]
     },
     "execution_count": 248,
     "metadata": {},
     "output_type": "execute_result"
    }
   ],
   "source": [
    "score_list"
   ]
  },
  {
   "cell_type": "markdown",
   "id": "987f37f4",
   "metadata": {},
   "source": [
    "## 9. Fine Tunning"
   ]
  },
  {
   "cell_type": "markdown",
   "id": "be53c79e",
   "metadata": {},
   "source": [
    "## 10. Output da Submissão"
   ]
  },
  {
   "cell_type": "code",
   "execution_count": 249,
   "id": "4f76bcec",
   "metadata": {
    "ExecuteTime": {
     "end_time": "2022-05-29T00:58:05.770205Z",
     "start_time": "2022-05-29T00:58:05.751585Z"
    }
   },
   "outputs": [
    {
     "data": {
      "text/html": [
       "<div>\n",
       "<style scoped>\n",
       "    .dataframe tbody tr th:only-of-type {\n",
       "        vertical-align: middle;\n",
       "    }\n",
       "\n",
       "    .dataframe tbody tr th {\n",
       "        vertical-align: top;\n",
       "    }\n",
       "\n",
       "    .dataframe thead th {\n",
       "        text-align: right;\n",
       "    }\n",
       "</style>\n",
       "<table border=\"1\" class=\"dataframe\">\n",
       "  <thead>\n",
       "    <tr style=\"text-align: right;\">\n",
       "      <th></th>\n",
       "      <th>country</th>\n",
       "      <th>year</th>\n",
       "      <th>uniqueid</th>\n",
       "      <th>location_type</th>\n",
       "      <th>cellphone_access</th>\n",
       "      <th>household_size</th>\n",
       "      <th>age_of_respondent</th>\n",
       "      <th>gender_of_respondent</th>\n",
       "      <th>relationship_with_head</th>\n",
       "      <th>marital_status</th>\n",
       "      <th>education_level</th>\n",
       "      <th>job_type</th>\n",
       "      <th>uid</th>\n",
       "    </tr>\n",
       "  </thead>\n",
       "  <tbody>\n",
       "    <tr>\n",
       "      <th>0</th>\n",
       "      <td>Rwanda</td>\n",
       "      <td>2016</td>\n",
       "      <td>uniqueid_625</td>\n",
       "      <td>Rural</td>\n",
       "      <td>Yes</td>\n",
       "      <td>7</td>\n",
       "      <td>40</td>\n",
       "      <td>Male</td>\n",
       "      <td>Head of Household</td>\n",
       "      <td>Married/Living together</td>\n",
       "      <td>No formal education</td>\n",
       "      <td>Informally employed</td>\n",
       "      <td>Rwanda_uniqueid_625</td>\n",
       "    </tr>\n",
       "    <tr>\n",
       "      <th>1</th>\n",
       "      <td>Rwanda</td>\n",
       "      <td>2016</td>\n",
       "      <td>uniqueid_1561</td>\n",
       "      <td>Rural</td>\n",
       "      <td>Yes</td>\n",
       "      <td>3</td>\n",
       "      <td>24</td>\n",
       "      <td>Male</td>\n",
       "      <td>Child</td>\n",
       "      <td>Single/Never Married</td>\n",
       "      <td>Secondary education</td>\n",
       "      <td>Farming and Fishing</td>\n",
       "      <td>Rwanda_uniqueid_1561</td>\n",
       "    </tr>\n",
       "    <tr>\n",
       "      <th>2</th>\n",
       "      <td>Rwanda</td>\n",
       "      <td>2016</td>\n",
       "      <td>uniqueid_4806</td>\n",
       "      <td>Urban</td>\n",
       "      <td>Yes</td>\n",
       "      <td>3</td>\n",
       "      <td>25</td>\n",
       "      <td>Female</td>\n",
       "      <td>Spouse</td>\n",
       "      <td>Married/Living together</td>\n",
       "      <td>Primary education</td>\n",
       "      <td>Farming and Fishing</td>\n",
       "      <td>Rwanda_uniqueid_4806</td>\n",
       "    </tr>\n",
       "    <tr>\n",
       "      <th>3</th>\n",
       "      <td>Tanzania</td>\n",
       "      <td>2017</td>\n",
       "      <td>uniqueid_4902</td>\n",
       "      <td>Urban</td>\n",
       "      <td>Yes</td>\n",
       "      <td>1</td>\n",
       "      <td>35</td>\n",
       "      <td>Female</td>\n",
       "      <td>Head of Household</td>\n",
       "      <td>Married/Living together</td>\n",
       "      <td>Primary education</td>\n",
       "      <td>Self employed</td>\n",
       "      <td>Tanzania_uniqueid_4902</td>\n",
       "    </tr>\n",
       "    <tr>\n",
       "      <th>4</th>\n",
       "      <td>Rwanda</td>\n",
       "      <td>2016</td>\n",
       "      <td>uniqueid_980</td>\n",
       "      <td>Rural</td>\n",
       "      <td>Yes</td>\n",
       "      <td>3</td>\n",
       "      <td>60</td>\n",
       "      <td>Male</td>\n",
       "      <td>Head of Household</td>\n",
       "      <td>Married/Living together</td>\n",
       "      <td>Primary education</td>\n",
       "      <td>Farming and Fishing</td>\n",
       "      <td>Rwanda_uniqueid_980</td>\n",
       "    </tr>\n",
       "  </tbody>\n",
       "</table>\n",
       "</div>"
      ],
      "text/plain": [
       "    country  year       uniqueid location_type cellphone_access  household_size  age_of_respondent gender_of_respondent relationship_with_head           marital_status      education_level             job_type                     uid\n",
       "0    Rwanda  2016   uniqueid_625         Rural              Yes               7                 40                 Male      Head of Household  Married/Living together  No formal education  Informally employed     Rwanda_uniqueid_625\n",
       "1    Rwanda  2016  uniqueid_1561         Rural              Yes               3                 24                 Male                  Child     Single/Never Married  Secondary education  Farming and Fishing    Rwanda_uniqueid_1561\n",
       "2    Rwanda  2016  uniqueid_4806         Urban              Yes               3                 25               Female                 Spouse  Married/Living together    Primary education  Farming and Fishing    Rwanda_uniqueid_4806\n",
       "3  Tanzania  2017  uniqueid_4902         Urban              Yes               1                 35               Female      Head of Household  Married/Living together    Primary education        Self employed  Tanzania_uniqueid_4902\n",
       "4    Rwanda  2016   uniqueid_980         Rural              Yes               3                 60                 Male      Head of Household  Married/Living together    Primary education  Farming and Fishing     Rwanda_uniqueid_980"
      ]
     },
     "execution_count": 249,
     "metadata": {},
     "output_type": "execute_result"
    }
   ],
   "source": [
    "df10 = df_test.copy()\n",
    "df10.head()"
   ]
  },
  {
   "cell_type": "code",
   "execution_count": 250,
   "id": "31f79ff2",
   "metadata": {
    "ExecuteTime": {
     "end_time": "2022-05-29T00:58:05.865074Z",
     "start_time": "2022-05-29T00:58:05.773676Z"
    }
   },
   "outputs": [],
   "source": [
    "# Frequencia\n",
    "# análise de frequência\n",
    "\n",
    "# country\n",
    "df10['country'], _ = freq_analysis(df10, 'country', count_country)\n",
    "\n",
    "# location_type\n",
    "df10['location_type'], _ = freq_analysis(df10, 'location_type')\n",
    "\n",
    "# cellphone_access\n",
    "df10['cellphone_access'], _ = freq_analysis(df10, 'cellphone_access', count_cellphone_access)\n",
    "\n",
    "# gender_of_respondent\n",
    "df10['gender_of_respondent'], _ = freq_analysis(df10, 'gender_of_respondent', count_gender_of_respondent)\n",
    "\n",
    "# relationship_with_head\n",
    "df10['relationship_with_head'], _ = freq_analysis(df10, 'relationship_with_head', count_relationship_with_head)\n",
    "\n",
    "# marital_status\n",
    "df10['marital_status'], _ = freq_analysis(df10, 'marital_status', count_relationship_with_head)\n",
    "\n",
    "# education_level\n",
    "df10['education_level'], _ = freq_analysis(df10, 'education_level', count_relationship_with_head)\n",
    "\n",
    "# job_type\n",
    "df10['job_type'], _ = freq_analysis(df10, 'job_type', count_relationship_with_head)\n",
    "\n",
    "# MinMax\n",
    "df10['country'] = minmax_country.transform(df10[['country']].values)\n",
    "\n",
    "df10['year'] = minmax_year.transform(df10[['year']].values)\n",
    "\n",
    "df10['location_type'] = minmax_location_type.transform(df10[['location_type']].values)\n",
    "\n",
    "df10['cellphone_access'] = minmax_cellphone_access.transform(df10[['cellphone_access']].values)\n",
    "\n",
    "df10['household_size'] = minmax_household_size.transform(df10[['household_size']].values)\n",
    "\n",
    "df10['age_of_respondent'] = minmax_age_of_respondent.transform(df10[['age_of_respondent']].values)\n",
    "\n",
    "df10['gender_of_respondent'] = minmax_gender_of_respondent.transform(df10[['gender_of_respondent']].values)\n",
    "\n",
    "df10['relationship_with_head'] = minmax_relationship_with_head.transform(df10[['relationship_with_head']].values)\n",
    "\n",
    "df10['marital_status'] = minmax_marital_status.transform(df10[['marital_status']].values)\n",
    "\n",
    "df10['education_level'] = minmax_education_level.transform(df10[['education_level']].values)\n",
    "\n",
    "df10['job_type'] = minmax_job_type.transform(df10[['job_type']].values)\n",
    "\n",
    "# Seleção de features\n",
    "X = df10.drop(['uniqueid','uid', 'year', 'gender_of_respondent', 'household_size'], axis=1)"
   ]
  },
  {
   "cell_type": "code",
   "execution_count": 251,
   "id": "3df3302b",
   "metadata": {
    "ExecuteTime": {
     "end_time": "2022-05-29T00:58:06.055148Z",
     "start_time": "2022-05-29T00:58:05.868630Z"
    }
   },
   "outputs": [
    {
     "data": {
      "text/plain": [
       "array([0, 0, 1, ..., 1, 1, 0])"
      ]
     },
     "execution_count": 251,
     "metadata": {},
     "output_type": "execute_result"
    }
   ],
   "source": [
    "yhat_test = rfc_model.predict(X)"
   ]
  },
  {
   "cell_type": "code",
   "execution_count": 259,
   "id": "46850839",
   "metadata": {
    "ExecuteTime": {
     "end_time": "2022-05-29T01:06:54.856996Z",
     "start_time": "2022-05-29T01:06:54.811868Z"
    }
   },
   "outputs": [],
   "source": [
    "df_submit = df_test.copy()\n",
    "df_submit['bank_account'] = yhat_test\n",
    "\n",
    "\n",
    "df_submit = df_submit[['uid', 'bank_account']]\n",
    "df_submit['bank_account'] = df_submit['bank_account'].apply(lambda x: 'Yes' if x == 1 else 'No')\n",
    "df_submit.to_csv('dadosInglorios.csv', index=False)"
   ]
  }
 ],
 "metadata": {
  "kernelspec": {
   "display_name": "Python 3 (ipykernel)",
   "language": "python",
   "name": "python3"
  },
  "language_info": {
   "codemirror_mode": {
    "name": "ipython",
    "version": 3
   },
   "file_extension": ".py",
   "mimetype": "text/x-python",
   "name": "python",
   "nbconvert_exporter": "python",
   "pygments_lexer": "ipython3",
   "version": "3.9.5"
  }
 },
 "nbformat": 4,
 "nbformat_minor": 5
}
